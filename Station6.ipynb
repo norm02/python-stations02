{
  "cells": [
    {
      "cell_type": "markdown",
      "metadata": {
        "id": "YI4m2FbOeBOc"
      },
      "source": [
        "| Version | Published Date| Details |\n",
        "| -- | -- | -- |\n",
        "| ver.1.0.0 | 2023/8/29 | 初版 |"
      ]
    },
    {
      "cell_type": "markdown",
      "metadata": {
        "id": "RMU3xTqbX4Ee"
      },
      "source": [
        "# 画像の操作を自動化しよう\n",
        "\n",
        "デジタルカメラを持っている人や，スマートフォンからTwitterやFacebookに写真をアップロードする人は，デジタル画像ファイルと接する機械が頻繁にあるでしょう。Windowsのペイントのような基本的なグラフィックソフトや，Adobe Photoshopのような高度なアプリをご存知の方もいるかもしれません。しかし大量の画像を編集する必要があると，手作業で編集するのは時間がかかるうえに退屈です。\n",
        "\n",
        "そこでPythonを使います。[Pillow](https://pillow.readthedocs.io/en/stable/) はサードパーティの画像処理モジュールで，切り抜き，サイズ変更，画像内容の編集を簡単に行なえます。ペイントやPhotoshopのようなソフトと同様に画像処理できる能力を駆使して，何百枚，何千枚もの画像を簡単に自動編集できます。"
      ]
    },
    {
      "cell_type": "markdown",
      "metadata": {
        "id": "fauMyCEnYT4c"
      },
      "source": [
        "# コンピュータ画像の基礎\n",
        "\n",
        "画像操作の説明の前に，コンピュータがどのように画像を表現しているのかを説明します。つまりコンピュータがどのように画像の色や座標を扱っているのか，またPillowではどのように色と座標を扱うのか，基本を説明します。\n",
        "\n",
        "## 色とRGBA値\n",
        "\n",
        "コンピュータは画像の色を **RGBA値** で表現します。RGBA値とは，色の三原色 (赤, 緑, 青) の度合いと **アルファ値** 不透明度をひとまとめにしたものです。Red, Green, Blue, AlphaでRGBAということですね。それぞれの値は0から255の値を取り， **ピクセル** (画素) のひとつずつにRGBA値が割り当てられます。ピクセルとは，コンピュータの画面で表示できる最小の単色の点のことであり，画面は何百万ものピクセルから構成されています。\n",
        "\n",
        "ピクセルのRGB値は，表示する色の濃淡の値そのものを示します。アルファ値は不透明度を示します。背景画像やデスクトップの壁紙に重ねて画像を表示するとき，アルファ値はどれだけ背景が透き通らないかを示します。0ならば透明で背景が完全に透き通り，255なら不透明で背景は見えません。\n",
        "\n",
        "Pillowでは，RGBA値は4つの整数値のタプルで表されます。たとえば，赤い色は `(255, 0, 0, 255)` で表されます。つまり，赤は最大値，緑と青の成分はなく，アルファ値が最大で不透明になります。同様に，緑は `(0, 255, 0, 255)` 青は `(0, 0, 255, 255)` です。白は全成分が最大値の `(255, 255, 255, 255)` 黒は色成分のない `(0, 0, 0, 255)` になります。アルファ値が0なら，RGBの成分に関係なく不可視になります。つまり，不可視の赤は不可視の黒と同じです。\n",
        "\n",
        "PillowはHTMLが採用している標準色名を使います。以下が抜粋です。\n",
        "\n",
        "|  色名  |  RGBA値  |\n",
        "| ---- | ---- |\n",
        "|  White  |  `(255, 255, 255, 255)`  |\n",
        "|  Green  |  `(0, 128, 0, 255)`  |\n",
        "|  Gray   |  `(128, 128, 128, 128)` |\n",
        "|  Black  |  `(0, 0, 0, 255)` |\n",
        "|  Red    |  `(255, 0, 0, 255)` |\n",
        "|  Blue   |  `(0, 0, 255, 255)` |\n",
        "|  Yellow |  `(255, 255, 0, 255)` |\n",
        "|  Purple |  `(128, 0, 128, 255)` |\n",
        "\n",
        "Pilloweには `ImageColor.getcolor()` 関数があり，色名に対応するRGBAを検索できるので，RGBA値を覚えておく必要はありません。この関数の第1引数に色名の文字列を，第2引数に `'RGBA'` という文字列を渡すと，RGBAのタプルを返します。\n"
      ]
    },
    {
      "cell_type": "code",
      "execution_count": 1,
      "metadata": {
        "id": "p0Id32JJnuge"
      },
      "outputs": [],
      "source": [
        "from PIL import ImageColor"
      ]
    },
    {
      "cell_type": "code",
      "execution_count": null,
      "metadata": {
        "id": "IPPzNlGBn-oi"
      },
      "outputs": [],
      "source": [
        "ImageColor.getcolor('red', 'RGBA')"
      ]
    },
    {
      "cell_type": "code",
      "execution_count": null,
      "metadata": {
        "id": "_3Fhc16_oBQh"
      },
      "outputs": [],
      "source": [
        "ImageColor.getcolor('RED', 'RGBA')"
      ]
    },
    {
      "cell_type": "code",
      "execution_count": null,
      "metadata": {
        "id": "azbJlALNoDhj"
      },
      "outputs": [],
      "source": [
        "ImageColor.getcolor('Black', 'RGBA')"
      ]
    },
    {
      "cell_type": "code",
      "execution_count": null,
      "metadata": {
        "id": "mydfnZDYoGcR"
      },
      "outputs": [],
      "source": [
        "ImageColor.getcolor('chocolate', 'RGBA')"
      ]
    },
    {
      "cell_type": "code",
      "execution_count": null,
      "metadata": {
        "id": "zPiK_9bWoI4z"
      },
      "outputs": [],
      "source": [
        "ImageColor.getcolor('CornflowerBlue', 'RGBA')"
      ]
    },
    {
      "cell_type": "markdown",
      "metadata": {
        "id": "vRP9NjuzrvS9"
      },
      "source": [
        "まずPILから `ImageColor` モジュールをインポートします。PillowではなくPILであることに注意してください。 `ImageColor.getcolor()` に渡す色名は大文字と小文字を区別しないので `red` と `RED` は同じRGBAタプルを返します。 `chocolate` や `CornflowerBlue` といった少し珍しい色名も渡せます。\n",
        "\n",
        "Pillowがサポートしている大量の色名に関しては [Wikipedia - ウェブカラー](https://ja.wikipedia.org/wiki/%E3%82%A6%E3%82%A7%E3%83%95%E3%82%99%E3%82%AB%E3%83%A9%E3%83%BC) を参考にしてみてください。"
      ]
    },
    {
      "cell_type": "markdown",
      "metadata": {
        "id": "DqM-E8kW7b51"
      },
      "source": [
        "## 座標と矩形タプル\n",
        "\n",
        "画像のピクセルの位置はXY座標，すなわち画像上の水平位置と垂直位置で表されます。ピクセルの **原点 (origin)** は画像の左上の点であり， `(0, 0)` で表されます。最初の0はX座標を表し，原点が0で右に行くほど増えていきます。2つ目の0はY座標を表し，原点が0で下に行くほど増えていきます。これはとても重要です。数学で習ったY座標と逆なので注意してください。\n",
        "\n",
        "<img src=\"https://drive.google.com/uc?id=1qRelceGERcTv1U4AAmKEgU4Azrfr3hBJ\" width=\"720px\">\n",
        "\n",
        "多くのPillowの関数やメソッドは **矩形タプル** の引数を取ります。つまり，画像中の矩形領域を表す4つの整数値のタプルを要求します。4つの整数は順番に次のとおりです。\n",
        "\n",
        "- **左**: 矩形の左上点のX座標\n",
        "- **上**: 矩形の左上点のY座標\n",
        "- **右**: 矩形の右下点のX座標。左の値より大きくなければならない\n",
        "- **下**: 矩形の右下点のY座標。上の値より大きくなければならない\n",
        "\n",
        "矩形には，左上点の座標が含まれますが，右下点の座標は含まれないことに注意が必要です。たとえば `(3, 1, 9, 6)` というタプルは，以下の黒いピクセルの矩形領域を表します。\n",
        "\n",
        "<img src=\"https://drive.google.com/uc?id=1jhNDGM_uQfBkrAJET2oD2q1aEfjATkq5\" width=\"480px\">"
      ]
    },
    {
      "cell_type": "markdown",
      "metadata": {
        "id": "YEI4ZIFY1Mbh"
      },
      "source": [
        "## Pillow で画像を操作する\n",
        "\n",
        "色と座標の扱い方を学んだので，さっそくPillowを使って画像を操作してみましょう。まず準備としてGoogle Driveをマウントして画像を扱えるようにします。"
      ]
    },
    {
      "cell_type": "code",
      "execution_count": 7,
      "metadata": {
        "id": "snzQ9nkW1rNH",
        "colab": {
          "base_uri": "https://localhost:8080/"
        },
        "outputId": "55a148c7-9e7f-4fee-a3a1-4f267e6f5ccc"
      },
      "outputs": [
        {
          "output_type": "stream",
          "name": "stdout",
          "text": [
            "Drive already mounted at /content/drive; to attempt to forcibly remount, call drive.mount(\"/content/drive\", force_remount=True).\n"
          ]
        }
      ],
      "source": [
        "import requests\n",
        "from google.colab import drive\n",
        "from PIL import Image\n",
        "from io import BytesIO\n",
        "\n",
        "drive.mount('/content/drive')"
      ]
    },
    {
      "cell_type": "markdown",
      "metadata": {
        "id": "MV_HoEao0Ssk"
      },
      "source": [
        "続いて，今回のStation作業用ディレクトリを `python_station` という名前で作成します。 **このセルは一度だけ実行するようにしてください。** 2回以上実行すると「ファイルがすでに存在します」といったエラーが出ます。"
      ]
    },
    {
      "cell_type": "code",
      "execution_count": 8,
      "metadata": {
        "id": "Ocd71Mkp3TZa",
        "colab": {
          "base_uri": "https://localhost:8080/",
          "height": 53
        },
        "outputId": "82ef9b7b-75a9-41ad-a1a3-b14eeb7c306e"
      },
      "outputs": [
        {
          "output_type": "execute_result",
          "data": {
            "text/plain": [
              "\"\\nimport os\\nmydrive_path = '/content/drive/MyDrive'\\nos.chdir(mydrive_path)\\nstation_path = os.path.join(mydrive_path, 'python_station')\\nos.mkdir(station_path)\\n\""
            ],
            "application/vnd.google.colaboratory.intrinsic+json": {
              "type": "string"
            }
          },
          "metadata": {},
          "execution_count": 8
        }
      ],
      "source": [
        "'''\n",
        "import os\n",
        "mydrive_path = '/content/drive/MyDrive'\n",
        "os.chdir(mydrive_path)\n",
        "station_path = os.path.join(mydrive_path, 'python_station')\n",
        "os.mkdir(station_path)\n",
        "'''"
      ]
    },
    {
      "cell_type": "code",
      "execution_count": 9,
      "metadata": {
        "id": "AWM1fEX73OlF"
      },
      "outputs": [],
      "source": [
        "import os\n",
        "\n",
        "image_url = 'https://drive.google.com/uc?id=1UynZ7dYkNgPYcUcSntLur-kC8uFp-UJR'\n",
        "response = requests.get(image_url)\n",
        "\n",
        "image = Image.open(BytesIO(response.content))\n",
        "mydrive_path = '/content/drive/MyDrive/python_station'\n",
        "save_path = os.path.join(mydrive_path, 'python.png')\n",
        "\n",
        "image.save(save_path)"
      ]
    },
    {
      "cell_type": "markdown",
      "metadata": {
        "id": "kHOLLBX6AYrG"
      },
      "source": [
        "上のセルを実行すると画像をGoogle Driveに保存できます。 `python.png` が保存できたら，読み込んでみましょう。かわいらしいヘビの画像が保存されましたか？"
      ]
    },
    {
      "cell_type": "code",
      "execution_count": null,
      "metadata": {
        "id": "_FOtNub90Bzg"
      },
      "outputs": [],
      "source": [
        "python_im = Image.open('/content/drive/MyDrive/python_station/python.png')\n",
        "python_im"
      ]
    },
    {
      "cell_type": "markdown",
      "metadata": {
        "id": "DJg0EXAd04Sj"
      },
      "source": [
        "もしこのStationを途中から再開したい場合は，作業用のディレクトリに移動する必要があります。その場合は以下のセルを実行して，ドライブのマウント→作業ディレクトリへの移動を行うようにしてください。"
      ]
    },
    {
      "cell_type": "code",
      "execution_count": null,
      "metadata": {
        "id": "4cA28_0uy4Hk"
      },
      "outputs": [],
      "source": [
        "import os\n",
        "from google.colab import drive\n",
        "drive.mount('/content/drive')\n",
        "mydrive_path = '/content/drive/MyDrive/python_station'\n",
        "os.chdir(mydrive_path)"
      ]
    },
    {
      "cell_type": "markdown",
      "metadata": {
        "id": "Yny0643TA0-Y"
      },
      "source": [
        "画像を読み込むには，Pillowから `Image` モジュールをインポートし `Image.open()` にファイル名を渡して呼び出します。そして戻り地を `python_im` のような変数に格納します。Pillowのモジュール名は `PIL` です。これは Python Image Library という古いモジュールとの互換性のためです。したがって\n",
        "\n",
        "```\n",
        "from Pillow import Image\n",
        "```\n",
        "\n",
        "ではなく\n",
        "\n",
        "```\n",
        "from PIL import Image\n",
        "```\n",
        "\n",
        "のように書きます。Pillowの設計方針に従いこのように書くことが推奨されています。\n",
        "\n",
        "`Image.open()` 関数は `Image` オブジェクトを返します。さまざまなフォーマットの画像ファイルを `Image.open()` 関数に渡すだけで `Image` オブジェクトとして読み込むことができます。 `Image` オブジェクトに変更を加えたら `save()` メソッドを使ってさまざまなフォーマットの画像ファイルに保存できます。回転やサイズ変更，切り抜き，描画といった画像操作は，すべて `Image` オブジェクトのメソッド呼び出しを通して行います。\n",
        "\n",
        "以下の例では `python.png` を読み込んだ `Image` オブジェクトが変数 `python_im` に格納されているとします。\n",
        "\n",
        "`Image` オブジェクトの `size` 属性には，画像の幅と高さをピクセル単位で表したタプルが格納されています。\n"
      ]
    },
    {
      "cell_type": "code",
      "execution_count": null,
      "metadata": {
        "id": "G1Mk_Tk4B9Ye"
      },
      "outputs": [],
      "source": [
        "python_im.size"
      ]
    },
    {
      "cell_type": "markdown",
      "metadata": {
        "id": "C6YajErVFVTe"
      },
      "source": [
        "変数 `width` と `height` に代入すれば `width` や `height` を使ってアクセスできます。"
      ]
    },
    {
      "cell_type": "code",
      "execution_count": 15,
      "metadata": {
        "id": "03kuw_Y0Ekt_"
      },
      "outputs": [],
      "source": [
        "width, height = python_im.size"
      ]
    },
    {
      "cell_type": "code",
      "execution_count": null,
      "metadata": {
        "id": "v7dhBEYnEoGQ"
      },
      "outputs": [],
      "source": [
        "width"
      ]
    },
    {
      "cell_type": "code",
      "execution_count": null,
      "metadata": {
        "id": "AhLpuW5oEpAP"
      },
      "outputs": [],
      "source": [
        "height"
      ]
    },
    {
      "cell_type": "markdown",
      "metadata": {
        "id": "voe-DCvCFdUf"
      },
      "source": [
        "`filename` 属性はファイル名を表します。"
      ]
    },
    {
      "cell_type": "code",
      "execution_count": null,
      "metadata": {
        "id": "GlpV8WQfEpyg"
      },
      "outputs": [],
      "source": [
        "python_im.filename"
      ]
    },
    {
      "cell_type": "markdown",
      "metadata": {
        "id": "DbwLfhkhFg4H"
      },
      "source": [
        "`format` と `format_description` 属性は，画像フォーマットを表す文字列です。"
      ]
    },
    {
      "cell_type": "code",
      "execution_count": null,
      "metadata": {
        "id": "7Ktw5jbGEr65"
      },
      "outputs": [],
      "source": [
        "python_im.format"
      ]
    },
    {
      "cell_type": "markdown",
      "metadata": {
        "id": "4DRi1evDFn4o"
      },
      "source": [
        "`format_description` はより詳細な説明になっています。"
      ]
    },
    {
      "cell_type": "code",
      "execution_count": null,
      "metadata": {
        "id": "c8UeW_ioEwXk"
      },
      "outputs": [],
      "source": [
        "python_im.format_description"
      ]
    },
    {
      "cell_type": "markdown",
      "metadata": {
        "id": "5fvzqlDbFuPX"
      },
      "source": [
        "`save()` メソッドに `python.gif` を渡して呼び出すと `python.gif` というファイル名で新たに画像をGoogle Driveに保存します。Pillowはファイルの拡張子が `.gif` であるのを見て，自動的にGIF形式で画像を保存します。どちらも同じ画像に基づくものですが，画像形式が異なるため完全には一致しません。"
      ]
    },
    {
      "cell_type": "code",
      "execution_count": 21,
      "metadata": {
        "id": "OdnQXmvjEyn5"
      },
      "outputs": [],
      "source": [
        "python_im.save('python.gif')"
      ]
    },
    {
      "cell_type": "markdown",
      "metadata": {
        "id": "-i5ChlopGEkl"
      },
      "source": [
        "PillowにはImageオブジェクトを返す `Image.new()` 関数もあります。`Image. open()` に似ていますが， `Image.new()` は空白の画像を返します。 `Image.new()` の引数は次のとおりです。\n",
        "\n",
        "- 文字列 `'RGBA'` 。カラーモードをRGBAにする (ここでは扱わないカラーモードが他にもあります)\n",
        "- サイズ。画像の幅と大きさを表す2つの整数のタプル\n",
        "- 初期値として画像を塗りつぶす背景色。TGBA値を表す4つの整数のタプル。`ImageColor.getcolor()` 関数の戻り値を使ってもよいし，色名の文字列を直接渡してもよい"
      ]
    },
    {
      "cell_type": "markdown",
      "metadata": {
        "id": "H4bWzxbbIsNY"
      },
      "source": [
        "まず 幅100×高さ200 で紫の背景色の画像を表す `Image` オブジェクトを生成します。それから画像を `purple_image.png` という名前で保存します。"
      ]
    },
    {
      "cell_type": "code",
      "execution_count": null,
      "metadata": {
        "id": "NP0LTo6eE1qa"
      },
      "outputs": [],
      "source": [
        "from PIL import Image\n",
        "im = Image.new('RGBA', (100, 200), 'purple')\n",
        "im.save('purple_image.png')\n",
        "im"
      ]
    },
    {
      "cell_type": "markdown",
      "metadata": {
        "id": "pkAY1THzI42A"
      },
      "source": [
        "続いて `(20, 20)` の大きさで背景色のない `Image` オブジェクトを生成します。背景色を省略すると，不可視の黒 `(0, 0, 0, 0)` がデフォルトの色として使われるので `im2` は透明背景になります。この 20×20 の透明な正方形画像を `transparent_image.png` という名前で保存します。"
      ]
    },
    {
      "cell_type": "code",
      "execution_count": null,
      "metadata": {
        "id": "ohqxpRaAIkmW"
      },
      "outputs": [],
      "source": [
        "im2 = Image.new('RGBA', (20, 20))\n",
        "im2.save('transparent_image.png')\n",
        "im2"
      ]
    },
    {
      "cell_type": "markdown",
      "metadata": {
        "id": "4LUdmPXoOnyZ"
      },
      "source": [
        "## 画像を切り抜く\n",
        "\n",
        "画像の **切り抜き** は，画像中の矩形領域を選択して，矩形外を削除する操作です。 `Image` オブジェクトの `crop()` メソッドは，矩形タプルを受け取り，切り抜いた画像を表す `Image` オブジェクトを返します。切り抜き操作は **破壊的** ではありません。すなわち，元の `Image` オブジェクトは変更されず `crop()` メソッドは新しい `Image` オブジェクトを返します。繰り返しになりますが，切り抜き領域を表す矩形タプルには，左上の点は含まれますが，右下の点は含まれません。"
      ]
    },
    {
      "cell_type": "code",
      "execution_count": null,
      "metadata": {
        "id": "j0zBsJVbPKQt"
      },
      "outputs": [],
      "source": [
        "from PIL import Image\n",
        "python_im = Image.open('python.png')\n",
        "cropped_im = python_im.crop((10, 30, 200, 150))\n",
        "cropped_im"
      ]
    },
    {
      "cell_type": "markdown",
      "metadata": {
        "id": "ZJaWdnIMQGtK"
      },
      "source": [
        "こうしてヘビの顔が切り出せました。これを `cropped_im` に格納し `save()` を呼び出して `cropped.png` に保存します。"
      ]
    },
    {
      "cell_type": "code",
      "execution_count": 25,
      "metadata": {
        "id": "mmyPW6vPPqRr"
      },
      "outputs": [],
      "source": [
        "cropped_im.save('cropped.png')"
      ]
    },
    {
      "cell_type": "markdown",
      "metadata": {
        "id": "VvdxSEpeRh8m"
      },
      "source": [
        "## 画像のコピー&ペースト\n",
        "\n",
        "`copy()` メソッドは，呼び出された `Image` オブジェクトと同じ画像データを持つ新しい `Image` オブジェクトを生成して返します。画像に変更を加えたいが，元の変更しないバージョンも残しておきたい場合に便利です。"
      ]
    },
    {
      "cell_type": "code",
      "execution_count": 26,
      "metadata": {
        "id": "SpUrgtDkRvuq"
      },
      "outputs": [],
      "source": [
        "from PIL import Image\n",
        "python_im = Image.open('python.png')\n",
        "python_copy_im = python_im.copy()"
      ]
    },
    {
      "cell_type": "markdown",
      "metadata": {
        "id": "foLWl8XFR5Be"
      },
      "source": [
        "変数 `python_im` と `python_copy_im` はそれぞれ別の `Image` オブジェクトであり， `python_copy_im` には `python_im` の画像ゼータの複製が格納されています。したがって `python_copy_im` を変更しても `python_im` には影響はありません。\n",
        "\n",
        "それでは `python_copy_im` を `paste()` メソッドを使って変更してみます。"
      ]
    },
    {
      "cell_type": "markdown",
      "metadata": {
        "id": "E5R9YYfG92ed"
      },
      "source": [
        "まず `crop()` に矩形タプルを渡して，ヘビの顔の部分に相当する `python.png` の矩形領域を切り抜きます。これで切り抜いた領域を表す `Image` オブジェクトが生成されるので `python_im` に格納します。"
      ]
    },
    {
      "cell_type": "code",
      "execution_count": null,
      "metadata": {
        "id": "I3UhXn9XR3b2"
      },
      "outputs": [],
      "source": [
        "python_im = Image.open('python.png')\n",
        "face_im = python_im.crop((10, 30, 200, 150))\n",
        "face_im.size"
      ]
    },
    {
      "cell_type": "markdown",
      "metadata": {
        "id": "HCRDs4hc-Mei"
      },
      "source": [
        "続いて `face_im` を `python_copy_im` に貼り付けます。 `paste()` メソッドは，貼り付ける `Image` オブジェクトとそれを貼り付ける左上点のXY座標を表すタプルの，2つの引数を取ります。ここでは `paste()` を3回呼び出して `face_im` を `python_copy_im` の `(0, 0,)` と `(100, 200)` と `(200, 300)` に貼り付けています。"
      ]
    },
    {
      "cell_type": "code",
      "execution_count": 28,
      "metadata": {
        "id": "aL48pAR6Sb_6"
      },
      "outputs": [],
      "source": [
        "python_copy_im.paste(face_im, (0, 0))\n",
        "python_copy_im.paste(face_im, (100, 200))\n",
        "python_copy_im.paste(face_im, (200, 300))"
      ]
    },
    {
      "cell_type": "markdown",
      "metadata": {
        "id": "t2Td7U-p-rer"
      },
      "source": [
        "変更した `python_copy_im` はこのようになりました。"
      ]
    },
    {
      "cell_type": "code",
      "execution_count": null,
      "metadata": {
        "id": "P4jhKeEbSlU1"
      },
      "outputs": [],
      "source": [
        "python_copy_im"
      ]
    },
    {
      "cell_type": "markdown",
      "metadata": {
        "id": "XPzstX_9-usZ"
      },
      "source": [
        "最後に変更した `python_copy_im` を `pasted.png` に保存します。"
      ]
    },
    {
      "cell_type": "code",
      "execution_count": 30,
      "metadata": {
        "id": "SOKoxRtV9btb"
      },
      "outputs": [],
      "source": [
        "python_copy_im.save('pasted.png')"
      ]
    },
    {
      "cell_type": "markdown",
      "metadata": {
        "id": "lZ5ClWq9CXNg"
      },
      "source": [
        "`paste()` メソッドは `Image` オブジェクトを「インプレース」で変更する点に注意してください。つまり貼り付けた画像を表す新しい `Image` オブジェクトを返すわけではないということです。 `paste()` を呼び出しつつ元の画像を変更したくない場合は `copy()` で画像の複製を作ったあと，複製に対して `paste()` を呼び出すようにします。"
      ]
    },
    {
      "cell_type": "code",
      "execution_count": null,
      "metadata": {
        "id": "fGXvarbpCnP_"
      },
      "outputs": [],
      "source": [
        "python_im_width, python_im_height = python_im.size\n",
        "face_im_width, face_im_height = face_im.size\n",
        "python_copy_two = python_im.copy()\n",
        "\n",
        "for left in range(0, python_im_width, face_im_width):\n",
        "    for top in range(0, python_im_height, face_im_height):\n",
        "        print(left, top)\n",
        "        python_copy_two.paste(face_im, (left, top))"
      ]
    },
    {
      "cell_type": "code",
      "execution_count": null,
      "metadata": {
        "id": "ndvC8RlQiM8x"
      },
      "outputs": [],
      "source": [
        "python_copy_two"
      ]
    },
    {
      "cell_type": "code",
      "execution_count": 33,
      "metadata": {
        "id": "7C9kIRkZiOPh"
      },
      "outputs": [],
      "source": [
        "python_copy_two.save('tiled.png')"
      ]
    },
    {
      "cell_type": "markdown",
      "metadata": {
        "id": "gCcwDmwvoLRA"
      },
      "source": [
        "ここではまず `python_im` の幅と高さを `python_im_width` と `python_im_height` に格納します。そして `python_im` の複製を作って `python_im_two` に格納します。貼り付ける先の画像の複製ができたので `face_im` を `python_copy_two` に貼り付けるためにループを回します。外側の `for` ループでは，変数 `left` を0から `face_im_width(=120)` ずつ増やします。内側の `for` ループでは，変数 `top` を0から `face_im_height(=215)` ずつ増やします。\n",
        "これらの入れ子になった `for` ループによって `left` と `top` の値を順番に変えながら， `python_copy_two` の上に `face_im` を敷き詰めるように貼り付けていきます。入れ子のループの様子を調べるために `left` と `top` の値を表示しています。貼り付けが完了したら，変更後の `python_copy_two` を `tiled.png` に保存します。"
      ]
    },
    {
      "cell_type": "markdown",
      "metadata": {
        "id": "UyQbu5thrWcS"
      },
      "source": [
        "## 画像サイズを変更する\n",
        "\n",
        "`resize()` メソッドを呼び出すと，指定した幅と高さにサイズを変更した新しい `Image` オブジェクトを返します。引数は新しい幅と高さを表す2つの整数のタプルです。"
      ]
    },
    {
      "cell_type": "code",
      "execution_count": 34,
      "metadata": {
        "id": "FYwrytxYoXiz"
      },
      "outputs": [],
      "source": [
        "from PIL import Image\n",
        "python_im = Image.open('python.png')\n",
        "width, height = python_im.size"
      ]
    },
    {
      "cell_type": "markdown",
      "metadata": {
        "id": "OvyJHIv05nVW"
      },
      "source": [
        "まず `python_im.size` のタプルを変数 `width` と `height` に代入します。 `python_im.size[0]` や `python_im.size[1]` と書いても動きますが `width` と `height` を使うほうがコードが読みやすくなります。"
      ]
    },
    {
      "cell_type": "code",
      "execution_count": null,
      "metadata": {
        "id": "et5-bfpy55yn"
      },
      "outputs": [],
      "source": [
        "quartersized_im = python_im.resize((width // 2, height // 2))\n",
        "quartersized_im"
      ]
    },
    {
      "cell_type": "markdown",
      "metadata": {
        "id": "TC8eqAwJ5_Q4"
      },
      "source": [
        "まず新たな幅に `width // 2` 高さに `height // 2` を渡しているので `resize()` の返す `Image` オブジェクトは，元の画像の半分の幅と高さ，つまり1/4のサイズになります。 `resize()` の引数は整数のタプルのみ受け付けます。そのため `//` を使って整数の割り算をします。"
      ]
    },
    {
      "cell_type": "code",
      "execution_count": null,
      "metadata": {
        "id": "_OM7pz0A59gI"
      },
      "outputs": [],
      "source": [
        "quartersized_im.save('quartersized.png')\n",
        "svelte_im = python_im.resize((width, height + 300))\n",
        "svelte_im"
      ]
    },
    {
      "cell_type": "markdown",
      "metadata": {
        "id": "-A79rkM7CEs7"
      },
      "source": [
        "このサイズ変更では，幅と高さが同じ比率を保っていましたが，元の画像の縦横比と異なる幅と高さを指定しても構いません。変数 `svelte_im` に格納される画像は，幅は元の画像と同じですが，高さは300ピクセル高いので，被写体の蛇が細くなります。\n",
        "`resize()` メソッドは元の `Image` オブジェクトを変更せず，新しい `Image` オブジェクトを返します。つまり，インプレースでないメソッドです。"
      ]
    },
    {
      "cell_type": "markdown",
      "metadata": {
        "id": "s9WqVTKN5oWG"
      },
      "source": [
        "画像の縦横比を維持したまま，あるサイズに収まるように縮小したい場合は `thumbnail()` メソッドを使うのが便利です。引数は最大の幅と高さを表す2つの整数のタプルで，画像が指定サイズを上回る場合には，ちょうど収まるように縮小してくれます。"
      ]
    },
    {
      "cell_type": "code",
      "execution_count": null,
      "metadata": {
        "id": "N_Khb4M17uZ1"
      },
      "outputs": [],
      "source": [
        "thumb_im = python_im.copy()\n",
        "thumb_im.size"
      ]
    },
    {
      "cell_type": "code",
      "execution_count": null,
      "metadata": {
        "id": "C0fdXSS08A4H"
      },
      "outputs": [],
      "source": [
        "thumb_im.thumbnail((100, 100))\n",
        "thumb_im.size"
      ]
    },
    {
      "cell_type": "code",
      "execution_count": null,
      "metadata": {
        "id": "N_3efEn18GlC"
      },
      "outputs": [],
      "source": [
        "thumb_im"
      ]
    },
    {
      "cell_type": "code",
      "execution_count": 40,
      "metadata": {
        "id": "YYGuxPiQ8I3v"
      },
      "outputs": [],
      "source": [
        "thumb_im.save('thumbnail.png')"
      ]
    },
    {
      "cell_type": "markdown",
      "metadata": {
        "id": "gp51otcOHabj"
      },
      "source": [
        "`thumbnail()` メソッドはインプレースなメソッドであり，元画像が変更されることに注意しましょう。元画像を変更したいなら，上の例のように `copy()` を使って元画像を保存しておきます。\n",
        "\n",
        "`thumbnail()` の戻り値は `None` なので，間違えて次のように書くと画像を失ってしまいます。"
      ]
    },
    {
      "cell_type": "code",
      "execution_count": null,
      "metadata": {
        "id": "l42domnd8LM-"
      },
      "outputs": [],
      "source": [
        "# 間違っている例\n",
        "thumb_im = thumb_im.thumbnail((100, 100))\n",
        "thumb_im == None"
      ]
    },
    {
      "cell_type": "markdown",
      "metadata": {
        "id": "ttt_6d1BV8RB"
      },
      "source": [
        "## 画像を回転・反転する\n",
        "\n",
        "`rotate()` メソッドを用いると，元の画像はそのままで，回転した画像を `Image` として返します。`rotate()` の引数は，反時計回りの回転角度を表す整数または浮動小数点数です。"
      ]
    },
    {
      "cell_type": "code",
      "execution_count": 42,
      "metadata": {
        "id": "1ZsE5LYgWRgE"
      },
      "outputs": [],
      "source": [
        "from PIL import Image\n",
        "python_im = Image.open('python.png')"
      ]
    },
    {
      "cell_type": "code",
      "execution_count": 43,
      "metadata": {
        "id": "FhABmdcOxsUv"
      },
      "outputs": [],
      "source": [
        "python_im.rotate(90).save('rotated90.png')\n",
        "python_im.rotate(180).save('rotated180.png')\n",
        "python_im.rotate(270).save('rotated180.png')"
      ]
    },
    {
      "cell_type": "code",
      "execution_count": null,
      "metadata": {
        "id": "2-JmhucE14eH"
      },
      "outputs": [],
      "source": [
        "python_im.rotate(90)"
      ]
    },
    {
      "cell_type": "code",
      "execution_count": null,
      "metadata": {
        "id": "-nXluc0c2Ieb"
      },
      "outputs": [],
      "source": [
        "python_im.rotate(180)"
      ]
    },
    {
      "cell_type": "code",
      "execution_count": null,
      "metadata": {
        "id": "CGUFQ2XN2KAm"
      },
      "outputs": [],
      "source": [
        "python_im.rotate(270)"
      ]
    },
    {
      "cell_type": "markdown",
      "metadata": {
        "id": "1ocG0MoKi0cM"
      },
      "source": [
        "ここでは `rotate()` が返す `Image` オブジェクトに対して直接 `save()` を呼び出す，メソッドの **連鎖 (Chain)** 呼び出しをしています。1行目は90度回転した画像を `rotate90.png` という名前で保存し，同様に2行目は180度，3行目は270度回転しています。\n",
        "\n",
        "90度と270度の回転では，画像の幅と高さが変わる点に注意しましょう。それ以外の角度では元画像の幅と高さが維持されます。回転によって生じたすき間には透明なピクセルが埋められます。"
      ]
    },
    {
      "cell_type": "code",
      "execution_count": null,
      "metadata": {
        "id": "bVljLXUEjJHc"
      },
      "outputs": [],
      "source": [
        "python_im.rotate(60).save('rotate60.png')\n",
        "python_im.rotate(60)"
      ]
    },
    {
      "cell_type": "markdown",
      "metadata": {
        "id": "rUemoFyqlM-t"
      },
      "source": [
        "この呼び出しでは，画像を60度回転させて `rotate60.png` に保存しています。この場合は回転した画像が収まるようにサイズが調整されています。"
      ]
    },
    {
      "cell_type": "code",
      "execution_count": null,
      "metadata": {
        "id": "AlGQDacAlGFE"
      },
      "outputs": [],
      "source": [
        "python_im.rotate(60, expand=True).save('rotate60_expand.png')\n",
        "python_im.rotate(60, expand=True)"
      ]
    },
    {
      "cell_type": "markdown",
      "metadata": {
        "id": "WeMDsFyMkxdm"
      },
      "source": [
        "`rotate()` メソッドにキーワード引数 `expand=True` を与えると，回転した画像が収まるように，新しい画像の幅や高さは大きくなります。\n",
        "\n",
        "`transpose()` メソッドを用いると，画像を胸像反転できます。引数には `Image.Transpose.FLIP_LEFT_RIGHT` か `Image.Transpose.FLIP_TOP_BOTTOM` のどちらかを渡します。"
      ]
    },
    {
      "cell_type": "code",
      "execution_count": null,
      "metadata": {
        "id": "BYPqzQGs0mGD"
      },
      "outputs": [],
      "source": [
        "h_im = python_im.transpose(Image.Transpose.FLIP_LEFT_RIGHT)\n",
        "h_im"
      ]
    },
    {
      "cell_type": "code",
      "execution_count": null,
      "metadata": {
        "id": "F92YVeQq1_L1"
      },
      "outputs": [],
      "source": [
        "v_im = python_im.transpose(Image.Transpose.FLIP_TOP_BOTTOM)\n",
        "v_im"
      ]
    },
    {
      "cell_type": "code",
      "execution_count": 51,
      "metadata": {
        "id": "fKNeKB462Eo5"
      },
      "outputs": [],
      "source": [
        "h_im.save('horizontal_flip.png')\n",
        "v_im.save('vertical_flip.png')"
      ]
    },
    {
      "cell_type": "markdown",
      "metadata": {
        "id": "cI36niOF2Jlj"
      },
      "source": [
        "`rotate()` と同様に `transpose()` も新たに `Image` オブジェクトを生成するため，元の画像は変更されません。前半では `Image.Transpose.FLIP_LEFT_RIGHT` を渡して水平方向に反転した画像を `horizontal_flip.png` に保存しています。後半では `Image.Transpose.FLIP_TOP_BOTTOM` を渡して垂直方向に反転し `vertical_flip.png` に保存しています。"
      ]
    },
    {
      "cell_type": "markdown",
      "metadata": {
        "id": "C5b1zzH8FOfR"
      },
      "source": [
        "# 確認テスト\n",
        "\n",
        "以下のコードの穴埋めをして，このStationで作った画像すべてを `100*100` のサムネイルにし，1行4枚で貼り付けた画像を作成してください。"
      ]
    },
    {
      "cell_type": "code",
      "execution_count": null,
      "metadata": {
        "id": "ib7yJPUk4n-t"
      },
      "outputs": [],
      "source": [
        "from PIL import Image\n",
        "import os\n",
        "import math\n",
        "\n",
        "file_names = [name for name in os.listdir('.') if name.endswith(('.png', '.jpg', '.jpeg'))]\n",
        "file_length = len(file_names)\n",
        "\n",
        "#一行に４枚（縦横400,区画100*100）\n",
        "white = Image.new('RGBA', (400, math.ceil(file_length / 4) * 100), 'white')\n",
        "\n",
        "for idx, name in enumerate(file_names):\n",
        "    # 画像を開く\n",
        "    image = Image.open(name)\n",
        "    # 画像をサムネイルにする\n",
        "    image.thumbnail((100,100))\n",
        "    #iは行番号、jは列番号(divmodで商と余り)\n",
        "    i, j = divmod(idx, 4)\n",
        "    left, right = i * 100, j * 100 # 画像の貼り付け位置を取得\n",
        "    # 画像を貼り付ける\n",
        "    white.paste(image, (left, right))\n",
        "\n",
        "white"
      ]
    }
  ],
  "metadata": {
    "colab": {
      "provenance": [],
      "toc_visible": true
    },
    "kernelspec": {
      "display_name": "Python 3",
      "name": "python3"
    },
    "language_info": {
      "name": "python"
    }
  },
  "nbformat": 4,
  "nbformat_minor": 0
}