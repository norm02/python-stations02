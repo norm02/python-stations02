{
  "cells": [
    {
      "cell_type": "markdown",
      "metadata": {
        "id": "wK9G-HIGp5WC"
      },
      "source": [
        "| Version | Published Date| Details |\n",
        "| -- | -- | -- |\n",
        "| ver.1.0.0 | 2023/8/29 | 初版 |"
      ]
    },
    {
      "cell_type": "markdown",
      "metadata": {
        "id": "nuSoRsVJX1jn"
      },
      "source": [
        "# Google スプレッドシートで自動化を学ぼう\n",
        "\n",
        "Googleスプレッドシート (Google Sheets) は無料で使えるWebブラウザベースの表計算アプリケーションです。Googleアカウントを持っていればだれでも利用可能であり，便利で機能が豊富であることから Microsoft Office Excel の競合製品になっています。\n",
        "\n",
        "Google Sheets には独自のAPI (APIという単語を知らなければ調べてみましょう) がありますが，それをすべて学んで使うのはやや面倒です。今回は `gspread` というサードパーティーモジュールを使って Google Colab から Google Sheets を利用します。\n",
        "\n",
        "Pythonを使ってスプレッドシートを操作することで、さまざまな情報をスプレッドシートに集約したり、より柔軟な計算処理をおこなうことができます。"
      ]
    },
    {
      "cell_type": "markdown",
      "metadata": {
        "id": "Z22KWQYFp5WN"
      },
      "source": [
        "まずはPythonのパッケージ管理ツールである `pip` を使って `gspread` をアップデートしておきます。"
      ]
    },
    {
      "cell_type": "code",
      "execution_count": 1,
      "metadata": {
        "id": "jWhbwhz2tbof",
        "colab": {
          "base_uri": "https://localhost:8080/"
        },
        "outputId": "6625fef6-52f2-48e6-adcc-6efa8b8cd1f1"
      },
      "outputs": [
        {
          "output_type": "stream",
          "name": "stdout",
          "text": [
            "Requirement already satisfied: gspread in /usr/local/lib/python3.10/dist-packages (5.10.0)\n",
            "Requirement already satisfied: google-auth>=1.12.0 in /usr/local/lib/python3.10/dist-packages (from gspread) (2.17.3)\n",
            "Requirement already satisfied: google-auth-oauthlib>=0.4.1 in /usr/local/lib/python3.10/dist-packages (from gspread) (1.0.0)\n",
            "Requirement already satisfied: cachetools<6.0,>=2.0.0 in /usr/local/lib/python3.10/dist-packages (from google-auth>=1.12.0->gspread) (5.3.1)\n",
            "Requirement already satisfied: pyasn1-modules>=0.2.1 in /usr/local/lib/python3.10/dist-packages (from google-auth>=1.12.0->gspread) (0.3.0)\n",
            "Requirement already satisfied: six>=1.9.0 in /usr/local/lib/python3.10/dist-packages (from google-auth>=1.12.0->gspread) (1.16.0)\n",
            "Requirement already satisfied: rsa<5,>=3.1.4 in /usr/local/lib/python3.10/dist-packages (from google-auth>=1.12.0->gspread) (4.9)\n",
            "Requirement already satisfied: requests-oauthlib>=0.7.0 in /usr/local/lib/python3.10/dist-packages (from google-auth-oauthlib>=0.4.1->gspread) (1.3.1)\n",
            "Requirement already satisfied: pyasn1<0.6.0,>=0.4.6 in /usr/local/lib/python3.10/dist-packages (from pyasn1-modules>=0.2.1->google-auth>=1.12.0->gspread) (0.5.0)\n",
            "Requirement already satisfied: oauthlib>=3.0.0 in /usr/local/lib/python3.10/dist-packages (from requests-oauthlib>=0.7.0->google-auth-oauthlib>=0.4.1->gspread) (3.2.2)\n",
            "Requirement already satisfied: requests>=2.0.0 in /usr/local/lib/python3.10/dist-packages (from requests-oauthlib>=0.7.0->google-auth-oauthlib>=0.4.1->gspread) (2.31.0)\n",
            "Requirement already satisfied: charset-normalizer<4,>=2 in /usr/local/lib/python3.10/dist-packages (from requests>=2.0.0->requests-oauthlib>=0.7.0->google-auth-oauthlib>=0.4.1->gspread) (3.2.0)\n",
            "Requirement already satisfied: idna<4,>=2.5 in /usr/local/lib/python3.10/dist-packages (from requests>=2.0.0->requests-oauthlib>=0.7.0->google-auth-oauthlib>=0.4.1->gspread) (3.4)\n",
            "Requirement already satisfied: urllib3<3,>=1.21.1 in /usr/local/lib/python3.10/dist-packages (from requests>=2.0.0->requests-oauthlib>=0.7.0->google-auth-oauthlib>=0.4.1->gspread) (2.0.4)\n",
            "Requirement already satisfied: certifi>=2017.4.17 in /usr/local/lib/python3.10/dist-packages (from requests>=2.0.0->requests-oauthlib>=0.7.0->google-auth-oauthlib>=0.4.1->gspread) (2023.7.22)\n"
          ]
        }
      ],
      "source": [
        "!pip install --upgrade gspread"
      ]
    },
    {
      "cell_type": "markdown",
      "metadata": {
        "id": "_y4Y9hRzp5WQ"
      },
      "source": [
        "パッケージのインストールが完了したら、このColaboratoryの**ランタイムを再起動**しましょう。\n",
        "\n",
        "ページ上部のメニューから [ランタイム] -> [ランタイムを再起動] を実行してください。\n",
        "再起動していない場合、インストールしたパッケージが`import`で正常に読み込まれない場合があります。\n",
        "\n",
        "うまく`import`できない場合はランタイムの再起動を試してみるようにしてください。"
      ]
    },
    {
      "cell_type": "markdown",
      "metadata": {
        "id": "GSUqkD9vaiQm"
      },
      "source": [
        "## Google スプレッドシートを認証する\n",
        "\n",
        "`gspread` を使う前に，まずは `gspread` を認証しましょう。「認証」は、ユーザーが正当なユーザーであることを確認するためのプロセスです。ユーザー名とパスワード、二要素認証、公開鍵暗号などの方法を使って、システムへのアクセスを制限し、セキュリティを保護します。\n",
        "\n",
        "以下のセルを実行すると，自動的にポップアップが開きます。\n",
        "\n",
        "1. Google認証情報へのアクセスの許可\n",
        "2. アクセスを許可するアカウント **(もし複数アカウントでGoogle Colabを使用している場合は注意が必要です)**\n",
        "3. Colabolatory Runtimes に対する Google アカウントへのアクセスを許可\n",
        "\n",
        "の手順でそれぞれ許可しましょう。"
      ]
    },
    {
      "cell_type": "code",
      "execution_count": 2,
      "metadata": {
        "id": "8oEcHuTiYfyu"
      },
      "outputs": [],
      "source": [
        "from google.colab import auth\n",
        "from google.auth import default\n",
        "import gspread\n",
        "\n",
        "auth.authenticate_user()\n",
        "creds, _ = default()\n",
        "gc = gspread.authorize(creds)"
      ]
    },
    {
      "cell_type": "markdown",
      "metadata": {
        "id": "ijcwOt-OGq6N"
      },
      "source": [
        "## スプレッドシートの作成，アップロード，一覧\n",
        "\n",
        "新規の `Spreadsheet` オブジェクトは，既存のスプレッドシートや，空白のスプレッドシート，アップロードされたスプレッドシートから作成できます。既存のGoogle SheetsのスプレッドシートからSpreadsheetオブジェクトを作成するには，スプレッドシートのIDが必要です。スプレッドシートのIDは，URLの `spreadsheets/d/` と `/edit` の間の部分です。\n",
        "\n",
        "たとえば https://drive.google.com/file/d/13maFkPcxHrKm5Pa2pAszmNU_m3-BnpVn/view?usp=sharing のURLのIDは `13maFkPcxHrKm5Pa2pAszmNU_m3-BnpVn` です。"
      ]
    },
    {
      "cell_type": "code",
      "execution_count": null,
      "metadata": {
        "id": "I8VRpR_rYnEz"
      },
      "outputs": [],
      "source": [
        "workbook = gc.open_by_key('13maFkPcxHrKm5Pa2pAszmNU_m3-BnpVn')\n",
        "workbook.title"
      ]
    },
    {
      "cell_type": "markdown",
      "metadata": {
        "id": "vBfJIcC-HrDP"
      },
      "source": [
        "またIDではなくURLを使うことでもスプレッドシートにアクセスすることができます。それ以外にもファイル名を使った `gc.open()` でもスプレッドシートを開くことができます。"
      ]
    },
    {
      "cell_type": "code",
      "execution_count": null,
      "metadata": {
        "id": "edjRF_iHGiuG"
      },
      "outputs": [],
      "source": [
        "workbook = gc.open_by_url('ss_url')\n",
        "workbook.id"
      ]
    },
    {
      "cell_type": "markdown",
      "metadata": {
        "id": "OZRfuzrIIBp5"
      },
      "source": [
        "### 空白のスプレッドシートを作成\n",
        "\n",
        "新規に空白のスプレッドシートを作成するには `gc.create()` を使用します。"
      ]
    },
    {
      "cell_type": "code",
      "execution_count": null,
      "metadata": {
        "id": "aZu2V_ewHlwp"
      },
      "outputs": [],
      "source": [
        "new_workbook = gc.create('新しいスプレッドシート')"
      ]
    },
    {
      "cell_type": "markdown",
      "metadata": {
        "id": "w8LPOhkAIxmO"
      },
      "source": [
        "ColabにログインしているGoogleアカウントのGoogle Driveを見ると「新しいスプレッドシート」という名のスプレッドシートが追加されているはずです。"
      ]
    },
    {
      "cell_type": "markdown",
      "metadata": {
        "id": "WjuKZaUm2J6e"
      },
      "source": [
        "## スプレッドシートの削除\n",
        "\n",
        "スプレッドシート自体の削除には `del_spreadsheet()` を使います。ゴミ箱に入らず，完全に削除されることに注意してください。"
      ]
    },
    {
      "cell_type": "code",
      "source": [
        "from google.colab import drive\n",
        "drive.mount('/content/drive')"
      ],
      "metadata": {
        "id": "ACGeRAaqr-d4"
      },
      "execution_count": null,
      "outputs": []
    },
    {
      "cell_type": "code",
      "execution_count": null,
      "metadata": {
        "id": "YZP086b9Ig1C"
      },
      "outputs": [],
      "source": [
        "gc.del_spreadsheet(new_workbook.id)"
      ]
    },
    {
      "cell_type": "markdown",
      "metadata": {
        "id": "D1waUqnELB5m"
      },
      "source": [
        "自身のGoogleアカウントに紐づくスプレッドシートの一覧は `gc.openall()` を使います。 スプレッドシートのタイトルとidの組み合わせが返ってきます。"
      ]
    },
    {
      "cell_type": "code",
      "execution_count": null,
      "metadata": {
        "id": "NOTT2uFRJGpF"
      },
      "outputs": [],
      "source": [
        "gc.openall()[:10]"
      ]
    },
    {
      "cell_type": "markdown",
      "metadata": {
        "id": "7r3ONBAdPDor"
      },
      "source": [
        "## スプレッドシートの属性\n",
        "\n",
        "ここからの操作は上記のスプレッドシートではなく，自身のドライブにコピーして作成したスプレッドシートを用いて作業をしてください。以下の手順に従いましょう。\n",
        "\n",
        "1.  [サンプルのデータセットが登録されているスプレッドシート](https://drive.google.com/file/d/13maFkPcxHrKm5Pa2pAszmNU_m3-BnpVn/view?usp=sharing) を開く。\n",
        "2. ファイル→コピーを作成 を選択\n",
        "3. わかりやすい場所にコピーを作成する\n",
        "4. コピーが完了したら，自身のドライブに作成したスプレッドシートのURLをコピーする"
      ]
    },
    {
      "cell_type": "code",
      "execution_count": null,
      "metadata": {
        "id": "A-PF_xqCTrVE"
      },
      "outputs": [],
      "source": [
        "url = 'ss_url' # ↑でコピーしたスプレッドシートのURLを入力\n",
        "workbook = gc.open_by_url(url)"
      ]
    },
    {
      "cell_type": "markdown",
      "metadata": {
        "id": "-vgKb5EzWX3-"
      },
      "source": [
        "スプレッドシートのURLを直接参照することもできます。"
      ]
    },
    {
      "cell_type": "code",
      "execution_count": null,
      "metadata": {
        "id": "ZSP8-JlvUJY_"
      },
      "outputs": [],
      "source": [
        "workbook.url    # スプレッドシートのURL"
      ]
    },
    {
      "cell_type": "markdown",
      "metadata": {
        "id": "Jo3wcembWbf7"
      },
      "source": [
        "スプレッドシートが持つシートにアクセスするには `worksheets()` メソッドを利用します。"
      ]
    },
    {
      "cell_type": "code",
      "execution_count": null,
      "metadata": {
        "id": "RN40HsShWI03"
      },
      "outputs": [],
      "source": [
        "workbook.worksheets()   # シートオブジェクトの一覧"
      ]
    },
    {
      "cell_type": "code",
      "execution_count": null,
      "metadata": {
        "id": "bwNqIPiYWoXG"
      },
      "outputs": [],
      "source": [
        "workbook.worksheets()[0]"
      ]
    },
    {
      "cell_type": "markdown",
      "metadata": {
        "id": "LQ9MWrP3WzG5"
      },
      "source": [
        "`worksheet()` メソッドにシートのタイトルを渡すことでもアクセス可能です。"
      ]
    },
    {
      "cell_type": "code",
      "execution_count": null,
      "metadata": {
        "id": "8HMYewumW3lR"
      },
      "outputs": [],
      "source": [
        "workbook.worksheet('titanic')"
      ]
    },
    {
      "cell_type": "markdown",
      "metadata": {
        "id": "c4iATj18Zbd5"
      },
      "source": [
        "`add_worksheet()` メソッドを使うと新たにシートを追加できます。"
      ]
    },
    {
      "cell_type": "code",
      "execution_count": null,
      "metadata": {
        "id": "N7w047D2M50v"
      },
      "outputs": [],
      "source": [
        "worksheet = workbook.add_worksheet(title=\"newsheet\", rows=100, cols=20)\n",
        "workbook.worksheets()"
      ]
    },
    {
      "cell_type": "markdown",
      "metadata": {
        "id": "1_19JuBnZmwE"
      },
      "source": [
        "シートを削除するには `del_worksheet()` メソッドを使います。 `newsheet` が削除されていることを確認してください。"
      ]
    },
    {
      "cell_type": "code",
      "execution_count": null,
      "metadata": {
        "id": "gPiKu266ZkFf"
      },
      "outputs": [],
      "source": [
        "workbook.del_worksheet(worksheet)\n",
        "workbook.worksheets()"
      ]
    },
    {
      "cell_type": "markdown",
      "metadata": {
        "id": "RqCxvfV0ZimN"
      },
      "source": [
        "オンラインでだれかがスプレッドシートを変更したら `fetch()` メソッドを呼び出します。これにより `Spreadsheet` オブジェクトを更新してオンラインデータを反映できます。"
      ]
    },
    {
      "cell_type": "markdown",
      "metadata": {
        "id": "rRYajNUzeV7X"
      },
      "source": [
        "## スプレッドシートをダウンロードする\n",
        "\n",
        "スプレッドシートをダウンロードする前に，Colab上では少し工夫が必要です。Colabの環境は通常のPythonの実行環境とは異なるからです。 `gspread` やその他のライブラリにとって，実行している環境が通常のPython実行環境なのか，Colab上なのかはわかりません。\n",
        "\n",
        "そのため今回はGoogle DriveをColab上のPython実行環境にマウントし，通常のファイルシステムとして扱うための準備をします。「Googleスプレッドシートを認証する」で行った手順と同様に，ColabからGoogle Driveを扱うための許可をしてください。"
      ]
    },
    {
      "cell_type": "code",
      "execution_count": null,
      "metadata": {
        "id": "thZEm21pLiBM"
      },
      "outputs": [],
      "source": [
        "from google.colab import drive\n",
        "root_path = '/content/drive'\n",
        "drive.mount(root_path)"
      ]
    },
    {
      "cell_type": "markdown",
      "metadata": {
        "id": "4RZi93y_q981"
      },
      "source": [
        "もうひとつの準備として，ファイルを保存するためのパスを指定します。ここでは `os.path.join()` メソッドを用いています。Pythonの文字列連結を使って\n",
        "\n",
        "```python\n",
        "'root_path' + '/' + 'My Drive'\n",
        "```\n",
        "\n",
        "のようにしてもよいのですが `/` を入れ忘れたり余分につけてしまったりとバグを生むことがあります。そのためPythonでパスを編集するには `os.path.join()` を使うようにしましょう。"
      ]
    },
    {
      "cell_type": "code",
      "execution_count": null,
      "metadata": {
        "id": "sV5-tkglXhXN"
      },
      "outputs": [],
      "source": [
        "import os\n",
        "filename = 'dataset.csv'\n",
        "my_drive_path = os.path.join(root_path, 'My Drive')\n",
        "my_file_path = os.path.join(my_drive_path, filename)"
      ]
    },
    {
      "cell_type": "markdown",
      "metadata": {
        "id": "aD2V0s6ByD8z"
      },
      "source": [
        "続いて `gspread.utils` から `ExportFormat` を `import` し，`csv_data` をバイト列として書き出します。それを `with` 句を使って `my_file_path` に保存します。\n",
        "\n",
        "自身のGoogle Driveを開いてみましょう。 `dataset.csv` という名前のCSVファイルが保存されていることを確認しましょう。今回はCSV形式でファイルを保存していますが，CSVは複数シートを保存できません。先頭のシートのみ保存されることに注意してください。CSV以外の対応ファイル形式については [公式ドキュメント](https://docs.gspread.org/en/latest/api/utils.html#gspread.utils.ExportFormat) を参照してください。"
      ]
    },
    {
      "cell_type": "code",
      "execution_count": null,
      "metadata": {
        "id": "Q_gJOIZjprWv"
      },
      "outputs": [],
      "source": [
        "from gspread.utils import ExportFormat\n",
        "\n",
        "csv_data = workbook.export(format=ExportFormat.CSV)\n",
        "with open(my_file_path, 'wb') as f:\n",
        "    f.write(csv_data)"
      ]
    },
    {
      "cell_type": "markdown",
      "metadata": {
        "id": "Bc8NDDfg5L06"
      },
      "source": [
        "## データを読み書きする\n",
        "\n",
        "Excelと同様に，Googleスプレッドシートのシートも値を持ったセルが行と列に並んでいます。 `[]` を用いてセルを読み書きできます。新規にスプレッドシートをつくり，データを追加してみましょう。"
      ]
    },
    {
      "cell_type": "code",
      "execution_count": null,
      "metadata": {
        "id": "MD9JOIAe5lwe"
      },
      "outputs": [],
      "source": [
        "workbook = gc.create('新しいスプレッドシート')\n",
        "sheet = workbook.worksheets()[0]    # 最初のスプレッドシートを取得"
      ]
    },
    {
      "cell_type": "code",
      "execution_count": null,
      "metadata": {
        "id": "gckJivpt5ooz"
      },
      "outputs": [],
      "source": [
        "sheet.title"
      ]
    },
    {
      "cell_type": "markdown",
      "metadata": {
        "id": "V_qd-0Wa7JGd"
      },
      "source": [
        "セルに値を設定するには `update_acell()` メソッドを使います。"
      ]
    },
    {
      "cell_type": "code",
      "execution_count": null,
      "metadata": {
        "id": "f1bxBn8_6fUS"
      },
      "outputs": [],
      "source": [
        "sheet.update_acell('A1', 'Name')"
      ]
    },
    {
      "cell_type": "code",
      "execution_count": null,
      "metadata": {
        "id": "XAItn4-T7Ro2"
      },
      "outputs": [],
      "source": [
        "sheet.update_acell('B1', 'Age')"
      ]
    },
    {
      "cell_type": "code",
      "execution_count": null,
      "metadata": {
        "id": "u2UHucJz7YVQ"
      },
      "outputs": [],
      "source": [
        "sheet.update_acell('C1', 'Favourite Movie')"
      ]
    },
    {
      "cell_type": "markdown",
      "metadata": {
        "id": "6MYuFEKU7grH"
      },
      "source": [
        "セルの値を取得するには `acell()` メソッドを使ってセルの座標を指定したあと，`value` を使います。"
      ]
    },
    {
      "cell_type": "code",
      "execution_count": null,
      "metadata": {
        "id": "mEREsWoE61rU"
      },
      "outputs": [],
      "source": [
        "sheet.acell('A1').value"
      ]
    },
    {
      "cell_type": "markdown",
      "metadata": {
        "id": "LcC5WK7r7qRu"
      },
      "source": [
        "空のセルにアクセスすると `None` が返ります。"
      ]
    },
    {
      "cell_type": "code",
      "execution_count": null,
      "metadata": {
        "id": "8e-M3iCw7Axt"
      },
      "outputs": [],
      "source": [
        "sheet.acell('A2').value is None"
      ]
    },
    {
      "cell_type": "markdown",
      "metadata": {
        "id": "RmnB4xOU8nSn"
      },
      "source": [
        "`cell()` メソッドを用いてx座標とy座標の形式でセルを指定することもできます。Pythonのリストと違いGoogleスプレッドシートの世界では，添字が0ではなく1から始まることに注意してください。\n",
        "\n",
        "座標 `(1, 2)` は `B1` と同じ場所を指します。"
      ]
    },
    {
      "cell_type": "code",
      "execution_count": null,
      "metadata": {
        "id": "P9U0SfJf7oHD"
      },
      "outputs": [],
      "source": [
        "sheet.cell(1, 2).value"
      ]
    },
    {
      "cell_type": "code",
      "execution_count": null,
      "metadata": {
        "id": "7wUbZEqt8OtX"
      },
      "outputs": [],
      "source": [
        "sheet.update_acell('A2', 'Matt')\n",
        "sheet.update_acell('B2', 30)\n",
        "sheet.update_acell('C2', 'Titanic')"
      ]
    },
    {
      "cell_type": "markdown",
      "metadata": {
        "id": "UcWoEGXk9bLG"
      },
      "source": [
        "Name | Age | Favourite Movie\n",
        "-- | -- | --\n",
        "Matt | 30 | Titanic\n",
        "\n",
        "シートを開いて，このようなシートが作成されていることを確認しましょう。"
      ]
    },
    {
      "cell_type": "markdown",
      "metadata": {
        "id": "o5T4u7J_P9__"
      },
      "source": [
        "## 列と行のアドレス指定\n",
        "\n",
        "Googleスプレッドシートのセルのアドレス指定方法はExcelと同じです。Pythonのインデックスは `0` から始まりますが，Googleスプレッドシートの列と行のインデックスは `1` から始まることに注意しましょう。つまり最初の行や列のインデックスは `0` ではなく `1` です。\n",
        "\n",
        "`a1_to_rowcol` や `rowcol_to_a1` を使うと文字列形式のアドレスと `(列, 行)` のタプル形式のアドレスを相互変換できます。"
      ]
    },
    {
      "cell_type": "code",
      "execution_count": null,
      "metadata": {
        "id": "zm6aYpcUT9sZ"
      },
      "outputs": [],
      "source": [
        "from gspread.utils import a1_to_rowcol, rowcol_to_a1\n",
        "\n",
        "a1_to_rowcol('A2')"
      ]
    },
    {
      "cell_type": "code",
      "execution_count": null,
      "metadata": {
        "id": "NbO3iVFZUIyN"
      },
      "outputs": [],
      "source": [
        "rowcol_to_a1(2, 1)"
      ]
    },
    {
      "cell_type": "markdown",
      "metadata": {
        "id": "P-hg2B3fVghp"
      },
      "source": [
        "## 列や行全体を読み書きする\n",
        "\n",
        "`Spreadsheet` オブジェクトが最初に読み込まれたとき `Worksheet` オブジェクトのすべてのデータが読み見込まれているため，セルの値を読み出すのは瞬時です。一方でセルの値をスプレッドシートに書き込むのにはネットワーク接続が必要なので，1秒程度の時間がかかります。たくさんのセルを一気に更新すると，かなり時間がかかります。\n",
        "\n",
        "そのため `Worksheet` には列や行全体のデータを一度に読み書きするメソッドがあります。 `col_values()` `row_values()` はそれぞれ列と行全体を読み込み `update()` メソッドに範囲を指定することで一括で値を更新できます。\n",
        "\n",
        "まず準備として **スプレッドシートの属性** の章でサンプルのデータセットが登録されたスプレッドシートからコピーしてきたシートのURLを入力しましょう。"
      ]
    },
    {
      "cell_type": "code",
      "execution_count": null,
      "metadata": {
        "id": "ZQAFJbTVVmAK"
      },
      "outputs": [],
      "source": [
        "url = 'ss_url' # コピーしたスプレッドシートのURLを入力\n",
        "workbook = gc.open_by_url(url)\n",
        "titanic = workbook.worksheet('titanic')"
      ]
    },
    {
      "cell_type": "code",
      "execution_count": null,
      "metadata": {
        "id": "8shaa4zZVnx3"
      },
      "outputs": [],
      "source": [
        "col_names = titanic.row_values(1)\n",
        "col_names"
      ]
    },
    {
      "cell_type": "code",
      "execution_count": null,
      "metadata": {
        "id": "3JLhpbJlatVf"
      },
      "outputs": [],
      "source": [
        "titanic.col_values(1)"
      ]
    },
    {
      "cell_type": "code",
      "execution_count": null,
      "metadata": {
        "id": "MkWgqq4ga0u2"
      },
      "outputs": [],
      "source": [
        "titanic.row_values(3)"
      ]
    },
    {
      "cell_type": "markdown",
      "metadata": {
        "id": "oYSVMJRjgbWQ"
      },
      "source": [
        "列を一気に更新したいときは列の範囲を指定し，新しい列のリストを渡します。このとき与えるのは `new_row` ではなく `[new_row]` つまり「リストのリスト」になっていることに注意します。"
      ]
    },
    {
      "cell_type": "code",
      "execution_count": null,
      "metadata": {
        "id": "D93ec45kbiMV"
      },
      "outputs": [],
      "source": [
        "new_row = [\n",
        " '2',\n",
        " '0',\n",
        " '0',\n",
        " 'Cumings, Mrs. John Bradley (Florence Briggs Thayer)',\n",
        " 'female',\n",
        " '38',\n",
        " '1',\n",
        " '0',\n",
        " 'PC 17599',\n",
        " '71.2833',\n",
        " 'C85',\n",
        " 'C']\n",
        "titanic.update('A3:L3', [new_row])"
      ]
    },
    {
      "cell_type": "markdown",
      "metadata": {
        "id": "G8U5aIxlh0Se"
      },
      "source": [
        "同様に列を一括で更新しましょう。今回は `col_names.index('Name')` で `Name` が入っているカラムの添字を取り出します。スプレッドシートの添字は1から始まるので `+1` し，乗客の名前すべてを取り出しましょう。"
      ]
    },
    {
      "cell_type": "code",
      "execution_count": null,
      "metadata": {
        "id": "A_Ebohutb4GW"
      },
      "outputs": [],
      "source": [
        "names = titanic.col_values(col_names.index('Name') + 1)"
      ]
    },
    {
      "cell_type": "markdown",
      "metadata": {
        "id": "9fVtDF6fi5j0"
      },
      "source": [
        "`upper()` メソッドを使ってそれぞれの名前を大文字にし `capital_names` に格納します。列を一括で更新する場合，リストのリスト，つまり入れ子のリストになることに注意します。"
      ]
    },
    {
      "cell_type": "code",
      "execution_count": null,
      "metadata": {
        "id": "U5GdiuhRg9qv"
      },
      "outputs": [],
      "source": [
        "capital_names = []\n",
        "for name in names:\n",
        "    capital_name = name.upper()\n",
        "    capital_names.append([capital_name])"
      ]
    },
    {
      "cell_type": "code",
      "execution_count": null,
      "metadata": {
        "id": "VSxq_bTCi2Hg"
      },
      "outputs": [],
      "source": [
        "titanic.update('D2', capital_names)"
      ]
    },
    {
      "cell_type": "markdown",
      "metadata": {
        "id": "caMSQWnastXG"
      },
      "source": [
        "## Pandasを使った読み書き\n",
        "\n",
        "しかしながら少し高度な集計や更新をしようとすると，Pandasを使いたくなるでしょう。 `gspread` にはPandasとの連携機能もあります。`get_all_records()` メソッドを使うと直接 `DataFrame` を作成できます。"
      ]
    },
    {
      "cell_type": "code",
      "execution_count": null,
      "metadata": {
        "id": "vlT5z1PPoEEY"
      },
      "outputs": [],
      "source": [
        "import pandas as pd\n",
        "df = pd.DataFrame(titanic.get_all_records())\n",
        "df"
      ]
    },
    {
      "cell_type": "markdown",
      "metadata": {
        "id": "fqxllzrUtjOo"
      },
      "source": [
        "運賃を2倍してみます。"
      ]
    },
    {
      "cell_type": "code",
      "execution_count": null,
      "metadata": {
        "id": "3mYntN47tKP3"
      },
      "outputs": [],
      "source": [
        "df[\"Fare\"] = df[\"Fare\"] * 2"
      ]
    },
    {
      "cell_type": "markdown",
      "metadata": {
        "id": "eY04aK4jtlyt"
      },
      "source": [
        "更新した `DataFrame` をアップロードするには以下のようなコードを使います。このコードはシート全体を `DataFrame` で置き換えます。毎回の作業ごとにアップロードするのではなく `DataFrame` 上での作業が終了したらアップロードするようにしましょう。"
      ]
    },
    {
      "cell_type": "code",
      "execution_count": null,
      "metadata": {
        "id": "9FvcOdsxohcD"
      },
      "outputs": [],
      "source": [
        "titanic.update([df.columns.values.tolist()] + df.values.tolist())"
      ]
    },
    {
      "cell_type": "markdown",
      "metadata": {
        "id": "ikOS3PhPp5Wz"
      },
      "source": [
        "# 確認テスト\n",
        "\n",
        "1から1,000までの数が書かれたくじを考えます。ここでは1回引いたくじは箱の中に戻します。Pythonでこのくじについての実験を行うことを考えます。 `random` モジュールの `random.choice()` を使うとあるリストから要素をひとつ取り出してくることができます。"
      ]
    },
    {
      "cell_type": "markdown",
      "metadata": {
        "id": "_2-6QCR3gcGz"
      },
      "source": [
        "## (1) 10,000回くじを引く\n",
        "\n",
        "Pythonの `random` はほんとうにランダムでしょうか。これを確かめるために，以下の手順に従ってプログラムを完成させ，問いに答えてください。\n",
        "\n",
        "1. くじから数字を10,000回取り出し，結果をリストに保存する\n",
        "1. 結果をPandasの `DataFrame` に変換する\n",
        "1. [1から1000までの数のシート](https://drive.google.com/file/d/1NOsZ8D2OStT3yoZixO7OBmRgTd9HoDAb/view?usp=sharing) を開き，自分のGoogleスプレッドシートにコピーする\n",
        "2. コピーしたスプレッドシートを開き `random_result` という名前のシートを追加する\n",
        "3. 2で作った `DataFrame` をアップロードする\n",
        "\n",
        "上記のコードが完成したらプログラムを実行しましょう。実行後、当該のスプレッドシートを開いて以下の手順を続けてください。\n",
        "\n",
        "1. 「結果」シートの `B2` セルに `=countif(random_result!B2:B10001, A2)` をコピーして貼り付ける\n",
        "1. セルの右下にカーソルを動かし，カーソルが `+` に変わるのを確認する\n",
        "1. 確認できたらダブルクリックし，式が `B` 列の最下まで入力されるのを確認する\n",
        "1. グラフが描画されていることを確認する\n",
        "1. くじの数字の出現回数の最大値をグラフから読み取る\n",
        "\n",
        "確認テストの回答欄には **「くじの数字の出現回数の最大値」を** 数字で入力してください。\n",
        "\n",
        "> 【こみみ情報】\n",
        ">\n",
        "> 数学的な性質を知っていればこの答えはすぐに導き出すことができます"
      ]
    },
    {
      "cell_type": "code",
      "execution_count": null,
      "metadata": {
        "id": "J5ayQme8lqS5"
      },
      "outputs": [],
      "source": [
        "import random\n",
        "import pandas as pd\n",
        "random.seed(100)\n",
        "\n",
        "results = []\n",
        "lottery = list(range(1, 1000 + 1)) # 1から1000までの数が含まれているくじ\n",
        "for i in range(1, 10000 + 1):\n",
        "    selected = random.choice(lottery)\n",
        "    result = (i, selected)\n",
        "    results.append(result)\n",
        "\n",
        "url = 'ss_url'\n",
        "workbook = gc.open_by_url(url)\n",
        "workbook.add_worksheet(title=\"random_result\",rows=10000,cols=2)  # ワークシートを追加する。rowsとcolsを正しく指定しましょう。\n",
        "df = pd.DataFrame(results, columns=[\"times\", \"number\"])\n",
        "# 追加したワークシートを df で置き換える"
      ]
    },
    {
      "cell_type": "code",
      "source": [
        "print(df)"
      ],
      "metadata": {
        "id": "mPbtHt96vi0d"
      },
      "execution_count": null,
      "outputs": []
    },
    {
      "cell_type": "code",
      "source": [
        "worksheet.update([df.columns.values.tolist()] + df.values.tolist())"
      ],
      "metadata": {
        "id": "fXT3btd0yB9-"
      },
      "execution_count": null,
      "outputs": []
    },
    {
      "cell_type": "markdown",
      "metadata": {
        "id": "CX2MFKKLv1vS"
      },
      "source": [
        "## (2) 1000回引けばあたりは出るか\n",
        "\n",
        "Pythonの `random` がランダムであることはわかりましたか。それでは実際にくじをひきましょう。ここでは `777` があたりのくじとします。今回の例で，このくじを1000回引いたときに、**「あたりを引く確率」**を答えてください。以下のサンプルコードを使いましょう。回答は四捨五入し、0~100の間の整数で入力してください。単位は \"%\" です。"
      ]
    },
    {
      "cell_type": "code",
      "execution_count": null,
      "metadata": {
        "id": "vYL5mIpcoQT9"
      },
      "outputs": [],
      "source": [
        "import random\n",
        "random.seed(100)\n",
        "\n",
        "length = 1000\n",
        "lottery = list(range(1, length + 1))  # 1から1000までの数が含まれている\n",
        "results = []\n",
        "times = 1000\n",
        "lucky_number = 777\n",
        "\n",
        "for i in range(times):\n",
        "    for j in range(length):\n",
        "        selected = random.choice(lottery)# lotteryから数字を取り出してきて selected に格納する\n",
        "        if selected == lucky_number:\n",
        "            # results に値を格納する\n",
        "           result = (i, selected)\n",
        "           results.append(result)\n",
        "           break\n",
        "    else:\n",
        "         print(i, \"はずれでした\")"
      ]
    },
    {
      "cell_type": "code",
      "execution_count": null,
      "metadata": {
        "id": "E8Wutz6Gp5W_"
      },
      "outputs": [],
      "source": [
        "# 確率の計算\n",
        "# 回答は四捨五入し、0~100の間の整数で入力してください。単位は \"%\" です。\n",
        "len(results) / length * 100"
      ]
    }
  ],
  "metadata": {
    "colab": {
      "provenance": []
    },
    "kernelspec": {
      "display_name": "Python 3",
      "name": "python3"
    },
    "language_info": {
      "codemirror_mode": {
        "name": "ipython",
        "version": 3
      },
      "file_extension": ".py",
      "mimetype": "text/x-python",
      "name": "python",
      "nbconvert_exporter": "python",
      "pygments_lexer": "ipython3",
      "version": "3.9.6"
    }
  },
  "nbformat": 4,
  "nbformat_minor": 0
}