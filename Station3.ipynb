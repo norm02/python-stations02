{
  "cells": [
    {
      "cell_type": "markdown",
      "metadata": {
        "id": "RKaYEsfA01jq"
      },
      "source": [
        "| Version | Published Date| Details |\n",
        "| -- | -- | -- |\n",
        "| ver.1.0.0 | 2023/8/29 | 初版 |"
      ]
    },
    {
      "cell_type": "markdown",
      "metadata": {
        "id": "i6WLVVnRRmim"
      },
      "source": [
        "# 正規表現を使いこなそう\n",
        "\n",
        "Station3では，これまでのStationで学んだ正規表現を本格的に使いこなします。しばらくは覚えるばかりで「これがいったいなんの役に立つのか」と思った方もいることでしょう。このStationでは，より多彩な正規表現を学びます。このStationが終わる頃には電話番号やメールアドレスの抽出といった，より実務的なタスクをこなすことを目指します。"
      ]
    },
    {
      "cell_type": "markdown",
      "metadata": {
        "id": "7s97_nUZSik8"
      },
      "source": [
        "## 文字集合\n",
        "\n",
        "前回のStationでは `\\d` が数字を意味することを学びました。つまり `\\d` は `0|1|2|3|4|5|6|7|8|9` の短縮形です。\n",
        "\n",
        "|  短縮形  |  意味  |\n",
        "| ---- | ---- |\n",
        "| \\d |0-9の数字|\n",
        "| \\D | 0-9の数字以外 |\n",
        "| \\w | 文字，数字，下線 (単語wordのw) |\n",
        "| \\W | 文字，数字，下線 **以外** |\n",
        "| \\s | スペース，タブ，改行 (空白spaceのs) |\n",
        "| \\S | スペース，タブ，改行 **以外** |\n",
        "\n",
        "`\\d` は数字に， `\\w` は数字，文字，下線にそれぞれマッチしますが，文字だけにマッチする短縮形がないことに注意しましょう。文字だけにマッチさせるには後述の文字集合 `[a-zA-Z]` を使います。"
      ]
    },
    {
      "cell_type": "code",
      "execution_count": 1,
      "metadata": {
        "id": "kWX9e9TRWrtx"
      },
      "outputs": [],
      "source": [
        "import re"
      ]
    },
    {
      "cell_type": "code",
      "execution_count": 2,
      "metadata": {
        "id": "bDao9RppWkfH",
        "colab": {
          "base_uri": "https://localhost:8080/"
        },
        "outputId": "7ce492e4-bc78-427b-bc83-3d94ba303f92"
      },
      "outputs": [
        {
          "output_type": "execute_result",
          "data": {
            "text/plain": [
              "['1 rat',\n",
              " '2 ox',\n",
              " '3 tiger',\n",
              " '4 rabbit',\n",
              " '5 dragon',\n",
              " '6 snake',\n",
              " '7 horse',\n",
              " '8 sheep',\n",
              " '9 monkey',\n",
              " '10 rooster',\n",
              " '11 dog',\n",
              " '12 pig']"
            ]
          },
          "metadata": {},
          "execution_count": 2
        }
      ],
      "source": [
        "zodiac_animals = re.compile(r'\\d+\\s\\w+')\n",
        "zodiac_animals.findall('1 rat, 2 ox, 3 tiger, 4 rabbit, 5 dragon, 6 snake, 7 horse, 8 sheep, 9 monkey, 10 rooster, 11 dog, 12 pig')"
      ]
    },
    {
      "cell_type": "markdown",
      "metadata": {
        "id": "__96x4DfYqJz"
      },
      "source": [
        "`\\d+\\s\\w+` は，1つ以上の数字 `\\d+` の次に、空白文字が1つ `\\s` あり，1つ以上の文字または数字または下線 `\\w+` が続く文字列にマッチします。`findall()` メソッドは，この正規表現パターンにマッチした文字列をリストとして返します。"
      ]
    },
    {
      "cell_type": "markdown",
      "metadata": {
        "id": "FL844vzRZSHN"
      },
      "source": [
        "## 独自の文字集合を定義する\n",
        "\n",
        "`\\d` や `\\w` や `\\s` のような短縮形では集合が大きすぎる場合 `[]` を使って独自の文字集合を定義できます。たとえば `[aiueoAIUEO]` は大文字と小文字の母音にマッチします。"
      ]
    },
    {
      "cell_type": "code",
      "execution_count": 3,
      "metadata": {
        "id": "uLvEZcmKWqIm",
        "colab": {
          "base_uri": "https://localhost:8080/"
        },
        "outputId": "16ee6e06-32b7-4798-9053-c0127fbfcd91"
      },
      "outputs": [
        {
          "output_type": "execute_result",
          "data": {
            "text/plain": [
              "['a', 'a', 'a', 'o', 'a', 'a']"
            ]
          },
          "metadata": {},
          "execution_count": 3
        }
      ],
      "source": [
        "vowel_regex = re.compile(r'[aiueoAIUEO]')\n",
        "vowel_regex.findall('Baby shark and Momma shark')"
      ]
    },
    {
      "cell_type": "markdown",
      "metadata": {
        "id": "xSyYV0WnrEno"
      },
      "source": [
        "また `-` を使って文字や数字の範囲を指定できます。たとえば `[0-5]` という文字集合は `0-5` の数字にだけマッチします。 `0|1|2|3|4|5` と書くよりもはるかに短く書けますね。 `[a-zA-Z0-9]` という文字集合は 小文字，大文字，数字 にマッチします。\n",
        "\n",
        "`[]` 内では，通常の正規表現の記号は解釈されないことに注意しましょう。つまり `.` `*` `?` `()` に `\\` をつける必要はありません。たとえば `[0-5.]` は 0-5 の数字とピリオドにマッチします。 `[0-5\\.]` のように書く必要はありません。\n",
        "\n",
        "`[` の直後に `^` をつけると，文字の **補集合** になります。補集合とは，定義した文字集合以外とマッチする，ということを示します。"
      ]
    },
    {
      "cell_type": "code",
      "execution_count": 4,
      "metadata": {
        "id": "LJ4871rFqqZx",
        "colab": {
          "base_uri": "https://localhost:8080/"
        },
        "outputId": "fd4534a5-34bb-4edb-ab7c-e1c9de591086"
      },
      "outputs": [
        {
          "output_type": "execute_result",
          "data": {
            "text/plain": [
              "['B',\n",
              " 'b',\n",
              " 'y',\n",
              " ' ',\n",
              " 's',\n",
              " 'h',\n",
              " 'r',\n",
              " 'k',\n",
              " ' ',\n",
              " 'n',\n",
              " 'd',\n",
              " ' ',\n",
              " 'M',\n",
              " 'm',\n",
              " 'm',\n",
              " ' ',\n",
              " 's',\n",
              " 'h',\n",
              " 'r',\n",
              " 'k']"
            ]
          },
          "metadata": {},
          "execution_count": 4
        }
      ],
      "source": [
        "consonant_regex = re.compile(r'[^aiueoAIUEO]')\n",
        "consonant_regex.findall('Baby shark and Momma shark')"
      ]
    },
    {
      "cell_type": "markdown",
      "metadata": {
        "id": "wCmwehoUvWCV"
      },
      "source": [
        "日本語の文字にマッチする正規表現は以下のように書きます。\n",
        "\n",
        "| 文字種 | 正規表現           |\n",
        "|--------|--------------------|\n",
        "| 全角英字 | `[A-Za-z]`           |\n",
        "| 全角数字 | `[0-9]`              |\n",
        "| 漢数字  | `[ 〇一二三四五六七八九 ]` |\n",
        "| ひらがな | `[\\u3040-\\u309F]`     |\n",
        "| カタカナ | `[\\u30A0-\\u30FF]`     |\n",
        "| 半角カタカナ | `[\\uFF66-\\uFF9F]`  |\n",
        "| 漢字   | `[\\u4E00-\\u9fff]`    |"
      ]
    },
    {
      "cell_type": "markdown",
      "metadata": {
        "id": "ikyY4orCw2Qc"
      },
      "source": [
        "## `^` と `$` 記号\n",
        "\n",
        "`^` には別の使い方もあり，検索対象の文字列の先頭にマッチすることを指定するときにも使います。同様に `$` は文字列の末尾にマッチします。 `^` と `$` を同時に使うと，文字列全体が正規表現とマッチすることを表します。つまり，文字列の一部がマッチするものは扱わなくなります。"
      ]
    },
    {
      "cell_type": "code",
      "execution_count": 5,
      "metadata": {
        "id": "ujZywB72vAA_",
        "colab": {
          "base_uri": "https://localhost:8080/"
        },
        "outputId": "def9e113-d170-4b39-9b19-36e1d81d0084"
      },
      "outputs": [
        {
          "output_type": "execute_result",
          "data": {
            "text/plain": [
              "<re.Match object; span=(0, 5), match='Hello'>"
            ]
          },
          "metadata": {},
          "execution_count": 5
        }
      ],
      "source": [
        "begins_with_hello = re.compile(r'^Hello')\n",
        "begins_with_hello.search('Hello, world!')"
      ]
    },
    {
      "cell_type": "code",
      "execution_count": 6,
      "metadata": {
        "id": "xJ85H6iMxLsP",
        "colab": {
          "base_uri": "https://localhost:8080/"
        },
        "outputId": "06b14226-ebb6-4b4a-edff-b680bf8a7ef4"
      },
      "outputs": [
        {
          "output_type": "execute_result",
          "data": {
            "text/plain": [
              "True"
            ]
          },
          "metadata": {},
          "execution_count": 6
        }
      ],
      "source": [
        "begins_with_hello.search('He said hello.') == None"
      ]
    },
    {
      "cell_type": "markdown",
      "metadata": {
        "id": "naJCEUAvxP5F"
      },
      "source": [
        "また `\\d$` という正規表現は `0-9` の数字で終わる文字列にマッチします。"
      ]
    },
    {
      "cell_type": "code",
      "execution_count": 7,
      "metadata": {
        "id": "Eh27WNQCxOEx",
        "colab": {
          "base_uri": "https://localhost:8080/"
        },
        "outputId": "6582e1ef-8ec3-40aa-e53f-3c01fb98e6ac"
      },
      "outputs": [
        {
          "output_type": "execute_result",
          "data": {
            "text/plain": [
              "<re.Match object; span=(17, 18), match='5'>"
            ]
          },
          "metadata": {},
          "execution_count": 7
        }
      ],
      "source": [
        "ends_with_number = re.compile(r'\\d$')\n",
        "ends_with_number.search('Your number is 765')"
      ]
    },
    {
      "cell_type": "code",
      "execution_count": 8,
      "metadata": {
        "id": "CYxFJ7PMxbci",
        "colab": {
          "base_uri": "https://localhost:8080/"
        },
        "outputId": "e0254020-e595-4670-d187-771addae6308"
      },
      "outputs": [
        {
          "output_type": "execute_result",
          "data": {
            "text/plain": [
              "True"
            ]
          },
          "metadata": {},
          "execution_count": 8
        }
      ],
      "source": [
        "ends_with_number.search('Your number is seven hundred sixty-five.') == None"
      ]
    },
    {
      "cell_type": "markdown",
      "metadata": {
        "id": "9N12gN6bxrNz"
      },
      "source": [
        "`^\\d+$` という正規表現は，全体が1文字以上の数字である文字列とマッチします。"
      ]
    },
    {
      "cell_type": "code",
      "execution_count": 9,
      "metadata": {
        "id": "1gpOyOauxiIQ",
        "colab": {
          "base_uri": "https://localhost:8080/"
        },
        "outputId": "61118a12-c4c1-4125-97f1-30bc82ceaf7b"
      },
      "outputs": [
        {
          "output_type": "execute_result",
          "data": {
            "text/plain": [
              "<re.Match object; span=(0, 10), match='9876543210'>"
            ]
          },
          "metadata": {},
          "execution_count": 9
        }
      ],
      "source": [
        "whole_string_is_num = re.compile(r'^\\d+$')\n",
        "whole_string_is_num.search('9876543210')"
      ]
    },
    {
      "cell_type": "code",
      "execution_count": 10,
      "metadata": {
        "id": "9Y1WJK06xzaZ",
        "colab": {
          "base_uri": "https://localhost:8080/"
        },
        "outputId": "0f695b14-503c-4236-baae-db222ba5f0a4"
      },
      "outputs": [
        {
          "output_type": "execute_result",
          "data": {
            "text/plain": [
              "True"
            ]
          },
          "metadata": {},
          "execution_count": 10
        }
      ],
      "source": [
        "whole_string_is_num.search('12345aahbksh67890') == None"
      ]
    },
    {
      "cell_type": "code",
      "execution_count": 11,
      "metadata": {
        "id": "SC6bF2tVx2ZI",
        "colab": {
          "base_uri": "https://localhost:8080/"
        },
        "outputId": "3b8a52a2-2a3a-43ef-c2ab-c9e168ee5535"
      },
      "outputs": [
        {
          "output_type": "execute_result",
          "data": {
            "text/plain": [
              "True"
            ]
          },
          "metadata": {},
          "execution_count": 11
        }
      ],
      "source": [
        "whole_string_is_num.search('765 283315') == None"
      ]
    },
    {
      "cell_type": "markdown",
      "metadata": {
        "id": "JGEfUjunySar"
      },
      "source": [
        "## ワイルドカード文字\n",
        "\n",
        "正規表現では `.` は **ワイルドカード** と呼ばれ，改行以外の任意の文字とマッチします。たとえば"
      ]
    },
    {
      "cell_type": "code",
      "execution_count": 12,
      "metadata": {
        "id": "LZXKLFTnx7bg",
        "colab": {
          "base_uri": "https://localhost:8080/"
        },
        "outputId": "b589d620-b523-42ce-bd89-3ea119fa80ee"
      },
      "outputs": [
        {
          "output_type": "execute_result",
          "data": {
            "text/plain": [
              "['Mat', 'sat', ' at', 'lat', 'mat', 'hat', 'fat', 'cat']"
            ]
          },
          "metadata": {},
          "execution_count": 12
        }
      ],
      "source": [
        "at_regex = re.compile(r'.at')\n",
        "at_regex.findall('Matt sat at the flat mat and chatted with his fat cat.')"
      ]
    },
    {
      "cell_type": "markdown",
      "metadata": {
        "id": "-ejhsoPMzJAL"
      },
      "source": [
        "`.` は1文字としかマッチしないため，この例の `flat` に対しては `lat` だけがマッチします。 `.` そのものとマッチさせたい場合は `\\` を使って `\\.` とエスケープします。"
      ]
    },
    {
      "cell_type": "markdown",
      "metadata": {
        "id": "cCwbUJ0JzaFu"
      },
      "source": [
        "### `.` と `*` であらゆる文字とマッチする\n",
        "\n",
        "あらゆる文字列でもマッチしたいことがあります。たとえば `名前:` にマッチしたあとに続く文字列や `名字:` にマッチしたあとに続く文字列です。このように「なんでも」にマッチさせるための正規表現は `.*` と書きます。 `.` は「改行以外の任意の1文字」であり `*` は「直前のパターンの0回以上の繰り返し」を意味するのでした。\n",
        "\n",
        "これらを組み合わせて任意の長さの文字列を表現します。"
      ]
    },
    {
      "cell_type": "code",
      "execution_count": 13,
      "metadata": {
        "id": "8Zq9RXvOyeYu",
        "colab": {
          "base_uri": "https://localhost:8080/",
          "height": 35
        },
        "outputId": "95d2d92b-133a-4a18-f885-2432b02219b4"
      },
      "outputs": [
        {
          "output_type": "execute_result",
          "data": {
            "text/plain": [
              "'炭治郎'"
            ],
            "application/vnd.google.colaboratory.intrinsic+json": {
              "type": "string"
            }
          },
          "metadata": {},
          "execution_count": 13
        }
      ],
      "source": [
        "name_regex = re.compile(r'名: (.*) 姓: (.*)')\n",
        "mo = name_regex.search('名: 炭治郎 姓: 竈門')\n",
        "mo.group(1)"
      ]
    },
    {
      "cell_type": "code",
      "execution_count": 14,
      "metadata": {
        "id": "qLfb8ncR2wEG",
        "colab": {
          "base_uri": "https://localhost:8080/",
          "height": 35
        },
        "outputId": "b886b11f-3a97-4f7b-bc60-26a67b39099c"
      },
      "outputs": [
        {
          "output_type": "execute_result",
          "data": {
            "text/plain": [
              "'竈門'"
            ],
            "application/vnd.google.colaboratory.intrinsic+json": {
              "type": "string"
            }
          },
          "metadata": {},
          "execution_count": 14
        }
      ],
      "source": [
        "mo.group(2)"
      ]
    },
    {
      "cell_type": "markdown",
      "metadata": {
        "id": "BBlWKNFv23gq"
      },
      "source": [
        "`.*` は貪欲モードを採用し，できるだけ長い文字列とマッチします。非貪欲モードにしたいときは `.*?` と疑問符を付けます。`{}` の場合と同様に，疑問符は非貪欲モードにすることを意味します。"
      ]
    },
    {
      "cell_type": "code",
      "execution_count": 15,
      "metadata": {
        "id": "dNiUjNlA2z9g",
        "colab": {
          "base_uri": "https://localhost:8080/",
          "height": 35
        },
        "outputId": "d9010695-6c07-4a0b-b9a7-8508323fe067"
      },
      "outputs": [
        {
          "output_type": "execute_result",
          "data": {
            "text/plain": [
              "'<To serve man>'"
            ],
            "application/vnd.google.colaboratory.intrinsic+json": {
              "type": "string"
            }
          },
          "metadata": {},
          "execution_count": 15
        }
      ],
      "source": [
        "nongreedy_regex = re.compile(r'<.*?>') # 非貪欲\n",
        "mo = nongreedy_regex.search('<To serve man> for lunch.>')\n",
        "mo.group()"
      ]
    },
    {
      "cell_type": "code",
      "execution_count": 16,
      "metadata": {
        "id": "51XWeyq33HbA",
        "colab": {
          "base_uri": "https://localhost:8080/",
          "height": 35
        },
        "outputId": "6ae6ee8a-957d-400e-bd59-1b0666080b31"
      },
      "outputs": [
        {
          "output_type": "execute_result",
          "data": {
            "text/plain": [
              "'<To serve man> for lunch.>'"
            ],
            "application/vnd.google.colaboratory.intrinsic+json": {
              "type": "string"
            }
          },
          "metadata": {},
          "execution_count": 16
        }
      ],
      "source": [
        "greedy_regex = re.compile(r'<.*>') # 貪欲\n",
        "mo = greedy_regex.search('<To serve man> for lunch.>')\n",
        "mo.group()"
      ]
    },
    {
      "cell_type": "markdown",
      "metadata": {
        "id": "hWO_D1_j3UZZ"
      },
      "source": [
        "この正規表現はどちらも「 `<` ではじまり，任意の文字列が続き `>` で終わる」ことを示しています。しかし `<To serve man> for lunch.>` という文字列に対しては `>` とマッチするパターンが2通りあります。非貪欲モードではできるだけ短い文字列とマッチし，貪欲モードではできるだけ長い文字列とマッチします。"
      ]
    },
    {
      "cell_type": "markdown",
      "metadata": {
        "id": "G0-EkQ5i7MZb"
      },
      "source": [
        "### `.` を改行とマッチさせる\n",
        "\n",
        "`.*` は改行以外のあらゆる文字列とマッチします。 `re.compile()` の第2引数として `re.DOTALL` を渡すと，ドット文字が改行を含むすべての文字とマッチするようになります。"
      ]
    },
    {
      "cell_type": "code",
      "execution_count": 17,
      "metadata": {
        "id": "NkOglJp93SXv",
        "colab": {
          "base_uri": "https://localhost:8080/",
          "height": 35
        },
        "outputId": "28c5ca2a-a6f6-45c1-d361-53ac758cfcbf"
      },
      "outputs": [
        {
          "output_type": "execute_result",
          "data": {
            "text/plain": [
              "\"God's in his heaven \""
            ],
            "application/vnd.google.colaboratory.intrinsic+json": {
              "type": "string"
            }
          },
          "metadata": {},
          "execution_count": 17
        }
      ],
      "source": [
        "no_newline_regex = re.compile('.*')\n",
        "no_newline_regex.search(\n",
        "    \"God's in his heaven \\n\"\n",
        "    \"All's right with the world!\\n\"\n",
        ").group()"
      ]
    },
    {
      "cell_type": "code",
      "execution_count": 18,
      "metadata": {
        "id": "omc1XitP7tna",
        "colab": {
          "base_uri": "https://localhost:8080/",
          "height": 35
        },
        "outputId": "233a73fb-8405-413f-f854-6a11b934cadc"
      },
      "outputs": [
        {
          "output_type": "execute_result",
          "data": {
            "text/plain": [
              "\"God's in his heaven \\nAll's right with the world!\\n\""
            ],
            "application/vnd.google.colaboratory.intrinsic+json": {
              "type": "string"
            }
          },
          "metadata": {},
          "execution_count": 18
        }
      ],
      "source": [
        "newline_regex = re.compile('.*', re.DOTALL)\n",
        "newline_regex.search(\n",
        "    \"God's in his heaven \\n\"\n",
        "    \"All's right with the world!\\n\"\n",
        ").group()"
      ]
    },
    {
      "cell_type": "markdown",
      "metadata": {
        "id": "NddzfJae8GFZ"
      },
      "source": [
        "`no_newline_regex` では `re.DOTALL` オプションが渡されていなかったため，最初の改行文字の前までの部分にマッチしました。一方 `newline_regex` は `re.DOTALL` オプションを使って生成したため，改行文字も含めて文字列全体にマッチしたことがわかります。"
      ]
    },
    {
      "cell_type": "markdown",
      "metadata": {
        "id": "kvIyAJkqHvwj"
      },
      "source": [
        "## 正規表現に用いる記号のまとめ\n",
        "\n",
        "ここまでたくさんの記法を説明してきました。ここで簡単に基本的な正規表現をまとめます。\n",
        "\n",
        "- `?`は，直前のグループの0回か1回の出現にマッチする\n",
        "- `*`は，直前のグループの0回以上の出現にマッチする\n",
        "- `+`は，直前のグループの1回以上の出現にマッチする\n",
        "- `{n}`は，直前のグループのn回の出現にマッチする\n",
        "- `{n,}`は，直前のグループのn回以上の出現にマッチする\n",
        "- `{,m}`は，直前のグループの0~m回の出現にマッチする\n",
        "- `{n,m}`は，直前のグループのn~m回の出現にマッチする\n",
        "- `{n,m}?`，`*?`，`+?`は，直前のグループの非貪欲マッチを行う\n",
        "- `^spam`は，「spam」から始まる文字列とマッチする\n",
        "- `spam$`は，「spam」で終わる文字列とマッチする\n",
        "- `.`は，改行文字以外の任意の1文字とマッチする\n",
        "- `\\d`，`\\w`，`\\s`は，それぞれ，数字，単語を構成する文字，空白文字にマッチする\n",
        "- `\\D`，`\\W`，`\\S`は，それぞれ，数字，単語を構成する文字，空白文字以外の文字にマッチする\n",
        "- `[abc]`は，角カッコの中の任意の1文字にマッチする（この例では、「a」か「b」か「c」）\n",
        "- `[^abc]`は，角カッコの中の文字以外の任意の1文字にマッチする"
      ]
    },
    {
      "cell_type": "markdown",
      "metadata": {
        "id": "cdImIQuhIxpa"
      },
      "source": [
        "## 大文字・小文字を無視したマッチ\n",
        "\n",
        "通常は，正規表現は大文字と小文字を区別してマッチします。例えば次の正規表現はそれぞれまったく異なる文字列とマッチします。"
      ]
    },
    {
      "cell_type": "code",
      "execution_count": 19,
      "metadata": {
        "id": "cGQPx42T8CeH"
      },
      "outputs": [],
      "source": [
        "regex1 = re.compile('Ruby')\n",
        "regex2 = re.compile('ruby')\n",
        "regex3 = re.compile('rUby')\n",
        "regex4 = re.compile('RUBY')"
      ]
    },
    {
      "cell_type": "markdown",
      "metadata": {
        "id": "SqyzNO9wJg2I"
      },
      "source": [
        "大文字と小文字を区別せずにマッチしたいときがあります。そうするには `re.compile()` に `re.IGNORECASE` もしくは `re.I` オプションを渡します。"
      ]
    },
    {
      "cell_type": "code",
      "execution_count": 20,
      "metadata": {
        "id": "wXyzSFnLG8TX",
        "colab": {
          "base_uri": "https://localhost:8080/",
          "height": 35
        },
        "outputId": "30226109-8ecb-43f7-9d9c-ea7ceb700e23"
      },
      "outputs": [
        {
          "output_type": "execute_result",
          "data": {
            "text/plain": [
              "'Ruby'"
            ],
            "application/vnd.google.colaboratory.intrinsic+json": {
              "type": "string"
            }
          },
          "metadata": {},
          "execution_count": 20
        }
      ],
      "source": [
        "ruby = re.compile(r'ruby', re.I)\n",
        "ruby.search('Ruby is an interpreted, high-level, general-purpose programming language').group()"
      ]
    },
    {
      "cell_type": "code",
      "execution_count": 21,
      "metadata": {
        "id": "2GE6yIzWLd9M",
        "colab": {
          "base_uri": "https://localhost:8080/",
          "height": 35
        },
        "outputId": "e7c05335-94fe-4859-fe01-a60b2b40d932"
      },
      "outputs": [
        {
          "output_type": "execute_result",
          "data": {
            "text/plain": [
              "'RUBY'"
            ],
            "application/vnd.google.colaboratory.intrinsic+json": {
              "type": "string"
            }
          },
          "metadata": {},
          "execution_count": 21
        }
      ],
      "source": [
        "ruby.search('RUBY is an interpreted, high-level, general-purpose programming language').group()"
      ]
    },
    {
      "cell_type": "code",
      "execution_count": 22,
      "metadata": {
        "id": "KjCdlEGrLoQ-",
        "colab": {
          "base_uri": "https://localhost:8080/",
          "height": 35
        },
        "outputId": "947a31d4-f601-45a8-d60b-a771b970524a"
      },
      "outputs": [
        {
          "output_type": "execute_result",
          "data": {
            "text/plain": [
              "'ruby'"
            ],
            "application/vnd.google.colaboratory.intrinsic+json": {
              "type": "string"
            }
          },
          "metadata": {},
          "execution_count": 22
        }
      ],
      "source": [
        "ruby.search('ruby is an interpreted, high-level, general-purpose programming language').group()"
      ]
    },
    {
      "cell_type": "markdown",
      "metadata": {
        "id": "8rZ4RFBLNIeK"
      },
      "source": [
        "## `sub()` メソッドを用いて文字列を置換する\n",
        "\n",
        "正規表現は文字列のパターン検索だけではなく，文字列の置換もすることもできます。 `Regex` オブジェクトの `sub()` メソッドは引数を2つ取ります。第1引数は置き換える文字列，第2引数は検索置換対象の文字列です。 `sub()` メソッドは置換後の文字列を返します。"
      ]
    },
    {
      "cell_type": "code",
      "execution_count": 23,
      "metadata": {
        "id": "YXt6-vwxNFoH",
        "colab": {
          "base_uri": "https://localhost:8080/",
          "height": 35
        },
        "outputId": "fe11744e-f37c-4283-f2e0-8c456d0b1015"
      },
      "outputs": [
        {
          "output_type": "execute_result",
          "data": {
            "text/plain": [
              "'***CENSORED*** gave the secret documents to ***CENSORED***'"
            ],
            "application/vnd.google.colaboratory.intrinsic+json": {
              "type": "string"
            }
          },
          "metadata": {},
          "execution_count": 23
        }
      ],
      "source": [
        "names_regex = re.compile(r'Agent \\w+')\n",
        "names_regex.sub('***CENSORED***', \"Agent Matt gave the secret documents to Agent Mary\")"
      ]
    },
    {
      "cell_type": "markdown",
      "metadata": {
        "id": "Xn9aqd5iOtHl"
      },
      "source": [
        "マッチした文字列を，置換の一部として使いたい場合もあります。その場合は `sub()` の第1引数に `\\1` `\\2` `\\3` のように，グループの番号を使って記述します。\n",
        "\n",
        "たとえば，個人情報を含む名前を検索し，頭文字だけで表示するとしましょう。そうするには `(\\w)\\w*` という正規表現を用いて `sub()` の第1引数に `\\1****` を渡します。`\\1` がグループ1にマッチした文字列であり，今回の場合は正規表現の `(\\w)` に置き換わります。"
      ]
    },
    {
      "cell_type": "code",
      "execution_count": 24,
      "metadata": {
        "id": "tpTbArwNOmaz",
        "colab": {
          "base_uri": "https://localhost:8080/",
          "height": 35
        },
        "outputId": "b994ab17-e51b-4623-a4e0-1eabf1427678"
      },
      "outputs": [
        {
          "output_type": "execute_result",
          "data": {
            "text/plain": [
              "'A**** told C**** that E**** knew B**** was a double agent'"
            ],
            "application/vnd.google.colaboratory.intrinsic+json": {
              "type": "string"
            }
          },
          "metadata": {},
          "execution_count": 24
        }
      ],
      "source": [
        "agent_names_regex = re.compile(r'Agent (\\w)\\w*')\n",
        "agent_names_regex.sub(r'\\1****', \"Agent Anderson told Agent Campbell that Agent Edwards knew Agent Bennett was a double agent\")"
      ]
    },
    {
      "cell_type": "markdown",
      "metadata": {
        "id": "HgFavzKmVcx3"
      },
      "source": [
        "## 複雑な正規表現を管理する\n",
        "\n",
        "正規表現は，テキストのパターンが単純なうちはよいのですが，複雑になってくると長くてややこしい記述が必要になります。この場合は，正規表現の文字列の中に含まれる空白文字やコメントを無視するように `re.compile()` に指定すればこの問題を緩和できます。この **冗長モード** を指定するには `re.compile()` に `re.VERBOSE` を渡します。"
      ]
    },
    {
      "cell_type": "code",
      "execution_count": 25,
      "metadata": {
        "id": "XZasCU5lUWBw"
      },
      "outputs": [],
      "source": [
        " phone_regex = re.compile(r'((\\d{3}|\\(\\d{3}\\))?(\\s|-|\\.)?\\d{3}(\\s|-|\\.)'\n",
        "                             r'\\d{4}(\\s*(ext|x|ext.)\\s*\\d{2,5})?)')"
      ]
    },
    {
      "cell_type": "markdown",
      "metadata": {
        "id": "wqNnF2AxXB6C"
      },
      "source": [
        "のような難解な1行の正規表現を"
      ]
    },
    {
      "cell_type": "code",
      "execution_count": 26,
      "metadata": {
        "id": "1GxLt3KdXIuk"
      },
      "outputs": [],
      "source": [
        "phone_regex = re.compile(r\"\"\"(\n",
        "    (\\d{3}|\\(\\d{3}\\))?              # 3桁の市外局番(()が付いていてもよい)\n",
        "    (\\s|-|\\.)?                      # 区切り(スペースかハイフンかドット)\n",
        "    \\d{3}                           # 3桁の市内局番\n",
        "    (\\s|-|\\.)                       # 区切り\n",
        "    \\d{4}                           # 4桁の番号\n",
        "    (\\s*(ext|x|ext.)\\s*\\d{2,5})?    # 2~5桁の内線番号\n",
        "    )\"\"\", re.VERBOSE)"
      ]
    },
    {
      "cell_type": "markdown",
      "metadata": {
        "id": "nwo8Qj7gXyQt"
      },
      "source": [
        "のようにも書けます。正規表現の文字列中のコメントの書き方はPythonのコードと同じです。このように書いた場合は文字列中の余分な空白もマッチする文字列には含まれなくなります。"
      ]
    },
    {
      "cell_type": "code",
      "execution_count": 27,
      "metadata": {
        "id": "ZbKc6twyX7u_",
        "colab": {
          "base_uri": "https://localhost:8080/",
          "height": 35
        },
        "outputId": "468db4db-c3c0-4c7a-ed91-77f2249f6271"
      },
      "outputs": [
        {
          "output_type": "execute_result",
          "data": {
            "text/plain": [
              "'\\nThis is\\nvery looooooooooooong\\nsentence\\n'"
            ],
            "application/vnd.google.colaboratory.intrinsic+json": {
              "type": "string"
            }
          },
          "metadata": {},
          "execution_count": 27
        }
      ],
      "source": [
        "text = \"\"\"\n",
        "This is\n",
        "very looooooooooooong\n",
        "sentence\n",
        "\"\"\"\n",
        "text"
      ]
    },
    {
      "cell_type": "markdown",
      "metadata": {
        "id": "6rxN4x4WX4aO"
      },
      "source": [
        "行数の多いテキストをPythonで書く場合，このように `\"\"\"` と `\"\"\"` で囲むと複数行に渡って可読性を高めながらテキストを書けることは覚えておくとよいでしょう。改行を取り除きたい場合は `replace()` メソッドを使うと便利です。"
      ]
    },
    {
      "cell_type": "code",
      "execution_count": 28,
      "metadata": {
        "id": "7mXbUZQ5X5xs",
        "colab": {
          "base_uri": "https://localhost:8080/",
          "height": 35
        },
        "outputId": "10d5f20e-b859-4dde-9f52-cc420f3d1e0a"
      },
      "outputs": [
        {
          "output_type": "execute_result",
          "data": {
            "text/plain": [
              "'This isvery looooooooooooongsentence'"
            ],
            "application/vnd.google.colaboratory.intrinsic+json": {
              "type": "string"
            }
          },
          "metadata": {},
          "execution_count": 28
        }
      ],
      "source": [
        "text.replace(\"\\n\", \"\")"
      ]
    },
    {
      "cell_type": "markdown",
      "metadata": {
        "id": "miNJcZprfUfh"
      },
      "source": [
        "# 電話番号とメールアドレスを抽出\n",
        "\n",
        "自動化のStationでは，今までのStationとは違い，より実務的なプロジェクトに取り組みます。ここで大量のウェブページや文書から，すべての電話番号とメールアドレスを見つけ出すことを考えます。\n",
        "\n",
        "手作業でページをスクロールして探し出すのはとても長い時間がかかることでしょう。しかしColabに貼り付けたテキストから電話番号とメールアドレスを検索してくれるプログラムがあれば `Ctrl/Comman + A` で全テキストを選択，`Ctrl/Comman + C` でColabに貼り付け，プログラムを実行するだけで済みます。\n",
        "\n",
        "こういった少し重たい自動化処理をPythonで行う場合，すぐにコードを書きたくなる方もいることでしょう。しかしいきなり取りかかるのではなく，まずは全体を構想した方が，多くの場合より楽に速く問題を解くことができます。\n",
        "\n",
        "たとえば，電話番号とメールアドレスを抽出するためには，次のような機能が必要です。\n",
        "\n",
        "1. 貼り付けられたテキストを読み込む\n",
        "2. テキストから電話番号とメールアドレスを見つける\n",
        "3. 見つけたパターンを表示する\n",
        "\n",
        "次にこれをコードで実現する方法を考えます。コードは次のようなことをする必要があります。\n",
        "\n",
        "1. 電話番号用とメールアドレス用の2つの正規表現を作る\n",
        "2. 2つの正規表現にマッチするすべての文字列を取得する\n",
        "3. マッチした文字列をきれいに整形して表示する\n",
        "4. 何も見つからなかったときにメッセージを表示する\n",
        "\n",
        "このようなロードマップを作ると，それぞれの問題に集中して取り組めます。少しむずかしく感じるかもしれませんが，今まで学んだことを使えば実現できます。"
      ]
    },
    {
      "cell_type": "markdown",
      "metadata": {
        "id": "OmSHV7k4zOZU"
      },
      "source": [
        "## 電話番号の抽出\n",
        "\n",
        "日本の電話番号は，市外局番が0からはじまる1-4桁，市内局番が1-4桁，加入者番号が4桁であり，正規表現は次のようになります。市外局番は数字かそれぞれが丸カッコで囲まれたもののどちらかであるため `|` で区切って記述しています。それぞれが何とマッチするのかを忘れないようにコメントをつけています。"
      ]
    },
    {
      "cell_type": "code",
      "execution_count": 29,
      "metadata": {
        "id": "kwNcuZK6g_m2"
      },
      "outputs": [],
      "source": [
        "phone_regex = re.compile(r\"\"\"(\n",
        "    (0\\d{0,3}|\\(0\\d{0,3}\\))         # 市外局番\n",
        "    (\\s|-)                          # 区切り\n",
        "    (\\d{1,4})                       # 市内局番\n",
        "    (\\s|-)                          # 区切り\n",
        "    (\\d{3,4})                       # 加入者番号\n",
        "    (\\s*(ext|x|ext.)\\s*(\\d{2,5}))?  # 内線番号\n",
        "    )\"\"\", re.VERBOSE)"
      ]
    },
    {
      "cell_type": "markdown",
      "metadata": {
        "id": "Pc3ivq401KNj"
      },
      "source": [
        "## メールアドレスの抽出\n",
        "\n",
        "同様に，メールアドレスの正規表現をつくります。プログラムは次のようになるでしょう。"
      ]
    },
    {
      "cell_type": "code",
      "execution_count": 30,
      "metadata": {
        "id": "a6No9FFO1hPT"
      },
      "outputs": [],
      "source": [
        "email_regex = re.compile(r\"\"\"(\n",
        "    [a-zA-Z0-9._%+-]+   # ユーザー名\n",
        "    @                   # @記号\n",
        "    [a-zA-Z0-9.-]+      # ドメイン名\n",
        "    (\\.[a-zA-Z]{2,4})   # ドットの後\n",
        ")\"\"\", re.VERBOSE)"
      ]
    },
    {
      "cell_type": "markdown",
      "metadata": {
        "id": "q-0ae35U1z3A"
      },
      "source": [
        "メールアドレスのユーザー名の部分は，小文字，大文字，数字，ドット，下線，パーセント，プラス，ハイフンから1文字以上使って構成されます。これらは文字集合 `[a-zA-Z0-9._%+-]` として表わせ，1つ以上あるので `+` をつけます。\n",
        "\n",
        "ユーザー名とドメイン名は `@` で区切ります。ドメイン名に使える文字は少し限定されていて，アルファベット，数字，ドット，ハイフンだけなので `[a-zA-Z]` とします。最後に「ドットの後」の部分 (技術的にはトップレベルドメインといいます) は，文字通り「ドットの後」としここでは2-4文字とします。\n",
        "\n",
        "実際にはメールアドレスの形式にはより複雑なルールがあります。ここで書いた正規表現があらゆる正しいメールアドレスにマッチするものではありませんが，よくあるメールアドレスの大部分にはマッチするでしょう。"
      ]
    },
    {
      "cell_type": "markdown",
      "metadata": {
        "id": "CsCwqGi_4m_-"
      },
      "source": [
        "## セル内のテキストを検索する\n",
        "\n",
        "電話番号とメールアドレスそれぞれのための正規表現を準備できました。それではPythonの `re` にはついにColabのセルに書かれたテキストを検索してもらいましょう。ここでは以前に学んだ `findall()` メソッドを使います。"
      ]
    },
    {
      "cell_type": "code",
      "execution_count": 31,
      "metadata": {
        "id": "iAQS2M7B2l6K"
      },
      "outputs": [],
      "source": [
        "text = \"\"\"\n",
        "お問い合わせありがとうございます。\n",
        "\n",
        "ご不明点やご質問がございましたら、お気軽にお知らせください。\n",
        "\n",
        "お問い合わせ先の連絡先情報は以下の通りです：\n",
        "\n",
        "電話番号：\n",
        "\n",
        "本社：(0120)-1234-5678\n",
        "支店1：03-9876-5432\n",
        "支店2：052-2468-1357\n",
        "メールアドレス：\n",
        "\n",
        "一般お問い合わせ：info@example.com\n",
        "カスタマーサポート：support@example.com\n",
        "営業部門：sales@example.com\n",
        "鈴木：suzuki.taro@example.cs.com\n",
        "お手数ですが、お問い合わせの際は、以下の情報をお知らせください：\n",
        "\n",
        "お名前：\n",
        "ご連絡先（電話番号またはメールアドレス）：\n",
        "お問い合わせ内容：\n",
        "\n",
        "ご連絡いただいた内容に対し、迅速に対応させていただきます。\n",
        "どうぞよろしくお願いいたします。\n",
        "\"\"\""
      ]
    },
    {
      "cell_type": "code",
      "execution_count": 32,
      "metadata": {
        "id": "GEC-zWob486-"
      },
      "outputs": [],
      "source": [
        "matches = []\n",
        "\n",
        "for groups in phone_regex.findall(text):\n",
        "    phone_num = '-'.join([groups[1], groups[3], groups[5]])\n",
        "    if groups[8] != '':\n",
        "        phone_num += ' x' + groups[8]\n",
        "    matches.append(phone_num)\n",
        "\n",
        "for groups in email_regex.findall(text):\n",
        "    matches.append(groups[0])"
      ]
    },
    {
      "cell_type": "markdown",
      "metadata": {
        "id": "D3TIphC57ab6"
      },
      "source": [
        "正規表現がマッチするたびに1つのタプルが作られ，正規表現のグループに対応する文字列が格納されています。 `groups[0]` は正規表現全体を表すため，タプルの先頭要素は検索したい対象そのものとなります。\n",
        "\n",
        "検索結果は定義した `matches` リストに記録していきます。最初は空リスト `[]` として `for` ループを2回回します。まずメールアドレスを調べ，そのあとに電話番号を調べます。メールアドレスは `groups[0]` を使って単にマッチした文字列の全体を追加しています。一方で電話番号は単純に追加することはしません。この正規表現はさまざまな形式の電話番号を見つけ出しますが，追加するのはひとつの標準フォーマットにしておいた方が便利です。そのため `phone_num` 変数には `groups[1], groups[3], groups[5], groups[8]` にマッチした文字列から構成した文字列を格納します。それぞれ市外局番，3桁の番号，4桁の番号，内線番号に相当します。グループ番号は，グループの開きカッコが出てくる順に数えます。"
      ]
    },
    {
      "cell_type": "markdown",
      "metadata": {
        "id": "qKORR3DI8646"
      },
      "source": [
        "## 検索結果をひとまとめにする\n",
        "\n",
        "以上で `matches` に文字列のリストとして電話番号とメールアドレスを取得できました。今度はこれを見やすく表示してみます。ここではPythonのリストが `[]` である場合は `False` そうでなければ `True` を返すことを利用しています。"
      ]
    },
    {
      "cell_type": "code",
      "execution_count": 33,
      "metadata": {
        "id": "ZpUnpz6w7JKB",
        "colab": {
          "base_uri": "https://localhost:8080/"
        },
        "outputId": "62788789-218a-415f-95f7-7f4b62a1bf1a"
      },
      "outputs": [
        {
          "output_type": "stream",
          "name": "stdout",
          "text": [
            "見つかった電話番号とメールアドレスはこちらです: \n",
            "(0120)-1234-5678\n",
            "03-9876-5432\n",
            "052-2468-1357\n",
            "info@example.com\n",
            "support@example.com\n",
            "sales@example.com\n",
            "suzuki.taro@example.cs.com\n"
          ]
        }
      ],
      "source": [
        "if matches:\n",
        "    matched_text = \"\\n\".join(matches)\n",
        "    print(\"見つかった電話番号とメールアドレスはこちらです: \")\n",
        "    print(matched_text)\n",
        "else:\n",
        "    print(\"電話番号とメールアドレスは見つかりませんでした\")"
      ]
    },
    {
      "cell_type": "markdown",
      "metadata": {
        "id": "9SJhMn1q_uqj"
      },
      "source": [
        "# 確認テスト\n",
        "\n",
        "個人情報が含まれたcsvファイルである `personal_info` を使って以下の問いに答えてください。このファイルに含まれる個人情報はすべてダミーであり，プログラムによって生成したものです。テストの回答はそれぞれ以下の質問の答えを数字で入力してください。プログラムのソースコードを入力する必要はありません。\n",
        "\n",
        "1. 携帯電話番号の下2桁が `11` である人の人数を答えてください。\n",
        "1. 早生まれの人数を答えてください。早生まれとは，生まれた月が1月から3月の人を指します。\n",
        "1. 東京23区に住む人数を答えてください。東京23区の住所は必ず「東京都○○区」と表されることに注意してください。例: 東京都渋谷区，東京都北区"
      ]
    },
    {
      "cell_type": "code",
      "execution_count": 34,
      "metadata": {
        "id": "e-zz0aW2ARke",
        "colab": {
          "base_uri": "https://localhost:8080/",
          "height": 615
        },
        "outputId": "a076b58c-eabb-4387-e2ef-da5aa9582b94"
      },
      "outputs": [
        {
          "output_type": "execute_result",
          "data": {
            "text/plain": [
              "         氏名   氏名（ひらがな）  年齢         生年月日      性別 血液型  \\\n",
              "0     野田 大知     のだ だいち  67  1955年12月23日       男   A   \n",
              "1     金田 英俊   かねだ ひでとし  56  1966年05月20日       男   O   \n",
              "2     稲村 政昭  いなむら まさあき  62  1960年11月19日       男   A   \n",
              "3     中島 一弘  なかじま かずひろ  37  1986年02月01日  その他・不明   A   \n",
              "4     大塚 愛美   おおつか めぐみ  62  1961年02月13日       女   B   \n",
              "..      ...        ...  ..          ...     ...  ..   \n",
              "195   古川 聡太   ふるかわ そうた  35  1987年12月22日       男   B   \n",
              "196  宇佐美 紘子    うさみ ひろこ  21  2002年02月17日       女   B   \n",
              "197   吉池 博子   よしいけ ひろこ  27  1995年08月28日       女   O   \n",
              "198  坂本 亜紀子   さかもと あきこ  42  1980年12月13日       女   A   \n",
              "199   山口 千尋   やまぐち ちひろ  29  1993年09月09日       女   A   \n",
              "\n",
              "                           メールアドレス          電話番号         携帯電話番号      郵便番号  \\\n",
              "0           nodadaichi@example.com  0964-63-4407  080-8537-4965  867-2838   \n",
              "1      kanedahidetoshi@example.org  0846-39-1554  080-3826-9491  730-7952   \n",
              "2       inamuramasaaki@example.net  06-6819-4382  080-4393-4681  577-6363   \n",
              "3    nakajima_kazuhiro@example.com  03-8838-4950  080-2420-0588  119-6946   \n",
              "4      otsuka_megumi@example.ne.jp  01587-7-2293  050-8744-2152  079-4718   \n",
              "..                             ...           ...            ...       ...   \n",
              "195       furukawasota@example.com  0267-77-2518  090-1424-3975  392-9646   \n",
              "196        hirokousami@example.com  0494-05-3136  080-6575-1815  347-1039   \n",
              "197    yoshiike_hiroko@example.com  03-0362-8237  070-3530-6019  202-5618   \n",
              "198     sakamoto1213@example.ne.jp  0564-53-7373  080-8975-8091  445-2380   \n",
              "199      yamaguchi99@example.co.jp  098-040-1206  070-5670-2041  903-9529   \n",
              "\n",
              "                       住所          会社名  \n",
              "0        熊本県熊本市西区春日2-4-10          NaN  \n",
              "1         広島県福山市川口町1-2-12  合名会社染谷農機工作所  \n",
              "2      大阪府大阪市住之江区南港中4-2-4          NaN  \n",
              "3          東京都渋谷区広尾2-5-15       合資会社橘屋  \n",
              "4      北海道沙流郡日高町富川南3-2-18          NaN  \n",
              "..                    ...          ...  \n",
              "195         長野県松本市中央1-2-3    株式会社ケンテック  \n",
              "196   埼玉県南埼玉郡宮代町川端2-4-202      有限会社ツカサ  \n",
              "197       東京都渋谷区恵比寿1-1-18          NaN  \n",
              "198  愛知県名古屋市西区上名古屋3-3-903     株式会社HERO  \n",
              "199     沖縄県那覇市おもろまち1-1-22          NaN  \n",
              "\n",
              "[200 rows x 12 columns]"
            ],
            "text/html": [
              "\n",
              "  <div id=\"df-3f8611b8-f24a-4021-87bb-a3a17cd7a6b9\" class=\"colab-df-container\">\n",
              "    <div>\n",
              "<style scoped>\n",
              "    .dataframe tbody tr th:only-of-type {\n",
              "        vertical-align: middle;\n",
              "    }\n",
              "\n",
              "    .dataframe tbody tr th {\n",
              "        vertical-align: top;\n",
              "    }\n",
              "\n",
              "    .dataframe thead th {\n",
              "        text-align: right;\n",
              "    }\n",
              "</style>\n",
              "<table border=\"1\" class=\"dataframe\">\n",
              "  <thead>\n",
              "    <tr style=\"text-align: right;\">\n",
              "      <th></th>\n",
              "      <th>氏名</th>\n",
              "      <th>氏名（ひらがな）</th>\n",
              "      <th>年齢</th>\n",
              "      <th>生年月日</th>\n",
              "      <th>性別</th>\n",
              "      <th>血液型</th>\n",
              "      <th>メールアドレス</th>\n",
              "      <th>電話番号</th>\n",
              "      <th>携帯電話番号</th>\n",
              "      <th>郵便番号</th>\n",
              "      <th>住所</th>\n",
              "      <th>会社名</th>\n",
              "    </tr>\n",
              "  </thead>\n",
              "  <tbody>\n",
              "    <tr>\n",
              "      <th>0</th>\n",
              "      <td>野田 大知</td>\n",
              "      <td>のだ だいち</td>\n",
              "      <td>67</td>\n",
              "      <td>1955年12月23日</td>\n",
              "      <td>男</td>\n",
              "      <td>A</td>\n",
              "      <td>nodadaichi@example.com</td>\n",
              "      <td>0964-63-4407</td>\n",
              "      <td>080-8537-4965</td>\n",
              "      <td>867-2838</td>\n",
              "      <td>熊本県熊本市西区春日2-4-10</td>\n",
              "      <td>NaN</td>\n",
              "    </tr>\n",
              "    <tr>\n",
              "      <th>1</th>\n",
              "      <td>金田 英俊</td>\n",
              "      <td>かねだ ひでとし</td>\n",
              "      <td>56</td>\n",
              "      <td>1966年05月20日</td>\n",
              "      <td>男</td>\n",
              "      <td>O</td>\n",
              "      <td>kanedahidetoshi@example.org</td>\n",
              "      <td>0846-39-1554</td>\n",
              "      <td>080-3826-9491</td>\n",
              "      <td>730-7952</td>\n",
              "      <td>広島県福山市川口町1-2-12</td>\n",
              "      <td>合名会社染谷農機工作所</td>\n",
              "    </tr>\n",
              "    <tr>\n",
              "      <th>2</th>\n",
              "      <td>稲村 政昭</td>\n",
              "      <td>いなむら まさあき</td>\n",
              "      <td>62</td>\n",
              "      <td>1960年11月19日</td>\n",
              "      <td>男</td>\n",
              "      <td>A</td>\n",
              "      <td>inamuramasaaki@example.net</td>\n",
              "      <td>06-6819-4382</td>\n",
              "      <td>080-4393-4681</td>\n",
              "      <td>577-6363</td>\n",
              "      <td>大阪府大阪市住之江区南港中4-2-4</td>\n",
              "      <td>NaN</td>\n",
              "    </tr>\n",
              "    <tr>\n",
              "      <th>3</th>\n",
              "      <td>中島 一弘</td>\n",
              "      <td>なかじま かずひろ</td>\n",
              "      <td>37</td>\n",
              "      <td>1986年02月01日</td>\n",
              "      <td>その他・不明</td>\n",
              "      <td>A</td>\n",
              "      <td>nakajima_kazuhiro@example.com</td>\n",
              "      <td>03-8838-4950</td>\n",
              "      <td>080-2420-0588</td>\n",
              "      <td>119-6946</td>\n",
              "      <td>東京都渋谷区広尾2-5-15</td>\n",
              "      <td>合資会社橘屋</td>\n",
              "    </tr>\n",
              "    <tr>\n",
              "      <th>4</th>\n",
              "      <td>大塚 愛美</td>\n",
              "      <td>おおつか めぐみ</td>\n",
              "      <td>62</td>\n",
              "      <td>1961年02月13日</td>\n",
              "      <td>女</td>\n",
              "      <td>B</td>\n",
              "      <td>otsuka_megumi@example.ne.jp</td>\n",
              "      <td>01587-7-2293</td>\n",
              "      <td>050-8744-2152</td>\n",
              "      <td>079-4718</td>\n",
              "      <td>北海道沙流郡日高町富川南3-2-18</td>\n",
              "      <td>NaN</td>\n",
              "    </tr>\n",
              "    <tr>\n",
              "      <th>...</th>\n",
              "      <td>...</td>\n",
              "      <td>...</td>\n",
              "      <td>...</td>\n",
              "      <td>...</td>\n",
              "      <td>...</td>\n",
              "      <td>...</td>\n",
              "      <td>...</td>\n",
              "      <td>...</td>\n",
              "      <td>...</td>\n",
              "      <td>...</td>\n",
              "      <td>...</td>\n",
              "      <td>...</td>\n",
              "    </tr>\n",
              "    <tr>\n",
              "      <th>195</th>\n",
              "      <td>古川 聡太</td>\n",
              "      <td>ふるかわ そうた</td>\n",
              "      <td>35</td>\n",
              "      <td>1987年12月22日</td>\n",
              "      <td>男</td>\n",
              "      <td>B</td>\n",
              "      <td>furukawasota@example.com</td>\n",
              "      <td>0267-77-2518</td>\n",
              "      <td>090-1424-3975</td>\n",
              "      <td>392-9646</td>\n",
              "      <td>長野県松本市中央1-2-3</td>\n",
              "      <td>株式会社ケンテック</td>\n",
              "    </tr>\n",
              "    <tr>\n",
              "      <th>196</th>\n",
              "      <td>宇佐美 紘子</td>\n",
              "      <td>うさみ ひろこ</td>\n",
              "      <td>21</td>\n",
              "      <td>2002年02月17日</td>\n",
              "      <td>女</td>\n",
              "      <td>B</td>\n",
              "      <td>hirokousami@example.com</td>\n",
              "      <td>0494-05-3136</td>\n",
              "      <td>080-6575-1815</td>\n",
              "      <td>347-1039</td>\n",
              "      <td>埼玉県南埼玉郡宮代町川端2-4-202</td>\n",
              "      <td>有限会社ツカサ</td>\n",
              "    </tr>\n",
              "    <tr>\n",
              "      <th>197</th>\n",
              "      <td>吉池 博子</td>\n",
              "      <td>よしいけ ひろこ</td>\n",
              "      <td>27</td>\n",
              "      <td>1995年08月28日</td>\n",
              "      <td>女</td>\n",
              "      <td>O</td>\n",
              "      <td>yoshiike_hiroko@example.com</td>\n",
              "      <td>03-0362-8237</td>\n",
              "      <td>070-3530-6019</td>\n",
              "      <td>202-5618</td>\n",
              "      <td>東京都渋谷区恵比寿1-1-18</td>\n",
              "      <td>NaN</td>\n",
              "    </tr>\n",
              "    <tr>\n",
              "      <th>198</th>\n",
              "      <td>坂本 亜紀子</td>\n",
              "      <td>さかもと あきこ</td>\n",
              "      <td>42</td>\n",
              "      <td>1980年12月13日</td>\n",
              "      <td>女</td>\n",
              "      <td>A</td>\n",
              "      <td>sakamoto1213@example.ne.jp</td>\n",
              "      <td>0564-53-7373</td>\n",
              "      <td>080-8975-8091</td>\n",
              "      <td>445-2380</td>\n",
              "      <td>愛知県名古屋市西区上名古屋3-3-903</td>\n",
              "      <td>株式会社HERO</td>\n",
              "    </tr>\n",
              "    <tr>\n",
              "      <th>199</th>\n",
              "      <td>山口 千尋</td>\n",
              "      <td>やまぐち ちひろ</td>\n",
              "      <td>29</td>\n",
              "      <td>1993年09月09日</td>\n",
              "      <td>女</td>\n",
              "      <td>A</td>\n",
              "      <td>yamaguchi99@example.co.jp</td>\n",
              "      <td>098-040-1206</td>\n",
              "      <td>070-5670-2041</td>\n",
              "      <td>903-9529</td>\n",
              "      <td>沖縄県那覇市おもろまち1-1-22</td>\n",
              "      <td>NaN</td>\n",
              "    </tr>\n",
              "  </tbody>\n",
              "</table>\n",
              "<p>200 rows × 12 columns</p>\n",
              "</div>\n",
              "    <div class=\"colab-df-buttons\">\n",
              "\n",
              "  <div class=\"colab-df-container\">\n",
              "    <button class=\"colab-df-convert\" onclick=\"convertToInteractive('df-3f8611b8-f24a-4021-87bb-a3a17cd7a6b9')\"\n",
              "            title=\"Convert this dataframe to an interactive table.\"\n",
              "            style=\"display:none;\">\n",
              "\n",
              "  <svg xmlns=\"http://www.w3.org/2000/svg\" height=\"24px\" viewBox=\"0 -960 960 960\">\n",
              "    <path d=\"M120-120v-720h720v720H120Zm60-500h600v-160H180v160Zm220 220h160v-160H400v160Zm0 220h160v-160H400v160ZM180-400h160v-160H180v160Zm440 0h160v-160H620v160ZM180-180h160v-160H180v160Zm440 0h160v-160H620v160Z\"/>\n",
              "  </svg>\n",
              "    </button>\n",
              "\n",
              "  <style>\n",
              "    .colab-df-container {\n",
              "      display:flex;\n",
              "      gap: 12px;\n",
              "    }\n",
              "\n",
              "    .colab-df-convert {\n",
              "      background-color: #E8F0FE;\n",
              "      border: none;\n",
              "      border-radius: 50%;\n",
              "      cursor: pointer;\n",
              "      display: none;\n",
              "      fill: #1967D2;\n",
              "      height: 32px;\n",
              "      padding: 0 0 0 0;\n",
              "      width: 32px;\n",
              "    }\n",
              "\n",
              "    .colab-df-convert:hover {\n",
              "      background-color: #E2EBFA;\n",
              "      box-shadow: 0px 1px 2px rgba(60, 64, 67, 0.3), 0px 1px 3px 1px rgba(60, 64, 67, 0.15);\n",
              "      fill: #174EA6;\n",
              "    }\n",
              "\n",
              "    .colab-df-buttons div {\n",
              "      margin-bottom: 4px;\n",
              "    }\n",
              "\n",
              "    [theme=dark] .colab-df-convert {\n",
              "      background-color: #3B4455;\n",
              "      fill: #D2E3FC;\n",
              "    }\n",
              "\n",
              "    [theme=dark] .colab-df-convert:hover {\n",
              "      background-color: #434B5C;\n",
              "      box-shadow: 0px 1px 3px 1px rgba(0, 0, 0, 0.15);\n",
              "      filter: drop-shadow(0px 1px 2px rgba(0, 0, 0, 0.3));\n",
              "      fill: #FFFFFF;\n",
              "    }\n",
              "  </style>\n",
              "\n",
              "    <script>\n",
              "      const buttonEl =\n",
              "        document.querySelector('#df-3f8611b8-f24a-4021-87bb-a3a17cd7a6b9 button.colab-df-convert');\n",
              "      buttonEl.style.display =\n",
              "        google.colab.kernel.accessAllowed ? 'block' : 'none';\n",
              "\n",
              "      async function convertToInteractive(key) {\n",
              "        const element = document.querySelector('#df-3f8611b8-f24a-4021-87bb-a3a17cd7a6b9');\n",
              "        const dataTable =\n",
              "          await google.colab.kernel.invokeFunction('convertToInteractive',\n",
              "                                                    [key], {});\n",
              "        if (!dataTable) return;\n",
              "\n",
              "        const docLinkHtml = 'Like what you see? Visit the ' +\n",
              "          '<a target=\"_blank\" href=https://colab.research.google.com/notebooks/data_table.ipynb>data table notebook</a>'\n",
              "          + ' to learn more about interactive tables.';\n",
              "        element.innerHTML = '';\n",
              "        dataTable['output_type'] = 'display_data';\n",
              "        await google.colab.output.renderOutput(dataTable, element);\n",
              "        const docLink = document.createElement('div');\n",
              "        docLink.innerHTML = docLinkHtml;\n",
              "        element.appendChild(docLink);\n",
              "      }\n",
              "    </script>\n",
              "  </div>\n",
              "\n",
              "\n",
              "<div id=\"df-5993e193-acb4-4b74-96cb-bc30885fcf45\">\n",
              "  <button class=\"colab-df-quickchart\" onclick=\"quickchart('df-5993e193-acb4-4b74-96cb-bc30885fcf45')\"\n",
              "            title=\"Suggest charts.\"\n",
              "            style=\"display:none;\">\n",
              "\n",
              "<svg xmlns=\"http://www.w3.org/2000/svg\" height=\"24px\"viewBox=\"0 0 24 24\"\n",
              "     width=\"24px\">\n",
              "    <g>\n",
              "        <path d=\"M19 3H5c-1.1 0-2 .9-2 2v14c0 1.1.9 2 2 2h14c1.1 0 2-.9 2-2V5c0-1.1-.9-2-2-2zM9 17H7v-7h2v7zm4 0h-2V7h2v10zm4 0h-2v-4h2v4z\"/>\n",
              "    </g>\n",
              "</svg>\n",
              "  </button>\n",
              "\n",
              "<style>\n",
              "  .colab-df-quickchart {\n",
              "      --bg-color: #E8F0FE;\n",
              "      --fill-color: #1967D2;\n",
              "      --hover-bg-color: #E2EBFA;\n",
              "      --hover-fill-color: #174EA6;\n",
              "      --disabled-fill-color: #AAA;\n",
              "      --disabled-bg-color: #DDD;\n",
              "  }\n",
              "\n",
              "  [theme=dark] .colab-df-quickchart {\n",
              "      --bg-color: #3B4455;\n",
              "      --fill-color: #D2E3FC;\n",
              "      --hover-bg-color: #434B5C;\n",
              "      --hover-fill-color: #FFFFFF;\n",
              "      --disabled-bg-color: #3B4455;\n",
              "      --disabled-fill-color: #666;\n",
              "  }\n",
              "\n",
              "  .colab-df-quickchart {\n",
              "    background-color: var(--bg-color);\n",
              "    border: none;\n",
              "    border-radius: 50%;\n",
              "    cursor: pointer;\n",
              "    display: none;\n",
              "    fill: var(--fill-color);\n",
              "    height: 32px;\n",
              "    padding: 0;\n",
              "    width: 32px;\n",
              "  }\n",
              "\n",
              "  .colab-df-quickchart:hover {\n",
              "    background-color: var(--hover-bg-color);\n",
              "    box-shadow: 0 1px 2px rgba(60, 64, 67, 0.3), 0 1px 3px 1px rgba(60, 64, 67, 0.15);\n",
              "    fill: var(--button-hover-fill-color);\n",
              "  }\n",
              "\n",
              "  .colab-df-quickchart-complete:disabled,\n",
              "  .colab-df-quickchart-complete:disabled:hover {\n",
              "    background-color: var(--disabled-bg-color);\n",
              "    fill: var(--disabled-fill-color);\n",
              "    box-shadow: none;\n",
              "  }\n",
              "\n",
              "  .colab-df-spinner {\n",
              "    border: 2px solid var(--fill-color);\n",
              "    border-color: transparent;\n",
              "    border-bottom-color: var(--fill-color);\n",
              "    animation:\n",
              "      spin 1s steps(1) infinite;\n",
              "  }\n",
              "\n",
              "  @keyframes spin {\n",
              "    0% {\n",
              "      border-color: transparent;\n",
              "      border-bottom-color: var(--fill-color);\n",
              "      border-left-color: var(--fill-color);\n",
              "    }\n",
              "    20% {\n",
              "      border-color: transparent;\n",
              "      border-left-color: var(--fill-color);\n",
              "      border-top-color: var(--fill-color);\n",
              "    }\n",
              "    30% {\n",
              "      border-color: transparent;\n",
              "      border-left-color: var(--fill-color);\n",
              "      border-top-color: var(--fill-color);\n",
              "      border-right-color: var(--fill-color);\n",
              "    }\n",
              "    40% {\n",
              "      border-color: transparent;\n",
              "      border-right-color: var(--fill-color);\n",
              "      border-top-color: var(--fill-color);\n",
              "    }\n",
              "    60% {\n",
              "      border-color: transparent;\n",
              "      border-right-color: var(--fill-color);\n",
              "    }\n",
              "    80% {\n",
              "      border-color: transparent;\n",
              "      border-right-color: var(--fill-color);\n",
              "      border-bottom-color: var(--fill-color);\n",
              "    }\n",
              "    90% {\n",
              "      border-color: transparent;\n",
              "      border-bottom-color: var(--fill-color);\n",
              "    }\n",
              "  }\n",
              "</style>\n",
              "\n",
              "  <script>\n",
              "    async function quickchart(key) {\n",
              "      const quickchartButtonEl =\n",
              "        document.querySelector('#' + key + ' button');\n",
              "      quickchartButtonEl.disabled = true;  // To prevent multiple clicks.\n",
              "      quickchartButtonEl.classList.add('colab-df-spinner');\n",
              "      try {\n",
              "        const charts = await google.colab.kernel.invokeFunction(\n",
              "            'suggestCharts', [key], {});\n",
              "      } catch (error) {\n",
              "        console.error('Error during call to suggestCharts:', error);\n",
              "      }\n",
              "      quickchartButtonEl.classList.remove('colab-df-spinner');\n",
              "      quickchartButtonEl.classList.add('colab-df-quickchart-complete');\n",
              "    }\n",
              "    (() => {\n",
              "      let quickchartButtonEl =\n",
              "        document.querySelector('#df-5993e193-acb4-4b74-96cb-bc30885fcf45 button');\n",
              "      quickchartButtonEl.style.display =\n",
              "        google.colab.kernel.accessAllowed ? 'block' : 'none';\n",
              "    })();\n",
              "  </script>\n",
              "</div>\n",
              "    </div>\n",
              "  </div>\n"
            ]
          },
          "metadata": {},
          "execution_count": 34
        }
      ],
      "source": [
        "import pandas as pd\n",
        "personal_info = pd.read_csv(\"https://drive.google.com/uc?id=17jpKCf-Qdo3IVObiF1WJzFRdEXWdYVHt\")\n",
        "personal_info"
      ]
    },
    {
      "cell_type": "code",
      "execution_count": 35,
      "metadata": {
        "id": "sVIKew8Y01jx",
        "colab": {
          "base_uri": "https://localhost:8080/",
          "height": 615
        },
        "outputId": "79d708da-d005-4a09-e5c4-e5365f63435b"
      },
      "outputs": [
        {
          "output_type": "execute_result",
          "data": {
            "text/plain": [
              "        氏名   氏名（ひらがな）  年齢         生年月日 性別 血液型                        メールアドレス  \\\n",
              "0    野田 大知     のだ だいち  67  1955年12月23日  男   A         nodadaichi@example.com   \n",
              "1    金田 英俊   かねだ ひでとし  56  1966年05月20日  男   O    kanedahidetoshi@example.org   \n",
              "2    稲村 政昭  いなむら まさあき  62  1960年11月19日  男   A     inamuramasaaki@example.net   \n",
              "5    太田 紀彦   おおた のりひこ  73  1949年07月04日  男   A      norihikoota@example.co.jp   \n",
              "6    平島 祐樹   ひらしま ゆうき  29  1994年02月21日  男   A    hirashima_yuuki@example.net   \n",
              "..     ...        ...  ..          ... ..  ..                            ...   \n",
              "181   澤井 豊    さわい ゆたか  78  1944年06月22日  男   O         yutakasawai@example.jp   \n",
              "188  加勢 俊輔  かせい しゅんすけ  56  1966年05月21日  男   O   kasei_shunsuke@example.ne.jp   \n",
              "191   渡部 修   わたなべ おさむ  47  1975年07月21日  男   B     watanabe_721@example.ne.jp   \n",
              "193  川波 文仁  かわなみ ふみひと  73  1949年09月07日  男   O  fumihito_kawanami@example.org   \n",
              "195  古川 聡太   ふるかわ そうた  35  1987年12月22日  男   B       furukawasota@example.com   \n",
              "\n",
              "             電話番号         携帯電話番号      郵便番号                            住所  \\\n",
              "0    0964-63-4407  080-8537-4965  867-2838              熊本県熊本市西区春日2-4-10   \n",
              "1    0846-39-1554  080-3826-9491  730-7952               広島県福山市川口町1-2-12   \n",
              "2    06-6819-4382  080-4393-4681  577-6363            大阪府大阪市住之江区南港中4-2-4   \n",
              "5    03-9879-5847  090-9720-6999  165-0390         東京都港区六本木2-3-7ルミエール310   \n",
              "6    048-756-3820  050-9067-9055  337-5796              埼玉県川口市鳩ヶ谷本町3-1-6   \n",
              "..            ...            ...       ...                           ...   \n",
              "181  0493-85-1688  090-5076-2376  346-4393    埼玉県志木市下宗岡1-4-12ハイネスクラウズ609   \n",
              "188  06-7869-7959  070-6174-7663  559-8660           大阪府大阪市中央区南船場2-1-509   \n",
              "191  0883-64-3384  090-7697-3005  777-1643               徳島県徳島市中島田町3-2-7   \n",
              "193  0480-51-8182  050-6572-6116  343-2879  埼玉県北葛飾郡杉戸町内田1-3-20グランアッシュ113   \n",
              "195  0267-77-2518  090-1424-3975  392-9646                 長野県松本市中央1-2-3   \n",
              "\n",
              "             会社名  \n",
              "0            NaN  \n",
              "1    合名会社染谷農機工作所  \n",
              "2            NaN  \n",
              "5            NaN  \n",
              "6      有限会社伊藤工務店  \n",
              "..           ...  \n",
              "181          NaN  \n",
              "188       有限会社藤屋  \n",
              "191    株式会社田中工務店  \n",
              "193          NaN  \n",
              "195    株式会社ケンテック  \n",
              "\n",
              "[120 rows x 12 columns]"
            ],
            "text/html": [
              "\n",
              "  <div id=\"df-104c8057-c7b8-4b6e-a486-dd4f42385fb1\" class=\"colab-df-container\">\n",
              "    <div>\n",
              "<style scoped>\n",
              "    .dataframe tbody tr th:only-of-type {\n",
              "        vertical-align: middle;\n",
              "    }\n",
              "\n",
              "    .dataframe tbody tr th {\n",
              "        vertical-align: top;\n",
              "    }\n",
              "\n",
              "    .dataframe thead th {\n",
              "        text-align: right;\n",
              "    }\n",
              "</style>\n",
              "<table border=\"1\" class=\"dataframe\">\n",
              "  <thead>\n",
              "    <tr style=\"text-align: right;\">\n",
              "      <th></th>\n",
              "      <th>氏名</th>\n",
              "      <th>氏名（ひらがな）</th>\n",
              "      <th>年齢</th>\n",
              "      <th>生年月日</th>\n",
              "      <th>性別</th>\n",
              "      <th>血液型</th>\n",
              "      <th>メールアドレス</th>\n",
              "      <th>電話番号</th>\n",
              "      <th>携帯電話番号</th>\n",
              "      <th>郵便番号</th>\n",
              "      <th>住所</th>\n",
              "      <th>会社名</th>\n",
              "    </tr>\n",
              "  </thead>\n",
              "  <tbody>\n",
              "    <tr>\n",
              "      <th>0</th>\n",
              "      <td>野田 大知</td>\n",
              "      <td>のだ だいち</td>\n",
              "      <td>67</td>\n",
              "      <td>1955年12月23日</td>\n",
              "      <td>男</td>\n",
              "      <td>A</td>\n",
              "      <td>nodadaichi@example.com</td>\n",
              "      <td>0964-63-4407</td>\n",
              "      <td>080-8537-4965</td>\n",
              "      <td>867-2838</td>\n",
              "      <td>熊本県熊本市西区春日2-4-10</td>\n",
              "      <td>NaN</td>\n",
              "    </tr>\n",
              "    <tr>\n",
              "      <th>1</th>\n",
              "      <td>金田 英俊</td>\n",
              "      <td>かねだ ひでとし</td>\n",
              "      <td>56</td>\n",
              "      <td>1966年05月20日</td>\n",
              "      <td>男</td>\n",
              "      <td>O</td>\n",
              "      <td>kanedahidetoshi@example.org</td>\n",
              "      <td>0846-39-1554</td>\n",
              "      <td>080-3826-9491</td>\n",
              "      <td>730-7952</td>\n",
              "      <td>広島県福山市川口町1-2-12</td>\n",
              "      <td>合名会社染谷農機工作所</td>\n",
              "    </tr>\n",
              "    <tr>\n",
              "      <th>2</th>\n",
              "      <td>稲村 政昭</td>\n",
              "      <td>いなむら まさあき</td>\n",
              "      <td>62</td>\n",
              "      <td>1960年11月19日</td>\n",
              "      <td>男</td>\n",
              "      <td>A</td>\n",
              "      <td>inamuramasaaki@example.net</td>\n",
              "      <td>06-6819-4382</td>\n",
              "      <td>080-4393-4681</td>\n",
              "      <td>577-6363</td>\n",
              "      <td>大阪府大阪市住之江区南港中4-2-4</td>\n",
              "      <td>NaN</td>\n",
              "    </tr>\n",
              "    <tr>\n",
              "      <th>5</th>\n",
              "      <td>太田 紀彦</td>\n",
              "      <td>おおた のりひこ</td>\n",
              "      <td>73</td>\n",
              "      <td>1949年07月04日</td>\n",
              "      <td>男</td>\n",
              "      <td>A</td>\n",
              "      <td>norihikoota@example.co.jp</td>\n",
              "      <td>03-9879-5847</td>\n",
              "      <td>090-9720-6999</td>\n",
              "      <td>165-0390</td>\n",
              "      <td>東京都港区六本木2-3-7ルミエール310</td>\n",
              "      <td>NaN</td>\n",
              "    </tr>\n",
              "    <tr>\n",
              "      <th>6</th>\n",
              "      <td>平島 祐樹</td>\n",
              "      <td>ひらしま ゆうき</td>\n",
              "      <td>29</td>\n",
              "      <td>1994年02月21日</td>\n",
              "      <td>男</td>\n",
              "      <td>A</td>\n",
              "      <td>hirashima_yuuki@example.net</td>\n",
              "      <td>048-756-3820</td>\n",
              "      <td>050-9067-9055</td>\n",
              "      <td>337-5796</td>\n",
              "      <td>埼玉県川口市鳩ヶ谷本町3-1-6</td>\n",
              "      <td>有限会社伊藤工務店</td>\n",
              "    </tr>\n",
              "    <tr>\n",
              "      <th>...</th>\n",
              "      <td>...</td>\n",
              "      <td>...</td>\n",
              "      <td>...</td>\n",
              "      <td>...</td>\n",
              "      <td>...</td>\n",
              "      <td>...</td>\n",
              "      <td>...</td>\n",
              "      <td>...</td>\n",
              "      <td>...</td>\n",
              "      <td>...</td>\n",
              "      <td>...</td>\n",
              "      <td>...</td>\n",
              "    </tr>\n",
              "    <tr>\n",
              "      <th>181</th>\n",
              "      <td>澤井 豊</td>\n",
              "      <td>さわい ゆたか</td>\n",
              "      <td>78</td>\n",
              "      <td>1944年06月22日</td>\n",
              "      <td>男</td>\n",
              "      <td>O</td>\n",
              "      <td>yutakasawai@example.jp</td>\n",
              "      <td>0493-85-1688</td>\n",
              "      <td>090-5076-2376</td>\n",
              "      <td>346-4393</td>\n",
              "      <td>埼玉県志木市下宗岡1-4-12ハイネスクラウズ609</td>\n",
              "      <td>NaN</td>\n",
              "    </tr>\n",
              "    <tr>\n",
              "      <th>188</th>\n",
              "      <td>加勢 俊輔</td>\n",
              "      <td>かせい しゅんすけ</td>\n",
              "      <td>56</td>\n",
              "      <td>1966年05月21日</td>\n",
              "      <td>男</td>\n",
              "      <td>O</td>\n",
              "      <td>kasei_shunsuke@example.ne.jp</td>\n",
              "      <td>06-7869-7959</td>\n",
              "      <td>070-6174-7663</td>\n",
              "      <td>559-8660</td>\n",
              "      <td>大阪府大阪市中央区南船場2-1-509</td>\n",
              "      <td>有限会社藤屋</td>\n",
              "    </tr>\n",
              "    <tr>\n",
              "      <th>191</th>\n",
              "      <td>渡部 修</td>\n",
              "      <td>わたなべ おさむ</td>\n",
              "      <td>47</td>\n",
              "      <td>1975年07月21日</td>\n",
              "      <td>男</td>\n",
              "      <td>B</td>\n",
              "      <td>watanabe_721@example.ne.jp</td>\n",
              "      <td>0883-64-3384</td>\n",
              "      <td>090-7697-3005</td>\n",
              "      <td>777-1643</td>\n",
              "      <td>徳島県徳島市中島田町3-2-7</td>\n",
              "      <td>株式会社田中工務店</td>\n",
              "    </tr>\n",
              "    <tr>\n",
              "      <th>193</th>\n",
              "      <td>川波 文仁</td>\n",
              "      <td>かわなみ ふみひと</td>\n",
              "      <td>73</td>\n",
              "      <td>1949年09月07日</td>\n",
              "      <td>男</td>\n",
              "      <td>O</td>\n",
              "      <td>fumihito_kawanami@example.org</td>\n",
              "      <td>0480-51-8182</td>\n",
              "      <td>050-6572-6116</td>\n",
              "      <td>343-2879</td>\n",
              "      <td>埼玉県北葛飾郡杉戸町内田1-3-20グランアッシュ113</td>\n",
              "      <td>NaN</td>\n",
              "    </tr>\n",
              "    <tr>\n",
              "      <th>195</th>\n",
              "      <td>古川 聡太</td>\n",
              "      <td>ふるかわ そうた</td>\n",
              "      <td>35</td>\n",
              "      <td>1987年12月22日</td>\n",
              "      <td>男</td>\n",
              "      <td>B</td>\n",
              "      <td>furukawasota@example.com</td>\n",
              "      <td>0267-77-2518</td>\n",
              "      <td>090-1424-3975</td>\n",
              "      <td>392-9646</td>\n",
              "      <td>長野県松本市中央1-2-3</td>\n",
              "      <td>株式会社ケンテック</td>\n",
              "    </tr>\n",
              "  </tbody>\n",
              "</table>\n",
              "<p>120 rows × 12 columns</p>\n",
              "</div>\n",
              "    <div class=\"colab-df-buttons\">\n",
              "\n",
              "  <div class=\"colab-df-container\">\n",
              "    <button class=\"colab-df-convert\" onclick=\"convertToInteractive('df-104c8057-c7b8-4b6e-a486-dd4f42385fb1')\"\n",
              "            title=\"Convert this dataframe to an interactive table.\"\n",
              "            style=\"display:none;\">\n",
              "\n",
              "  <svg xmlns=\"http://www.w3.org/2000/svg\" height=\"24px\" viewBox=\"0 -960 960 960\">\n",
              "    <path d=\"M120-120v-720h720v720H120Zm60-500h600v-160H180v160Zm220 220h160v-160H400v160Zm0 220h160v-160H400v160ZM180-400h160v-160H180v160Zm440 0h160v-160H620v160ZM180-180h160v-160H180v160Zm440 0h160v-160H620v160Z\"/>\n",
              "  </svg>\n",
              "    </button>\n",
              "\n",
              "  <style>\n",
              "    .colab-df-container {\n",
              "      display:flex;\n",
              "      gap: 12px;\n",
              "    }\n",
              "\n",
              "    .colab-df-convert {\n",
              "      background-color: #E8F0FE;\n",
              "      border: none;\n",
              "      border-radius: 50%;\n",
              "      cursor: pointer;\n",
              "      display: none;\n",
              "      fill: #1967D2;\n",
              "      height: 32px;\n",
              "      padding: 0 0 0 0;\n",
              "      width: 32px;\n",
              "    }\n",
              "\n",
              "    .colab-df-convert:hover {\n",
              "      background-color: #E2EBFA;\n",
              "      box-shadow: 0px 1px 2px rgba(60, 64, 67, 0.3), 0px 1px 3px 1px rgba(60, 64, 67, 0.15);\n",
              "      fill: #174EA6;\n",
              "    }\n",
              "\n",
              "    .colab-df-buttons div {\n",
              "      margin-bottom: 4px;\n",
              "    }\n",
              "\n",
              "    [theme=dark] .colab-df-convert {\n",
              "      background-color: #3B4455;\n",
              "      fill: #D2E3FC;\n",
              "    }\n",
              "\n",
              "    [theme=dark] .colab-df-convert:hover {\n",
              "      background-color: #434B5C;\n",
              "      box-shadow: 0px 1px 3px 1px rgba(0, 0, 0, 0.15);\n",
              "      filter: drop-shadow(0px 1px 2px rgba(0, 0, 0, 0.3));\n",
              "      fill: #FFFFFF;\n",
              "    }\n",
              "  </style>\n",
              "\n",
              "    <script>\n",
              "      const buttonEl =\n",
              "        document.querySelector('#df-104c8057-c7b8-4b6e-a486-dd4f42385fb1 button.colab-df-convert');\n",
              "      buttonEl.style.display =\n",
              "        google.colab.kernel.accessAllowed ? 'block' : 'none';\n",
              "\n",
              "      async function convertToInteractive(key) {\n",
              "        const element = document.querySelector('#df-104c8057-c7b8-4b6e-a486-dd4f42385fb1');\n",
              "        const dataTable =\n",
              "          await google.colab.kernel.invokeFunction('convertToInteractive',\n",
              "                                                    [key], {});\n",
              "        if (!dataTable) return;\n",
              "\n",
              "        const docLinkHtml = 'Like what you see? Visit the ' +\n",
              "          '<a target=\"_blank\" href=https://colab.research.google.com/notebooks/data_table.ipynb>data table notebook</a>'\n",
              "          + ' to learn more about interactive tables.';\n",
              "        element.innerHTML = '';\n",
              "        dataTable['output_type'] = 'display_data';\n",
              "        await google.colab.output.renderOutput(dataTable, element);\n",
              "        const docLink = document.createElement('div');\n",
              "        docLink.innerHTML = docLinkHtml;\n",
              "        element.appendChild(docLink);\n",
              "      }\n",
              "    </script>\n",
              "  </div>\n",
              "\n",
              "\n",
              "<div id=\"df-e16ba656-36ff-47e8-9603-2e5ddabeb171\">\n",
              "  <button class=\"colab-df-quickchart\" onclick=\"quickchart('df-e16ba656-36ff-47e8-9603-2e5ddabeb171')\"\n",
              "            title=\"Suggest charts.\"\n",
              "            style=\"display:none;\">\n",
              "\n",
              "<svg xmlns=\"http://www.w3.org/2000/svg\" height=\"24px\"viewBox=\"0 0 24 24\"\n",
              "     width=\"24px\">\n",
              "    <g>\n",
              "        <path d=\"M19 3H5c-1.1 0-2 .9-2 2v14c0 1.1.9 2 2 2h14c1.1 0 2-.9 2-2V5c0-1.1-.9-2-2-2zM9 17H7v-7h2v7zm4 0h-2V7h2v10zm4 0h-2v-4h2v4z\"/>\n",
              "    </g>\n",
              "</svg>\n",
              "  </button>\n",
              "\n",
              "<style>\n",
              "  .colab-df-quickchart {\n",
              "      --bg-color: #E8F0FE;\n",
              "      --fill-color: #1967D2;\n",
              "      --hover-bg-color: #E2EBFA;\n",
              "      --hover-fill-color: #174EA6;\n",
              "      --disabled-fill-color: #AAA;\n",
              "      --disabled-bg-color: #DDD;\n",
              "  }\n",
              "\n",
              "  [theme=dark] .colab-df-quickchart {\n",
              "      --bg-color: #3B4455;\n",
              "      --fill-color: #D2E3FC;\n",
              "      --hover-bg-color: #434B5C;\n",
              "      --hover-fill-color: #FFFFFF;\n",
              "      --disabled-bg-color: #3B4455;\n",
              "      --disabled-fill-color: #666;\n",
              "  }\n",
              "\n",
              "  .colab-df-quickchart {\n",
              "    background-color: var(--bg-color);\n",
              "    border: none;\n",
              "    border-radius: 50%;\n",
              "    cursor: pointer;\n",
              "    display: none;\n",
              "    fill: var(--fill-color);\n",
              "    height: 32px;\n",
              "    padding: 0;\n",
              "    width: 32px;\n",
              "  }\n",
              "\n",
              "  .colab-df-quickchart:hover {\n",
              "    background-color: var(--hover-bg-color);\n",
              "    box-shadow: 0 1px 2px rgba(60, 64, 67, 0.3), 0 1px 3px 1px rgba(60, 64, 67, 0.15);\n",
              "    fill: var(--button-hover-fill-color);\n",
              "  }\n",
              "\n",
              "  .colab-df-quickchart-complete:disabled,\n",
              "  .colab-df-quickchart-complete:disabled:hover {\n",
              "    background-color: var(--disabled-bg-color);\n",
              "    fill: var(--disabled-fill-color);\n",
              "    box-shadow: none;\n",
              "  }\n",
              "\n",
              "  .colab-df-spinner {\n",
              "    border: 2px solid var(--fill-color);\n",
              "    border-color: transparent;\n",
              "    border-bottom-color: var(--fill-color);\n",
              "    animation:\n",
              "      spin 1s steps(1) infinite;\n",
              "  }\n",
              "\n",
              "  @keyframes spin {\n",
              "    0% {\n",
              "      border-color: transparent;\n",
              "      border-bottom-color: var(--fill-color);\n",
              "      border-left-color: var(--fill-color);\n",
              "    }\n",
              "    20% {\n",
              "      border-color: transparent;\n",
              "      border-left-color: var(--fill-color);\n",
              "      border-top-color: var(--fill-color);\n",
              "    }\n",
              "    30% {\n",
              "      border-color: transparent;\n",
              "      border-left-color: var(--fill-color);\n",
              "      border-top-color: var(--fill-color);\n",
              "      border-right-color: var(--fill-color);\n",
              "    }\n",
              "    40% {\n",
              "      border-color: transparent;\n",
              "      border-right-color: var(--fill-color);\n",
              "      border-top-color: var(--fill-color);\n",
              "    }\n",
              "    60% {\n",
              "      border-color: transparent;\n",
              "      border-right-color: var(--fill-color);\n",
              "    }\n",
              "    80% {\n",
              "      border-color: transparent;\n",
              "      border-right-color: var(--fill-color);\n",
              "      border-bottom-color: var(--fill-color);\n",
              "    }\n",
              "    90% {\n",
              "      border-color: transparent;\n",
              "      border-bottom-color: var(--fill-color);\n",
              "    }\n",
              "  }\n",
              "</style>\n",
              "\n",
              "  <script>\n",
              "    async function quickchart(key) {\n",
              "      const quickchartButtonEl =\n",
              "        document.querySelector('#' + key + ' button');\n",
              "      quickchartButtonEl.disabled = true;  // To prevent multiple clicks.\n",
              "      quickchartButtonEl.classList.add('colab-df-spinner');\n",
              "      try {\n",
              "        const charts = await google.colab.kernel.invokeFunction(\n",
              "            'suggestCharts', [key], {});\n",
              "      } catch (error) {\n",
              "        console.error('Error during call to suggestCharts:', error);\n",
              "      }\n",
              "      quickchartButtonEl.classList.remove('colab-df-spinner');\n",
              "      quickchartButtonEl.classList.add('colab-df-quickchart-complete');\n",
              "    }\n",
              "    (() => {\n",
              "      let quickchartButtonEl =\n",
              "        document.querySelector('#df-e16ba656-36ff-47e8-9603-2e5ddabeb171 button');\n",
              "      quickchartButtonEl.style.display =\n",
              "        google.colab.kernel.accessAllowed ? 'block' : 'none';\n",
              "    })();\n",
              "  </script>\n",
              "</div>\n",
              "    </div>\n",
              "  </div>\n"
            ]
          },
          "metadata": {},
          "execution_count": 35
        }
      ],
      "source": [
        "# ヒント 1: 男性のみを抽出する\n",
        "personal_info[personal_info['性別'] == '男']"
      ]
    },
    {
      "cell_type": "code",
      "execution_count": 36,
      "metadata": {
        "id": "gopuE3VE01jx",
        "colab": {
          "base_uri": "https://localhost:8080/"
        },
        "outputId": "d454910a-f1ee-41dc-e7f1-f0539cd8b060"
      },
      "outputs": [
        {
          "output_type": "execute_result",
          "data": {
            "text/plain": [
              "200"
            ]
          },
          "metadata": {},
          "execution_count": 36
        }
      ],
      "source": [
        "# ヒント 2: personal_infoの登録件数を計算する\n",
        "len(personal_info)"
      ]
    },
    {
      "cell_type": "code",
      "source": [
        "def eleven_end(date_str):\n",
        "\n",
        "  # 日付のパターンを作成\n",
        "  pattern = re.compile(r\"11$\")\n",
        "\n",
        "  # パターンに一致する部分を抽出\n",
        "  match = pattern.search(date_str)\n",
        "\n",
        "  # 月を返す\n",
        "  if match:\n",
        "    return True\n",
        "  else:\n",
        "    return False"
      ],
      "metadata": {
        "id": "UF69ZT9EXnri"
      },
      "execution_count": 37,
      "outputs": []
    },
    {
      "cell_type": "code",
      "source": [
        "personal_info[\"eleven_end\"] = personal_info[\"携帯電話番号\"].apply(eleven_end)"
      ],
      "metadata": {
        "id": "Y2NSE2Y8Tdhl"
      },
      "execution_count": 38,
      "outputs": []
    },
    {
      "cell_type": "code",
      "source": [
        "print(personal_info)"
      ],
      "metadata": {
        "colab": {
          "base_uri": "https://localhost:8080/"
        },
        "id": "aJ5leYsLTu6D",
        "outputId": "901ca19a-9df4-4527-b1d9-22bb8cbdd6d2"
      },
      "execution_count": 39,
      "outputs": [
        {
          "output_type": "stream",
          "name": "stdout",
          "text": [
            "         氏名   氏名（ひらがな）  年齢         生年月日      性別 血液型  \\\n",
            "0     野田 大知     のだ だいち  67  1955年12月23日       男   A   \n",
            "1     金田 英俊   かねだ ひでとし  56  1966年05月20日       男   O   \n",
            "2     稲村 政昭  いなむら まさあき  62  1960年11月19日       男   A   \n",
            "3     中島 一弘  なかじま かずひろ  37  1986年02月01日  その他・不明   A   \n",
            "4     大塚 愛美   おおつか めぐみ  62  1961年02月13日       女   B   \n",
            "..      ...        ...  ..          ...     ...  ..   \n",
            "195   古川 聡太   ふるかわ そうた  35  1987年12月22日       男   B   \n",
            "196  宇佐美 紘子    うさみ ひろこ  21  2002年02月17日       女   B   \n",
            "197   吉池 博子   よしいけ ひろこ  27  1995年08月28日       女   O   \n",
            "198  坂本 亜紀子   さかもと あきこ  42  1980年12月13日       女   A   \n",
            "199   山口 千尋   やまぐち ちひろ  29  1993年09月09日       女   A   \n",
            "\n",
            "                           メールアドレス          電話番号         携帯電話番号      郵便番号  \\\n",
            "0           nodadaichi@example.com  0964-63-4407  080-8537-4965  867-2838   \n",
            "1      kanedahidetoshi@example.org  0846-39-1554  080-3826-9491  730-7952   \n",
            "2       inamuramasaaki@example.net  06-6819-4382  080-4393-4681  577-6363   \n",
            "3    nakajima_kazuhiro@example.com  03-8838-4950  080-2420-0588  119-6946   \n",
            "4      otsuka_megumi@example.ne.jp  01587-7-2293  050-8744-2152  079-4718   \n",
            "..                             ...           ...            ...       ...   \n",
            "195       furukawasota@example.com  0267-77-2518  090-1424-3975  392-9646   \n",
            "196        hirokousami@example.com  0494-05-3136  080-6575-1815  347-1039   \n",
            "197    yoshiike_hiroko@example.com  03-0362-8237  070-3530-6019  202-5618   \n",
            "198     sakamoto1213@example.ne.jp  0564-53-7373  080-8975-8091  445-2380   \n",
            "199      yamaguchi99@example.co.jp  098-040-1206  070-5670-2041  903-9529   \n",
            "\n",
            "                       住所          会社名  eleven_end  \n",
            "0        熊本県熊本市西区春日2-4-10          NaN       False  \n",
            "1         広島県福山市川口町1-2-12  合名会社染谷農機工作所       False  \n",
            "2      大阪府大阪市住之江区南港中4-2-4          NaN       False  \n",
            "3          東京都渋谷区広尾2-5-15       合資会社橘屋       False  \n",
            "4      北海道沙流郡日高町富川南3-2-18          NaN       False  \n",
            "..                    ...          ...         ...  \n",
            "195         長野県松本市中央1-2-3    株式会社ケンテック       False  \n",
            "196   埼玉県南埼玉郡宮代町川端2-4-202      有限会社ツカサ       False  \n",
            "197       東京都渋谷区恵比寿1-1-18          NaN       False  \n",
            "198  愛知県名古屋市西区上名古屋3-3-903     株式会社HERO       False  \n",
            "199     沖縄県那覇市おもろまち1-1-22          NaN       False  \n",
            "\n",
            "[200 rows x 13 columns]\n"
          ]
        }
      ]
    },
    {
      "cell_type": "code",
      "source": [
        "personal_info[\"eleven_end\"].value_counts()"
      ],
      "metadata": {
        "colab": {
          "base_uri": "https://localhost:8080/"
        },
        "id": "JHR50OmrYpAc",
        "outputId": "e9888fbb-3525-4cd3-8ff3-c7a041e0485e"
      },
      "execution_count": 40,
      "outputs": [
        {
          "output_type": "execute_result",
          "data": {
            "text/plain": [
              "False    197\n",
              "True       3\n",
              "Name: eleven_end, dtype: int64"
            ]
          },
          "metadata": {},
          "execution_count": 40
        }
      ]
    },
    {
      "cell_type": "code",
      "source": [
        "def get_month_from_date(date_str):\n",
        "\n",
        "  # 日付のパターンを作成\n",
        "  pattern = re.compile(r\"(.*)年(.*)月(.*)日\")\n",
        "\n",
        "  # パターンに一致する部分を抽出\n",
        "  match = pattern.search(date_str)\n",
        "\n",
        "  # 月を返す\n",
        "  if match:\n",
        "    return int(match.group(2))\n",
        "  else:\n",
        "    return None"
      ],
      "metadata": {
        "id": "srcRlaSPUVBj"
      },
      "execution_count": 41,
      "outputs": []
    },
    {
      "cell_type": "code",
      "source": [
        "personal_info[\"月\"] = personal_info[\"生年月日\"].apply(get_month_from_date)"
      ],
      "metadata": {
        "id": "529_bhkCUepe"
      },
      "execution_count": 42,
      "outputs": []
    },
    {
      "cell_type": "code",
      "source": [
        "print(personal_info)"
      ],
      "metadata": {
        "colab": {
          "base_uri": "https://localhost:8080/"
        },
        "id": "GNko1YLxV09r",
        "outputId": "197db53a-f1c3-4c75-b8f5-d1c25c3bd4d2"
      },
      "execution_count": 43,
      "outputs": [
        {
          "output_type": "stream",
          "name": "stdout",
          "text": [
            "         氏名   氏名（ひらがな）  年齢         生年月日      性別 血液型  \\\n",
            "0     野田 大知     のだ だいち  67  1955年12月23日       男   A   \n",
            "1     金田 英俊   かねだ ひでとし  56  1966年05月20日       男   O   \n",
            "2     稲村 政昭  いなむら まさあき  62  1960年11月19日       男   A   \n",
            "3     中島 一弘  なかじま かずひろ  37  1986年02月01日  その他・不明   A   \n",
            "4     大塚 愛美   おおつか めぐみ  62  1961年02月13日       女   B   \n",
            "..      ...        ...  ..          ...     ...  ..   \n",
            "195   古川 聡太   ふるかわ そうた  35  1987年12月22日       男   B   \n",
            "196  宇佐美 紘子    うさみ ひろこ  21  2002年02月17日       女   B   \n",
            "197   吉池 博子   よしいけ ひろこ  27  1995年08月28日       女   O   \n",
            "198  坂本 亜紀子   さかもと あきこ  42  1980年12月13日       女   A   \n",
            "199   山口 千尋   やまぐち ちひろ  29  1993年09月09日       女   A   \n",
            "\n",
            "                           メールアドレス          電話番号         携帯電話番号      郵便番号  \\\n",
            "0           nodadaichi@example.com  0964-63-4407  080-8537-4965  867-2838   \n",
            "1      kanedahidetoshi@example.org  0846-39-1554  080-3826-9491  730-7952   \n",
            "2       inamuramasaaki@example.net  06-6819-4382  080-4393-4681  577-6363   \n",
            "3    nakajima_kazuhiro@example.com  03-8838-4950  080-2420-0588  119-6946   \n",
            "4      otsuka_megumi@example.ne.jp  01587-7-2293  050-8744-2152  079-4718   \n",
            "..                             ...           ...            ...       ...   \n",
            "195       furukawasota@example.com  0267-77-2518  090-1424-3975  392-9646   \n",
            "196        hirokousami@example.com  0494-05-3136  080-6575-1815  347-1039   \n",
            "197    yoshiike_hiroko@example.com  03-0362-8237  070-3530-6019  202-5618   \n",
            "198     sakamoto1213@example.ne.jp  0564-53-7373  080-8975-8091  445-2380   \n",
            "199      yamaguchi99@example.co.jp  098-040-1206  070-5670-2041  903-9529   \n",
            "\n",
            "                       住所          会社名  eleven_end   月  \n",
            "0        熊本県熊本市西区春日2-4-10          NaN       False  12  \n",
            "1         広島県福山市川口町1-2-12  合名会社染谷農機工作所       False   5  \n",
            "2      大阪府大阪市住之江区南港中4-2-4          NaN       False  11  \n",
            "3          東京都渋谷区広尾2-5-15       合資会社橘屋       False   2  \n",
            "4      北海道沙流郡日高町富川南3-2-18          NaN       False   2  \n",
            "..                    ...          ...         ...  ..  \n",
            "195         長野県松本市中央1-2-3    株式会社ケンテック       False  12  \n",
            "196   埼玉県南埼玉郡宮代町川端2-4-202      有限会社ツカサ       False   2  \n",
            "197       東京都渋谷区恵比寿1-1-18          NaN       False   8  \n",
            "198  愛知県名古屋市西区上名古屋3-3-903     株式会社HERO       False  12  \n",
            "199     沖縄県那覇市おもろまち1-1-22          NaN       False   9  \n",
            "\n",
            "[200 rows x 14 columns]\n"
          ]
        }
      ]
    },
    {
      "cell_type": "code",
      "source": [
        "print(personal_info[\"月\"].value_counts())"
      ],
      "metadata": {
        "colab": {
          "base_uri": "https://localhost:8080/"
        },
        "id": "1emPP7ekZA24",
        "outputId": "7d099fb1-9117-474d-8b4e-7c7f4118aa52"
      },
      "execution_count": 44,
      "outputs": [
        {
          "output_type": "stream",
          "name": "stdout",
          "text": [
            "2     23\n",
            "11    22\n",
            "12    19\n",
            "1     19\n",
            "9     19\n",
            "7     18\n",
            "8     18\n",
            "6     16\n",
            "3     15\n",
            "5     13\n",
            "10     9\n",
            "4      9\n",
            "Name: 月, dtype: int64\n"
          ]
        }
      ]
    },
    {
      "cell_type": "code",
      "source": [
        "import pandas as pd\n",
        "#上限表示数を拡張\n",
        "pd.set_option('display.max_columns', 100)\n",
        "pd.set_option('display.max_rows', 300)"
      ],
      "metadata": {
        "id": "SzVBPFc8gRUu"
      },
      "execution_count": 45,
      "outputs": []
    },
    {
      "cell_type": "code",
      "source": [
        "def has_tokyo_ward(address):\n",
        "\n",
        "  # 住所のパターンを作成\n",
        "  pattern = re.compile(r'東京都\\w+区')\n",
        "\n",
        "  # パターンに一致する部分を抽出\n",
        "  match = pattern.search(address)\n",
        "\n",
        "  # 一致した場合はTrueを返す\n",
        "  if match:\n",
        "    return True\n",
        "  else:\n",
        "    return False"
      ],
      "metadata": {
        "id": "iBoTq53tZUyh"
      },
      "execution_count": 46,
      "outputs": []
    },
    {
      "cell_type": "code",
      "source": [
        "personal_info[\"特別区\"] = personal_info[\"住所\"].apply(has_tokyo_ward)"
      ],
      "metadata": {
        "id": "dTBkCYCLZvDf"
      },
      "execution_count": 47,
      "outputs": []
    },
    {
      "cell_type": "code",
      "source": [
        "print(personal_info)"
      ],
      "metadata": {
        "colab": {
          "base_uri": "https://localhost:8080/"
        },
        "id": "FboWCv_hierO",
        "outputId": "cf9eac29-f5cd-4d09-d6a6-69b71c35ebb0"
      },
      "execution_count": 48,
      "outputs": [
        {
          "output_type": "stream",
          "name": "stdout",
          "text": [
            "          氏名    氏名（ひらがな）  年齢         生年月日      性別 血液型  \\\n",
            "0      野田 大知      のだ だいち  67  1955年12月23日       男   A   \n",
            "1      金田 英俊    かねだ ひでとし  56  1966年05月20日       男   O   \n",
            "2      稲村 政昭   いなむら まさあき  62  1960年11月19日       男   A   \n",
            "3      中島 一弘   なかじま かずひろ  37  1986年02月01日  その他・不明   A   \n",
            "4      大塚 愛美    おおつか めぐみ  62  1961年02月13日       女   B   \n",
            "5      太田 紀彦    おおた のりひこ  73  1949年07月04日       男   A   \n",
            "6      平島 祐樹    ひらしま ゆうき  29  1994年02月21日       男   A   \n",
            "7       岡村 正    おかむら ただし  46  1976年08月01日       男   O   \n",
            "8     田中 麻由美     たなか まゆみ  43  1979年06月25日       女   B   \n",
            "9      磯野 千晶     いその ちあき  29  1993年06月27日       女   O   \n",
            "10      大隅 圭     おおすみ けい  74  1948年12月27日       男   O   \n",
            "11     池野 雅士     いけの まさし  64  1959年01月14日       男   B   \n",
            "12     新谷 優子    しんたに ゆうこ  23  2000年03月02日       女   O   \n",
            "13      岩崎 卓    いわさき すぐる  24  1998年08月04日       男  AB   \n",
            "14     浦田 真光    うらた まさみつ  36  1987年01月06日       男   B   \n",
            "15     関野 厚子     せきの あつこ  26  1996年08月16日       女   A   \n",
            "16     西山 光浩   にしやま みつひろ  20  2003年03月05日       男   A   \n",
            "17     堀口 彰洋   ほりぐち あきひろ  79  1944年05月01日       男   A   \n",
            "18      田中 太     たなか ふとし  75  1947年10月03日       男   A   \n",
            "19      野島 健      のじま けん  63  1959年09月27日  その他・不明   A   \n",
            "20    野上 亜由子     のがみ あゆこ  75  1948年03月08日       女  AB   \n",
            "21     今成 嘉子    いまなり よしこ  51  1971年12月26日       女   B   \n",
            "22   我如古 恵里佳     がねこ えりか  45  1977年07月24日       女   O   \n",
            "23     杉本 裕介   すぎもと ゆうすけ  23  1999年11月29日       男   A   \n",
            "24      市川 聡    いちかわ あきら  66  1956年11月25日       男   O   \n",
            "25     中西 昌子    なかにし まさこ  73  1950年04月08日       女   A   \n",
            "26     市川 一男    いちかわ かずお  24  1998年08月10日       男   O   \n",
            "27      高西 潤    たかにし じゆん  55  1968年02月05日       男   A   \n",
            "28     吉田 典明    よしだ のりあき  33  1990年02月23日  その他・不明   O   \n",
            "29     三次 和隆    みつぎ かずたか  37  1985年05月27日  その他・不明  AB   \n",
            "30      廣瀬 勉     ひろせ つとむ  32  1991年04月16日       男   A   \n",
            "31     安富 佳祐   やすとみ けいすけ  24  1999年05月01日       男   A   \n",
            "32      安藤 徹    あんどう とおる  34  1989年01月22日       男   A   \n",
            "33    西川 謙太郎  にしかわ けんたろう  68  1954年10月26日       男   O   \n",
            "34     角田 邦彦    つのだ くにひこ  22  2000年09月18日       男  AB   \n",
            "35      金井 正     かない ただし  37  1986年01月26日       男   A   \n",
            "36      宮沢 勉    みやざわ つとむ  27  1995年09月01日       男   A   \n",
            "37     横田 匡宏    よこた まさひろ  41  1981年09月18日       男   O   \n",
            "38     池田 光男    いけだ みちゅお  32  1990年09月24日       男   A   \n",
            "39     杉本 秀樹    すぎもと ひでき  25  1997年08月20日       男   A   \n",
            "40     望月 剛史    もちづき たけし  79  1944年01月16日       男   B   \n",
            "41     宮崎 昌子    みやざき まさこ  64  1958年09月10日       女   A   \n",
            "42     菊地 孝太     きくち こうた  67  1955年11月29日       男   O   \n",
            "43      糠信 学    ぬかのぶ まなぶ  56  1967年02月23日       男   A   \n",
            "44      山崎 充    やまざき みつる  76  1946年06月06日       男   O   \n",
            "45      山口 純     やまぐち あや  79  1943年12月10日       男   A   \n",
            "46     海老澤 晋    えびさわ すすむ  54  1968年11月07日       男   B   \n",
            "47     河津 宏樹     かわづ ひろき  24  1998年06月08日       男   O   \n",
            "48     都築 航平    つづき こうへい  36  1987年02月19日       男   B   \n",
            "49      沖本 浩    おきもと ひろし  55  1967年10月03日       男   A   \n",
            "50      谷口 学    たにぐち まなぶ  56  1967年02月19日  その他・不明   A   \n",
            "51     浜田 和也     はまだ かずや  56  1967年02月16日       男   O   \n",
            "52     中西 俊広   なかにし としひろ  38  1984年10月28日       男   O   \n",
            "53     窪田 雄介    くぼた ゆうすけ  39  1983年11月23日       男   O   \n",
            "54      森 恭子     もり きょうこ  47  1976年02月18日       女   A   \n",
            "55     吉田 孝文    よしだ たかふみ  72  1950年11月07日       男   A   \n",
            "56    岩村 有紀子    いわむら ゆきこ  25  1997年09月18日  その他・不明   A   \n",
            "57     浅井 昭宏    あさい あきひろ  45  1977年06月26日       男   A   \n",
            "58     牧野 智明    まきの ともあき  57  1965年07月20日       男   O   \n",
            "59      橋 良彦     はし よしひこ  20  2002年12月26日       男   A   \n",
            "60     葛原 康人    くずはら やすと  50  1972年09月22日       男   O   \n",
            "61     植野 穂高     うえの ほたか  80  1942年09月04日       男   B   \n",
            "62    佐藤 みゆき     さとう みゆき  63  1959年06月16日  その他・不明   B   \n",
            "63     高田 康博    たかだ やすひろ  50  1973年02月12日       男   O   \n",
            "64      金沢 茂    かなざわ しげる  71  1951年09月06日       男   A   \n",
            "65     赤峰 信之   あかみね のぶゆき  37  1986年01月09日       男   O   \n",
            "66    山本 ゆりえ    やまもと ゆりえ  58  1964年07月24日       女   A   \n",
            "67    斉藤 美紗子    さいとう みさこ  61  1962年04月17日       女   O   \n",
            "68     金子 将太    かねこ しょうた  39  1983年06月18日       男   A   \n",
            "69     足利 豊和   あしかが とよかず  35  1987年08月05日       男   O   \n",
            "70     有田 貴史     ありた たかし  74  1949年04月13日       男   O   \n",
            "71     新谷 郁子    しんたに いくこ  53  1970年02月10日       女   B   \n",
            "72     渡瀬 昌宏    わたせ まさひろ  69  1953年07月08日       男   B   \n",
            "73     安田 保孝    やすだ やすたか  65  1958年03月25日       男   A   \n",
            "74     福田 恵美      ふくだ えみ  53  1969年09月28日       女   O   \n",
            "75      千葉 譲      ちば ゆずる  63  1960年02月12日       男   A   \n",
            "76     石井 守弘    いしい もりひろ  34  1988年08月04日       男  AB   \n",
            "77     多田 真弓      ただ まゆみ  58  1964年09月29日       女   A   \n",
            "78     大塚 洋子    おおつか ようこ  48  1974年12月21日       女   B   \n",
            "79    望月 オサム    もちづき おさむ  67  1955年07月21日       男   B   \n",
            "80      柳澤 諒   やなぎさわ りょう  22  2000年11月01日       男   O   \n",
            "81     橋本 実奈     はしもと みな  28  1994年12月01日       女  AB   \n",
            "82      岡部 香     おかべ かおり  30  1993年01月07日       女   O   \n",
            "83      石神 梢    いしがみ こずえ  72  1950年08月25日       女   A   \n",
            "84    野瀬 征一郎   のせ せいいちろう  37  1985年09月23日       男   B   \n",
            "85     山本 和美    やまもと かずみ  56  1967年04月17日       女   O   \n",
            "86     富田 宏美     とみた ひろみ  49  1973年12月06日       女   O   \n",
            "87     森山 和裕   もりやま かずひろ  26  1997年01月24日       男   O   \n",
            "88     齋藤 健一   さいとう けんいち  74  1948年06月15日       男   A   \n",
            "89     佐藤 健人     さとう けんと  69  1953年05月13日       男   B   \n",
            "90     奥村 享子   おくむら きょうこ  73  1950年01月19日       女   A   \n",
            "91    渡邊 小夜子    わたなべ さよこ  38  1984年11月27日       女  AB   \n",
            "92    長谷川 祐子    はせがわ ゆうこ  33  1989年12月05日       女  AB   \n",
            "93     早苗 陽子     さなえ ようこ  42  1980年12月06日       女   O   \n",
            "94     杉本 拓海    すぎもと たくみ  21  2001年08月30日       男   B   \n",
            "95     小西 竜也     こにし たつや  58  1965年01月25日       男   A   \n",
            "96     平子 和郎     ひらこ かずお  57  1966年03月24日       男   O   \n",
            "97     北村 優子    きたむら ゆうこ  54  1968年08月22日       女   B   \n",
            "98      篠原 徹    しのはら とおる  79  1943年07月22日       男   A   \n",
            "99     松村 寿人    まつむら ひさと  24  1998年08月13日       男   B   \n",
            "100    甲斐 貴士      かい たかし  44  1978年11月15日       男   O   \n",
            "101    加藤 慎一    かとう しんいち  37  1985年12月08日       男   B   \n",
            "102    田中 明彦    たなか あきひこ  29  1993年06月19日       男   B   \n",
            "103    宮崎 健太    みやざき けんた  68  1954年05月21日       男   A   \n",
            "104   井関 真里子     いせき まりこ  68  1954年09月30日       女   B   \n",
            "105     川上 渉    かわかみ わたる  29  1993年05月13日       男   A   \n",
            "106   横山 由美子    よこやま ゆみこ  42  1980年05月23日       女   O   \n",
            "107    山岸 恵理     やまぎし えり  56  1967年03月12日       女   O   \n",
            "108    福田 克彦    ふくだ かつひこ  41  1982年03月04日       男   O   \n",
            "109   野口 由香里     のぐち ゆかり  60  1962年07月29日       女  AB   \n",
            "110     森 賢一     もり けんいち  37  1985年06月23日       男   O   \n",
            "111    工藤 梨沙      くどう りさ  80  1942年05月25日       女  AB   \n",
            "112    鈴木 晴香     すずき はるか  39  1983年10月20日       女   O   \n",
            "113    山内 裕介   やまうち ゆうすけ  75  1947年11月12日  その他・不明  AB   \n",
            "114    岩瀬 大輔    いわせ だいすけ  45  1977年07月20日       男   O   \n",
            "115    河合 宏行    かわい ひろゆき  46  1976年10月04日       男   O   \n",
            "116    萬田 逸郎    まんだ いつろう  73  1949年08月28日       男   O   \n",
            "117     藤原 愛     ふじわら あい  22  2000年08月03日       女   O   \n",
            "118   片岡 ゆりこ    かたおか ゆりこ  22  2000年06月09日       女   A   \n",
            "119    伊藤 浩明    いとう ひろあき  76  1946年08月20日       男   A   \n",
            "120    金 真理子      きむ まりこ  43  1979年06月18日       女   A   \n",
            "121     山本 照     やまもと てる  39  1983年11月06日       男   O   \n",
            "122     壱岐 基      いき もとい  42  1981年03月16日       男   O   \n",
            "123    野尻 弘子     のじり ひろこ  69  1953年07月19日       女   A   \n",
            "124    野嶋 広大    のじま こうだい  49  1974年02月21日       男   A   \n",
            "125    桶谷 潤一  おけたに じゅんいち  55  1967年08月26日       男   A   \n",
            "126    中野 佳奈      なかの かな  43  1979年12月19日       女   O   \n",
            "127    麻生 太一     あそう たいち  78  1944年11月11日       男   A   \n",
            "128    杉内 英晃   すぎうち ひであき  80  1942年06月19日       男   A   \n",
            "129    浜名 亜依      はまな あい  48  1975年04月24日       女  AB   \n",
            "130    中島 桂介   なかじま けいすけ  44  1978年12月23日       男   B   \n",
            "131    加藤 京平   かとう きょうへい  75  1948年03月30日  その他・不明   O   \n",
            "132    金光 美和     かねみつ みわ  39  1984年01月27日       女   A   \n",
            "133    西岡 純一  にしおか じゅんいち  59  1964年04月11日       男   A   \n",
            "134    平山 武宏   ひらやま たけひろ  53  1969年11月21日       男   O   \n",
            "135    富田 敦子     とみた あつこ  20  2003年03月29日       女   A   \n",
            "136   工藤 あずさ     くどう あずさ  40  1982年10月16日       女   B   \n",
            "137    小柴 哲也     こしば てつや  51  1971年08月06日       男   O   \n",
            "138    田中 匠太    たなか しょうた  53  1969年07月18日       男   B   \n",
            "139    宮本 圭治    みやもと けいじ  49  1974年02月08日       男   B   \n",
            "140    山岸 まい     やまぎし まい  25  1998年01月30日       女   O   \n",
            "141    山崎 順一  やまざき じゅんいち  51  1971年11月23日       男   A   \n",
            "142    藤崎 雅也    ふじさき まさや  46  1976年11月18日       男   O   \n",
            "143    吉田 和美     よしだ かずみ  72  1951年01月18日       女   O   \n",
            "144    豊澤 幹子    とよさわ みきこ  21  2001年12月07日       女   B   \n",
            "145     橋本 稔    はしもと みのる  45  1977年11月12日       男   O   \n",
            "146    野口 俊彦    のぐち としひこ  58  1965年04月13日       男   O   \n",
            "147     林 哲也     はやし てつや  28  1994年06月10日       男   B   \n",
            "148    石村 真菜     いしむら まな  26  1997年03月22日       女   B   \n",
            "149    寺山 和生    てらやま かずお  62  1961年02月20日       男   B   \n",
            "150    野村 伸夫     のむら のぶお  50  1972年08月27日       男   A   \n",
            "151    竹原 雅樹    たけはら まさき  56  1967年02月20日       男   B   \n",
            "152    羽根 英二      はね えいじ  68  1955年01月21日       男   O   \n",
            "153    伊藤 麻美     いとう あさみ  58  1965年03月05日       女   A   \n",
            "154    大森 映子    おおもり えいこ  58  1965年01月07日       女   B   \n",
            "155    奥間 兼司     おくま けんじ  66  1957年02月09日       男   O   \n",
            "156    荒木 正明    あらき まさあき  29  1993年05月12日       男   B   \n",
            "157    堀内 健司    ほりうち けんじ  44  1978年12月25日       男   A   \n",
            "158   奥村 真理子    おくむら まりこ  43  1980年02月08日       女   O   \n",
            "159   佐々木 光子    ささき ひかるこ  36  1986年06月03日       女   O   \n",
            "160    高砂 桂子    たかさご けいこ  64  1958年10月28日       女   A   \n",
            "161     石渡 悟    いしわた さとる  29  1994年01月07日       男   O   \n",
            "162    丸尾 早苗     まるお さなえ  55  1967年11月21日       女   B   \n",
            "163     渡辺 翼    わたなべ つばさ  33  1990年01月23日       男   B   \n",
            "164    田中 拓也     たなか たくや  68  1955年02月25日       男   B   \n",
            "165    松島 光則   まつしま みつのり  78  1945年03月28日       男   A   \n",
            "166    崎山 弘一   さきやま こういち  43  1979年11月20日       男   A   \n",
            "167    谷 由美子      たに ゆみこ  36  1986年07月08日       女   A   \n",
            "168    大西 彰子    おおにし あきこ  75  1948年01月11日  その他・不明   A   \n",
            "169   高瀬 真由美     たかせ まゆみ  46  1976年10月26日       女   A   \n",
            "170    小西 将人     こにし まさと  73  1950年02月17日       男   A   \n",
            "171    細田 敏哉     ほそだ としや  26  1997年03月15日       男   O   \n",
            "172     沢村 匠    さわむら たくみ  43  1979年12月04日       男   A   \n",
            "173   藤井 さおり     ふじい さおり  77  1945年07月30日       女  AB   \n",
            "174     川口 徹    かわぐち とおる  60  1962年09月27日       男   O   \n",
            "175    蒲谷 修一   かばや しゅういち  46  1976年11月11日       男   O   \n",
            "176    坂口 詩織    さかぐち しおり  68  1954年11月17日       女   B   \n",
            "177    加藤 直人     かとう なおと  61  1961年05月16日       男   B   \n",
            "178     小林 亮    こばやし りょう  26  1996年07月02日       男   O   \n",
            "179    熱田 伸介    あつた しんすけ  65  1957年07月07日       男   O   \n",
            "180     中西 稔    なかにし みのる  35  1987年12月28日       男   A   \n",
            "181     澤井 豊     さわい ゆたか  78  1944年06月22日       男   O   \n",
            "182    関口 亮子   せきぐち りょうこ  71  1952年04月03日       女   A   \n",
            "183    佐藤 麗奈     さとう れいな  69  1953年09月19日       女   O   \n",
            "184     西 美帆       にし みほ  46  1977年01月18日       女   B   \n",
            "185   穴井 ひかり     あない ひかり  59  1963年07月14日       女   A   \n",
            "186    菅原 紀江    すがわら のりえ  44  1979年02月19日  その他・不明   A   \n",
            "187    安川 志保     やすかわ しほ  72  1951年05月07日       女   B   \n",
            "188    加勢 俊輔   かせい しゅんすけ  56  1966年05月21日       男   O   \n",
            "189    山本 裕子    やまもと ゆうこ  50  1972年09月09日       女   A   \n",
            "190    渡部 美帆     わたなべ みほ  48  1974年07月12日       女   O   \n",
            "191     渡部 修    わたなべ おさむ  47  1975年07月21日       男   B   \n",
            "192    直井 雅代     なおい まさよ  46  1977年03月03日       女   B   \n",
            "193    川波 文仁   かわなみ ふみひと  73  1949年09月07日       男   O   \n",
            "194   森田 由樹子     もりた ゆきこ  37  1985年11月13日       女   A   \n",
            "195    古川 聡太    ふるかわ そうた  35  1987年12月22日       男   B   \n",
            "196   宇佐美 紘子     うさみ ひろこ  21  2002年02月17日       女   B   \n",
            "197    吉池 博子    よしいけ ひろこ  27  1995年08月28日       女   O   \n",
            "198   坂本 亜紀子    さかもと あきこ  42  1980年12月13日       女   A   \n",
            "199    山口 千尋    やまぐち ちひろ  29  1993年09月09日       女   A   \n",
            "\n",
            "                               メールアドレス          電話番号         携帯電話番号      郵便番号  \\\n",
            "0               nodadaichi@example.com  0964-63-4407  080-8537-4965  867-2838   \n",
            "1          kanedahidetoshi@example.org  0846-39-1554  080-3826-9491  730-7952   \n",
            "2           inamuramasaaki@example.net  06-6819-4382  080-4393-4681  577-6363   \n",
            "3        nakajima_kazuhiro@example.com  03-8838-4950  080-2420-0588  119-6946   \n",
            "4          otsuka_megumi@example.ne.jp  01587-7-2293  050-8744-2152  079-4718   \n",
            "5            norihikoota@example.co.jp  03-9879-5847  090-9720-6999  165-0390   \n",
            "6          hirashima_yuuki@example.net  048-756-3820  050-9067-9055  337-5796   \n",
            "7           okamuratadashi@example.net  0761-87-9788  050-4329-7356  929-3323   \n",
            "8          tanaka_mayumi@example.co.jp  0226-59-9925  080-6749-7747  980-5410   \n",
            "9            isonochiaki@example.co.jp  0554-58-5100  090-6627-1943  404-5624   \n",
            "10            osumi_1227@example.co.jp  0460-58-1175  070-8929-4862  254-3682   \n",
            "11            masashiikeno@example.net  0225-81-0148  080-1241-7619  985-0993   \n",
            "12          yuuko_shintani@example.net  06-2351-4861  050-2765-0691  595-5255   \n",
            "13           iwasakisuguru@example.com  03-6627-4179  090-2131-1304  146-2261   \n",
            "14                urata_16@example.com  03-2862-4541  080-5582-4468  107-3179   \n",
            "15          sekinoatsuko@example.co.jp  06-5753-6240  050-7596-0486  585-6522   \n",
            "16     nishiyama_mitsuhiro@example.net  03-6558-5257  050-7959-4257  175-7377   \n",
            "17            horiguchi_51@example.com  093-749-7174  090-5742-3507  833-8121   \n",
            "18           tanakafutoshi@example.net  03-3298-6509  050-9087-8847  205-2274   \n",
            "19                kennojima@example.jp  045-532-3266  050-4903-4325  236-4466   \n",
            "20            nogami_ayuko@example.com  03-8839-1053  090-7596-4195  100-1580   \n",
            "21             imanari1226@example.net  06-5448-2348  080-7786-6827  590-7030   \n",
            "22               ganeko724@example.com  0798-36-1572  090-4479-5913  673-7438   \n",
            "23        sugimoto_yuusuke@example.net  044-703-8349  050-4098-5965  246-9051   \n",
            "24           ichikawa_1125@example.net  03-5273-2251  050-6610-8314  194-0601   \n",
            "25         nakanishimasako@example.org  03-7077-4005  090-2181-1635  179-8141   \n",
            "26        ichikawa_kazuo@example.co.jp  0145-48-3136  070-8135-4111  095-5780   \n",
            "27          takanishijiyun@example.org  03-4536-8120  070-5756-8184  189-6238   \n",
            "28         noriaki_yoshida@example.com  03-3656-5907  090-5640-0617  136-8833   \n",
            "29         kazutakamitsugi@example.com  03-7635-1814  090-9970-8389  208-4839   \n",
            "30               hirose416@example.org  046-156-1317  080-8565-4055  233-3474   \n",
            "31      keisuke_yasutomi@example.ne.jp  0799-38-7186  050-1104-9430  652-9429   \n",
            "32             andou_tooru@example.com  03-9940-2763  070-8392-8063  111-3082   \n",
            "33         nishikawa1026@example.ne.jp  0827-20-6970  080-4636-2426  728-9603   \n",
            "34        tsunoda_kunihiko@example.net  0531-10-0629  050-3976-3681  464-2930   \n",
            "35               kanai_126@example.com  046-203-4248  050-9525-1627  220-4204   \n",
            "36       miyazawatsutomu@example.co.jp  03-5792-6575  050-4708-6115  113-4331   \n",
            "37          masahiroyokota@example.net  046-751-6474  090-9925-9942  232-5363   \n",
            "38                ikeda924@example.net  03-4017-7624  090-7809-7270  163-9094   \n",
            "39          hidekisugimoto@example.com  0467-02-4823  090-0756-3149  249-4772   \n",
            "40        takeshimochizuki@example.net  03-0084-6478  080-8805-7968  176-4428   \n",
            "41        miyazakimasako@example.co.jp  01564-7-3906  090-1444-8105  048-0338   \n",
            "42           kikuchi1129@example.co.jp  03-0581-1349  090-6060-0092  127-2709   \n",
            "43          nukanobumanabu@example.com  047-317-9071  050-1382-1890  281-9841   \n",
            "44        mitsuru_yamazaki@example.net  046-523-8860  050-9244-9356  249-0298   \n",
            "45           yamaguchi1210@example.net  03-0666-8758  080-3115-1852  156-4091   \n",
            "46             ebisawa_117@example.net  06-0260-5620  050-4281-8647  569-6767   \n",
            "47           kawazu_hiroki@example.org  03-5513-3030  080-6110-0464  194-4119   \n",
            "48               tsuzuki219@example.jp  0740-08-5660  070-4509-4828  524-6284   \n",
            "49           okimoto_103@example.co.jp  03-0479-3068  080-1607-5390  207-0018   \n",
            "50          taniguchi219@example.co.jp  0476-68-8449  070-5164-3016  266-1744   \n",
            "51          hamadakazuya@example.co.jp  03-4556-6453  090-4666-4781  133-1838   \n",
            "52     toshihiro_nakanishi@example.com  0467-43-8276  080-4535-1748  220-1018   \n",
            "53              kubota1123@example.org  0154-68-4066  070-5530-4358  091-5946   \n",
            "54              mori_218@example.co.jp  03-7363-3113  090-6656-7383  102-8353   \n",
            "55         takafumi_yoshida@example.jp  03-8096-0713  090-1775-6898  168-6798   \n",
            "56              iwamura918@example.net  0568-74-3030  090-2625-5083  479-7972   \n",
            "57               asai626@example.co.jp  03-1893-2112  090-3166-7335  189-4056   \n",
            "58         makinotomoaki@example.ne.jp  044-900-6513  050-1457-9285  240-3431   \n",
            "59         yoshihiko_hashi@example.com  03-8516-8629  070-9196-3629  135-1683   \n",
            "60          yasuto_kuzuhara@example.jp  0172-50-9619  090-7514-1760  032-1815   \n",
            "61           hotaka_ueno@example.ne.jp  03-8545-9818  090-5762-7279  146-9460   \n",
            "62           miyuki_sato@example.co.jp  0569-25-8591  050-8154-2855  463-0367   \n",
            "63          takadayasuhiro@example.com  03-4484-1538  070-4239-1220  121-1258   \n",
            "64         kanazawa_shigeru@example.jp  0124-83-5433  080-2612-0657  094-2220   \n",
            "65       akaminenobuyuki@example.co.jp  044-182-9308  080-1269-5022  241-0088   \n",
            "66             yamamoto724@example.net  0955-23-6460  090-2829-1376  844-2465   \n",
            "67             misakosaito@example.com  0175-25-1507  080-6148-6486  037-4816   \n",
            "68         kaneko_shouta@example.ne.jp  0564-45-0628  080-4342-2250  498-2795   \n",
            "69               ashikaga85@example.jp  0569-48-4432  050-6624-9500  482-7736   \n",
            "70            aritatakashi@example.com  044-446-1305  050-9993-3243  227-5824   \n",
            "71           shintani210@example.co.jp  09802-3-3479  080-6008-3529  908-9870   \n",
            "72          watasemasahiro@example.org  06-8691-3773  080-6168-5600  587-6353   \n",
            "73                yasuda325@example.jp  0438-92-5319  050-3230-8770  263-3691   \n",
            "74              fukuda_928@example.com  03-1281-5110  070-6402-0710  197-9076   \n",
            "75            yuzuru_chiba@example.org  09913-7-3658  050-7973-8008  896-3041   \n",
            "76           ishii_morihiro@example.jp  03-3481-7590  080-6439-8572  136-6925   \n",
            "77                tada_929@example.org  03-4090-1401  050-4127-9206  204-6701   \n",
            "78             otsuka_1221@example.org  03-2663-8123  070-9339-5605  158-1104   \n",
            "79            mochizuki721@example.net  0531-59-5187  080-0031-8497  440-3456   \n",
            "80         yanagisawa_ryou@example.org  03-9535-3698  070-7506-7476  165-1360   \n",
            "81           hashimoto_121@example.com  03-0027-1498  080-2893-2589  159-7888   \n",
            "82              okabekaori@example.org  03-0776-4623  080-3779-9301  145-5060   \n",
            "83        kozue_ishigami@example.co.jp  06-7410-4887  090-5292-1864  582-9006   \n",
            "84           seiichirounose@example.jp  03-3629-0935  050-3047-7269  197-4574   \n",
            "85          kazumiyamamoto@example.com  099-768-3474  050-6502-6443  898-5061   \n",
            "86            tomita_126@example.ne.jp  043-974-5161  070-7171-5413  263-5924   \n",
            "87             moriyama124@example.net  0829-46-5030  080-7467-1043  735-4623   \n",
            "88            kenichisaito@example.com  0166-35-1202  070-1166-7219  074-4140   \n",
            "89              kento_sato@example.com  0463-22-6971  050-9870-7746  212-1274   \n",
            "90           kyoukookumura@example.org  0238-95-5684  090-1857-7477  990-0179   \n",
            "91         sayoko_watanabe@example.org  06-8298-3662  090-8514-7292  541-3467   \n",
            "92             hasegawa125@example.org  03-5236-0603  050-7560-5332  182-1514   \n",
            "93             youko_sanae@example.net  0797-83-2182  090-8006-8242  665-3533   \n",
            "94           sugimototakumi@example.jp  046-973-5497  090-4952-3564  259-2232   \n",
            "95              konishi125@example.org  03-0150-4008  050-7090-3759  193-7966   \n",
            "96              hirako_324@example.com  01372-9-4699  090-3672-6995  093-7699   \n",
            "97          kitamura_yuuko@example.org  055-581-4318  070-9055-4766  421-0853   \n",
            "98         tooru_shinohara@example.org  043-000-4409  070-9126-6224  285-4026   \n",
            "99          matsumura813@example.ne.jp  03-6979-4949  080-1770-4230  168-3172   \n",
            "100            takashi_kai@example.org  03-8579-9492  080-6199-2749  119-5379   \n",
            "101          shinichi_kato@example.com  0465-47-8130  070-3597-2628  247-2506   \n",
            "102            tanaka619@example.co.jp  03-3557-1217  080-6257-0073  168-6638   \n",
            "103          kentamiyazaki@example.com  06-9899-4731  050-3552-1912  597-4716   \n",
            "104              iseki_930@example.net  0749-50-7240  090-2126-6039  522-5126   \n",
            "105          kawakami513@example.co.jp  03-0378-6170  070-2511-8448  207-5877   \n",
            "106        yumiko_yokoyama@example.org  0162-86-8125  080-0885-8995  061-0411   \n",
            "107         yamagishi312@example.co.jp  0587-57-3232  080-5465-5662  486-6244   \n",
            "108        fukuda_katsuhiko@example.jp  0165-66-1876  070-1119-0341  080-6625   \n",
            "109          noguchi_729@example.ne.jp  03-0091-9243  050-7417-0738  184-9972   \n",
            "110                mori623@example.com  03-9303-0765  080-3783-3512  134-6701   \n",
            "111             kudou525@example.co.jp  03-9281-6931  050-3670-5749  140-8403   \n",
            "112            suzuki_1020@example.com  03-7361-9800  050-2750-2749  123-9263   \n",
            "113         yamauchi1112@example.co.jp  0495-00-0654  080-0087-7870  337-4125   \n",
            "114          iwase_daisuke@example.org  0155-56-7822  050-0401-4880  059-6038   \n",
            "115            kawai_104@example.ne.jp  03-1714-7419  090-4628-5799  142-7132   \n",
            "116          manda_itsurou@example.org  06-7861-4954  090-3955-2813  539-4231   \n",
            "117             fujiwara83@example.org  0797-20-1815  090-4038-5097  665-5559   \n",
            "118          yurikokataoka@example.net  0467-26-2615  070-0622-7438  210-6287   \n",
            "119          hiroaki_ito@example.ne.jp  03-4105-2813  080-8163-1720  182-6455   \n",
            "120             kimu_618@example.co.jp  03-9668-3456  070-6046-9560  208-1029   \n",
            "121            yamamoto116@example.com  03-9532-9599  090-3149-8774  197-1843   \n",
            "122              iki_motoi@example.org  045-624-9382  090-3937-6229  223-8714   \n",
            "123          nojiri_hiroko@example.net  03-0621-5706  070-8487-6365  122-5825   \n",
            "124           kodai_nojima@example.net  0533-48-3390  090-5699-7947  487-1705   \n",
            "125             oketani_826@example.jp  03-5722-7654  090-5532-2540  139-7599   \n",
            "126           kananakano@example.co.jp  0467-53-8560  080-3744-6900  218-6947   \n",
            "127                aso1111@example.com  03-1818-2474  070-2016-4205  157-6546   \n",
            "128     sugiuchi_hideaki@example.ne.jp  0894-87-1889  090-4441-7885  790-7201   \n",
            "129              hamana424@example.net  0573-91-2895  070-0311-1942  500-4944   \n",
            "130           nakajima1223@example.com  0480-27-5257  090-6857-5063  368-4797   \n",
            "131            kyouhei_kato@example.jp  03-4250-3247  080-1064-3754  149-7900   \n",
            "132        miwakanemitsu@example.ne.jp  0790-89-8925  070-9236-2996  676-1321   \n",
            "133             nishioka411@example.jp  06-3772-2374  090-0191-2002  548-7862   \n",
            "134        hirayama_1121@example.co.jp  06-9584-1886  050-4616-1368  535-3083   \n",
            "135           tomita_atsuko@example.jp  0537-24-6844  090-3202-2770  418-7224   \n",
            "136             kudouazusa@example.com  06-3359-9764  080-2917-7265  542-0161   \n",
            "137      koshiba_tetsuya@example.co.jp  0773-83-0381  080-9137-9536  603-0677   \n",
            "138        shouta_tanaka@example.ne.jp  06-5136-0864  070-2432-2757  564-5558   \n",
            "139          miyamotokeiji@example.net  048-241-7114  050-0397-1120  341-7747   \n",
            "140        yamagishi_mai@example.ne.jp  0561-02-5729  050-4444-5761  459-6511   \n",
            "141           yamazaki1123@example.org  0565-35-6832  090-0354-9282  490-9666   \n",
            "142            fujisaki1118@example.jp  0791-52-4997  080-3837-5455  665-5290   \n",
            "143            yoshida_118@example.org  0143-41-2141  080-9835-7956  053-0059   \n",
            "144      toyosawa_mikiko@example.co.jp  06-6847-3987  090-4646-9936  541-4788   \n",
            "145           hashimoto1112@example.jp  045-155-5455  050-5751-1265  249-7058   \n",
            "146              noguchi413@example.jp  0949-13-5922  080-3072-9890  839-8953   \n",
            "147        hayashi_tetsuya@example.com  0436-67-4907  090-5658-3581  297-8906   \n",
            "148           ishimura_322@example.org  03-6131-7100  050-8154-3934  107-7576   \n",
            "149          kazuoterayama@example.net  03-3722-5292  090-9759-1307  118-7185   \n",
            "150         nobuo_nomura@example.ne.jp  06-7977-6168  090-1831-1116  571-0833   \n",
            "151            takehara220@example.net  0568-61-9473  050-1280-1061  452-8619   \n",
            "152            eiji_hane@example.co.jp  07468-5-5890  090-8958-7331  639-0241   \n",
            "153               asamiito@example.net  0930-10-8259  080-0996-0598  803-3191   \n",
            "154                omori17@example.com  0297-27-2439  090-7160-6906  304-8675   \n",
            "155               okuma_29@example.net  06-2848-6586  070-2157-2658  585-6328   \n",
            "156           masaakiaraki@example.net  0761-95-9150  050-7567-9344  924-6207   \n",
            "157          kenjihoriuchi@example.net  0162-65-2571  050-2958-8911  006-2798   \n",
            "158        okumuramariko@example.co.jp  0847-49-0522  090-9362-1947  728-2144   \n",
            "159       hikarukosasaki@example.co.jp  0174-25-3981  070-6991-3569  032-9016   \n",
            "160          keikotakasago@example.com  0465-15-0855  090-0519-2582  224-1847   \n",
            "161             ishiwata17@example.org  03-9929-1072  090-3666-9080  149-3561   \n",
            "162           maruosanae@example.ne.jp  0774-56-3038  080-8060-8283  603-4290   \n",
            "163       watanabe_tsubasa@example.org  03-8890-5530  050-2020-5230  139-5754   \n",
            "164           takuyatanaka@example.com  06-4798-8925  070-9571-0476  589-8410   \n",
            "165  matsushimamitsunori@example.ne.jp  03-8740-1858  050-3938-6663  206-5632   \n",
            "166         koichi_sakiyama@example.jp  044-968-7339  080-7703-9686  214-4049   \n",
            "167                tani_78@example.org  0554-08-9422  090-3970-8736  403-8975   \n",
            "168           onishi_akiko@example.net  03-5282-7283  070-3072-5014  203-2259   \n",
            "169           takase_mayumi@example.jp  0823-87-0088  050-9356-1058  724-5127   \n",
            "170            konishi_217@example.net  0460-33-6838  080-4964-6062  245-2384   \n",
            "171              hosoda315@example.net  03-0551-5934  090-3882-7315  190-4502   \n",
            "172       sawamuratakumi@example.co.jp  03-2427-8406  050-3367-3210  174-8007   \n",
            "173           fujiisaori@example.co.jp  06-7778-2238  080-0086-7578  583-9596   \n",
            "174        tooru_kawaguchi@example.com  0467-01-1737  050-4252-5287  211-7528   \n",
            "175        shuuichi_kabaya@example.net  0460-29-9709  080-3867-2017  235-0111   \n",
            "176      shiorisakaguchi@example.co.jp  0478-53-0007  080-4078-7743  292-1744   \n",
            "177           kato_naoto@example.ne.jp  03-2481-6150  090-7352-9078  103-2415   \n",
            "178         kobayashi_72@example.co.jp  03-6544-0773  080-8028-7389  126-2687   \n",
            "179          shinsukeatsuta@example.jp  03-7853-4008  080-5329-3754  100-8331   \n",
            "180      minorunakanishi@example.ne.jp  092-523-0246  070-6330-9611  835-4412   \n",
            "181             yutakasawai@example.jp  0493-85-1688  090-5076-2376  346-4393   \n",
            "182        sekiguchiryouko@example.net  0494-35-6735  090-5482-7471  353-8223   \n",
            "183             reina_sato@example.org  0257-71-1292  050-1695-8690  953-5451   \n",
            "184             nishi118@example.ne.jp  0479-95-4587  090-4171-6883  282-1918   \n",
            "185             anaihikari@example.net  06-0031-7730  090-1885-3243  544-9525   \n",
            "186       sugawara_norie@example.ne.jp  09913-8-2025  090-4473-1105  893-7954   \n",
            "187        shihoyasukawa@example.co.jp  03-2423-6201  080-0891-0754  145-1114   \n",
            "188       kasei_shunsuke@example.ne.jp  06-7869-7959  070-6174-7663  559-8660   \n",
            "189         yuuko_yamamoto@example.net  04-4682-2460  090-9292-0076  363-1834   \n",
            "190           mihowatanabe@example.org  03-5994-9669  090-3099-3228  139-6097   \n",
            "191         watanabe_721@example.ne.jp  0883-64-3384  090-7697-3005  777-1643   \n",
            "192             masayonaoi@example.net  03-8399-6058  070-2300-2716  122-1661   \n",
            "193      fumihito_kawanami@example.org  0480-51-8182  050-6572-6116  343-2879   \n",
            "194        yukiko_morita@example.ne.jp  03-4196-3978  050-5228-3280  134-4136   \n",
            "195           furukawasota@example.com  0267-77-2518  090-1424-3975  392-9646   \n",
            "196            hirokousami@example.com  0494-05-3136  080-6575-1815  347-1039   \n",
            "197        yoshiike_hiroko@example.com  03-0362-8237  070-3530-6019  202-5618   \n",
            "198         sakamoto1213@example.ne.jp  0564-53-7373  080-8975-8091  445-2380   \n",
            "199          yamaguchi99@example.co.jp  098-040-1206  070-5670-2041  903-9529   \n",
            "\n",
            "                                  住所                会社名  eleven_end   月    特別区  \n",
            "0                   熊本県熊本市西区春日2-4-10                NaN       False  12  False  \n",
            "1                    広島県福山市川口町1-2-12        合名会社染谷農機工作所       False   5  False  \n",
            "2                 大阪府大阪市住之江区南港中4-2-4                NaN       False  11  False  \n",
            "3                     東京都渋谷区広尾2-5-15             合資会社橘屋       False   2   True  \n",
            "4                 北海道沙流郡日高町富川南3-2-18                NaN       False   2  False  \n",
            "5              東京都港区六本木2-3-7ルミエール310                NaN       False   7   True  \n",
            "6                   埼玉県川口市鳩ヶ谷本町3-1-6          有限会社伊藤工務店       False   2  False  \n",
            "7                     石川県金沢市大野町1-1-8            株式会社YSK       False   8  False  \n",
            "8                  宮城県仙台市青葉区一番町3-5-5             有限会社三幸       False   6  False  \n",
            "9                山梨県甲府市飯田4-2-7コート506          合資会社雲出製菓舗       False   6  False  \n",
            "10              神奈川県川崎市麻生区金程2-3-1001                NaN       False  12  False  \n",
            "11                    宮城県名取市閖上1-2-13                NaN       False   1  False  \n",
            "12                  大阪府藤井寺市道明寺3-4-13          合同会社エトワール       False   3  False  \n",
            "13           東京都荒川区町屋3-5-4エステムプラザ601              株式会社英       False   8   True  \n",
            "14           東京都江戸川区平井4-1-8セレブコート113           株式会社ミリオン       False   1   True  \n",
            "15              大阪府大阪市東淀川区下新庄3-5-105           有限会社サンアイ       False   8  False  \n",
            "16                    東京都世田谷区用賀4-2-4                NaN       False   3   True  \n",
            "17                  福岡県福岡市南区皿山2-1-18                NaN       False   5  False  \n",
            "18        東京都豊島区西池袋1-5-1201ダイナシティ801                NaN       False  10   True  \n",
            "19         神奈川県横浜市泉区緑園3-4-3セレブコート103                NaN       False   9  False  \n",
            "20                    東京都千代田区麹町1-3-7                NaN       False   3   True  \n",
            "21   大阪府大阪市阿倍野区阪南町2-1-9ニチモグリーンタウン112            有限会社中村組       False  12  False  \n",
            "22                 兵庫県神戸市中央区多聞通3-5-4         神前タクシー有限会社       False   7  False  \n",
            "23                 神奈川県横浜市中区尾上町3-2-9            有限会社ダイワ       False  11  False  \n",
            "24                   東京都港区虎ノ門3-1-505                NaN       False  11   True  \n",
            "25                    東京都足立区鹿浜1-4-13                NaN       False   4   True  \n",
            "26            北海道日高郡新ひだか町静内ときわ町1-2-7           有限会社富士産業        True   8  False  \n",
            "27                     東京都港区六本木1-1-9           株式会社エイコー       False   2   True  \n",
            "28                  東京都葛飾区東四つ木2-1-19          合同会社ＢＯＷＴＹ       False   2   True  \n",
            "29                   東京都千代田区九段北4-1-9             太田合名会社       False   5   True  \n",
            "30          神奈川県横須賀市長坂1-1-9シティハウス410             株式会社三喜       False   4  False  \n",
            "31                 兵庫県西宮市山口町上山口3-1-8  オリオン通信ネットワークス合資会社       False   5  False  \n",
            "32                     東京都台東区根岸3-3-3                NaN       False   1   True  \n",
            "33                 広島県福山市南蔵王町2-4-405                NaN       False  10  False  \n",
            "34                愛知県名古屋市中村区松原町2-1-8            合資会社三好野       False   9  False  \n",
            "35                 神奈川県横浜市南区山王町2-2-5           株式会社コウセイ       False   1  False  \n",
            "36                    東京都羽村市神明台1-3-7           株式会社アップル       False   9  False  \n",
            "37                 神奈川県横浜市中区尾上町3-2-9           株式会社フジケン       False   9  False  \n",
            "38           東京都豊島区東池袋1-5-20アドリーム214        株式会社プラスアルファ       False   9   True  \n",
            "39              神奈川県相模原市中央区淵野辺1-4-17            有限会社アクア       False   8  False  \n",
            "40                  東京都新宿区西新宿2-2-108                NaN       False   1   True  \n",
            "41                 北海道釧路市星が浦大通1-3-21                NaN       False   9  False  \n",
            "42          東京都中央区八丁堀3-4-18サンワプラザ503                NaN       False  11   True  \n",
            "43                千葉県八千代市ゆりのき台3-1-22        有限会社エムアンドエム       False   2  False  \n",
            "44                神奈川県横浜市都筑区荏田東2-1-7                NaN       False   6  False  \n",
            "45                     東京都品川区荏原4-3-3                NaN       False  12   True  \n",
            "46                   大阪府大阪市北区天満2-3-3       合同会社ルミエール洋装店       False  11  False  \n",
            "47                   東京都町田市つくし野3-3-8                NaN       False   6  False  \n",
            "48           滋賀県大津市大石東1-1-3メガロコープ507            株式会社アーチ       False   2  False  \n",
            "49                     東京都中央区銀座2-1-6            合同会社ルート       False  10   True  \n",
            "50                     千葉県浦安市北栄1-1-3            株式会社マエダ       False   2  False  \n",
            "51                   東京都江戸川区東葛西1-3-3           有限会社森田商店       False   2   True  \n",
            "52                 神奈川県川崎市中原区宮内1-2-4          サンライズ株式会社       False  10  False  \n",
            "53                北海道札幌市中央区北十条西2-2-8           有限会社タチバナ       False  11  False  \n",
            "54             東京都港区芝浦2-4-4ヴェルドール713         株式会社アルカディア       False   2   True  \n",
            "55                  東京都東村山市萩山町3-3-17                NaN       False  11  False  \n",
            "56                   愛知県津島市大縄町4-2-10             株式会社大信       False   9  False  \n",
            "57                     東京都江東区東陽2-2-7         株式会社ライトアップ       False   6   True  \n",
            "58                神奈川県川崎市多摩区南生田2-4-3         合同会社ｂｒｉｄｇｅ       False   7  False  \n",
            "59                   東京都豊島区西池袋1-1-14     合資会社フードネットサービス       False  12   True  \n",
            "60         青森県弘前市大字城東中央2-3-17ベルヴィ209      合同会社ＹＯＮＥＷＯＲＫＳ       False   9  False  \n",
            "61         東京都新宿区中落合3-5-7ベルアーバニティ301                NaN       False   9   True  \n",
            "62          愛知県小牧市小牧1-4-7プラネスーペリア314                NaN       False   6  False  \n",
            "63                    東京都中央区八丁堀1-2-5           合同会社リル建設       False   2   True  \n",
            "64                    北海道釧路市寿3-5-103                NaN       False   9  False  \n",
            "65               神奈川県横浜市港北区綱島西3-2-14                NaN       False   1  False  \n",
            "66                    佐賀県佐賀市神野東4-3-4             株式会社吉建       False   7  False  \n",
            "67                   青森県弘前市大字城東2-1-3                NaN       False   4  False  \n",
            "68           愛知県名古屋市中区栄2-2-6グレーシィ612             株式会社信栄       False   6  False  \n",
            "69                  愛知県春日井市大手町3-3-15           株式会社フェリス       False   8  False  \n",
            "70              神奈川県横浜市神奈川区反町1-1-303                NaN       False   4  False  \n",
            "71                     沖縄県沖縄市胡屋3-2-6            有限会社カネコ       False   2  False  \n",
            "72                大阪府大阪市浪速区桜川2-4-505                NaN       False   7  False  \n",
            "73                  千葉県木更津市請西南2-5-20                NaN       False   3  False  \n",
            "74                   東京都渋谷区千駄ヶ谷1-2-4             株式会社光和       False   9   True  \n",
            "75                  鹿児島県鹿児島市唐湊1-3-22                NaN       False   2  False  \n",
            "76           東京都武蔵野市境南町1-2-201セラフ106                NaN       False   8  False  \n",
            "77                    東京都台東区蔵前3-2-12           合同会社ＴＩＭＥ       False   9   True  \n",
            "78                     東京都港区赤坂2-1-14          株式会社オーシャン       False  12   True  \n",
            "79                  愛知県名古屋市南区豊3-3-11                NaN       False   7  False  \n",
            "80                    東京都調布市布田2-3-11           合同会社ＢＵＺＺ       False  11  False  \n",
            "81                   東京都新宿区高田馬場1-2-6          小林自動車有限会社       False  12   True  \n",
            "82                 東京都小金井市貫井南町2-3-12         有限会社ライフワーク       False   1  False  \n",
            "83                 大阪府大阪市北区中之島3-2-15                NaN       False   8  False  \n",
            "84                    東京都杉並区永福1-3-12            ヒカリ合同会社       False   9   True  \n",
            "85          鹿児島県鹿児島市南栄3-4-407クラシコ211          株式会社ブレインズ       False   4  False  \n",
            "86                    千葉県市川市平田1-2-15             株式会社新生       False  12  False  \n",
            "87                   広島県福山市北吉津町3-3-6                NaN       False   1  False  \n",
            "88              北海道札幌市中央区南八条西3-1-304                NaN       False   6  False  \n",
            "89                神奈川県横浜市港北区高田西2-1-4                NaN       False   5  False  \n",
            "90                  山形県山形市緑町2-3-1206                NaN       False   1  False  \n",
            "91                   大阪府箕面市粟生新家1-1-5                NaN       False  11  False  \n",
            "92                  東京都世田谷区上野毛1-1-18             有限会社亀屋       False  12   True  \n",
            "93                   兵庫県西宮市名塩南台1-2-3          海老根建材有限会社       False  12  False  \n",
            "94                神奈川県横浜市鶴見区栄町通2-1-6           株式会社フジモト       False   8  False  \n",
            "95             東京都文京区小日向1-5-7イニシオ407        合資会社古河合同精麦所       False   1   True  \n",
            "96               北海道札幌市中央区南八条西1-2-11             合同会社アキ       False   3  False  \n",
            "97                    静岡県磐田市城之崎2-3-3          株式会社サンホーム       False   8  False  \n",
            "98                   千葉県船橋市習志野台3-2-3                NaN       False   7  False  \n",
            "99                    東京都大田区大森南1-5-9             有限会社コア       False   8   True  \n",
            "100                   東京都葛飾区四つ木4-2-6          有限会社フジテック       False  11   True  \n",
            "101              神奈川県横浜市港北区日吉本町4-2-7        株式会社インフィニティ       False  12  False  \n",
            "102                   東京都渋谷区広尾3-3-10            株式会社アサノ       False   6   True  \n",
            "103              大阪府大阪市西区南堀江2-3-1005                NaN       False   5  False  \n",
            "104                  滋賀県大津市南郷3-2-107                NaN       False   9  False  \n",
            "105                 東京都中央区日本橋室町2-1-3        有限会社サンクリエイト       False   5   True  \n",
            "106                    北海道滝川市大町1-1-4            株式会社トキワ       False   5  False  \n",
            "107                    愛知県稲沢市小沢2-3-9           有限会社ソフィア       False   3  False  \n",
            "108              北海道札幌市中央区南四条東4-3-10            株式会社夢工房       False   3  False  \n",
            "109           東京都府中市若松町1-2-10セルダン514      ドクターズホワイト合資会社       False   7  False  \n",
            "110                    東京都江東区東砂2-3-5          合同会社ＢＯＷＴＹ       False   6   True  \n",
            "111                   東京都港区六本木1-1-14                NaN       False   5   True  \n",
            "112                    東京都目黒区八雲4-1-8           服部釀造合資会社       False  10   True  \n",
            "113              埼玉県さいたま市大宮区桜木町4-2-5                NaN       False  11  False  \n",
            "114       北海道札幌市手稲区西宮の沢二条1-2-8レピア304    ヤシマエンジニアリング合同会社       False   7  False  \n",
            "115          東京都千代田区九段北3-1-8ハイタウン815         株式会社トリニティー       False  10   True  \n",
            "116               大阪府大阪市平野区平野西3-3-21                NaN       False   8  False  \n",
            "117               兵庫県神戸市須磨区東白川台2-1-9          有限会社エトワール       False   8  False  \n",
            "118               神奈川県座間市ひばりが丘3-3-10           坂井林業合名会社       False   6  False  \n",
            "119                 東京都文京区本郷1-5-1208                NaN       False   8   True  \n",
            "120             東京都葛飾区柴又2-1-9プラウド710           株式会社アンカー       False   6   True  \n",
            "121                    東京都品川区大崎1-1-7            株式会社オーブ       False  11   True  \n",
            "122               神奈川県横浜市金沢区六浦南3-3-4          株式会社ケーテック       False   3  False  \n",
            "123                  東京都世田谷区上馬2-5-21                NaN       False   7   True  \n",
            "124                  愛知県春日井市東山町3-3-4                NaN       False   2  False  \n",
            "125                    東京都中央区築地3-4-7                NaN       False   8   True  \n",
            "126               神奈川県横浜市中区山元町3-4-21        合同会社牛久太陽光発電       False  12  False  \n",
            "127                   東京都世田谷区用賀3-1-6                NaN       False  11   True  \n",
            "128                 愛媛県今治市八町東3-4-404                NaN       False   6  False  \n",
            "129                    岐阜県岐阜市芋島4-1-8           有限会社鈴木商会       False   4  False  \n",
            "130          埼玉県川口市中青木3-5-8シティタワー514            株式会社ホンダ       False  12  False  \n",
            "131                    東京都新宿区新宿1-2-5                NaN       False   3   True  \n",
            "132                   兵庫県尼崎市潮江1-1-14           有限会社やまぐち       False   1  False  \n",
            "133                  大阪府四條畷市田原台4-1-7            株式会社S＆S       False   4  False  \n",
            "134                  大阪府豊中市服部南町2-3-4             有限会社大東       False  11  False  \n",
            "135               静岡県浜松市中区高丘北1-3-706              ＳＥＤＡＴ       False   3  False  \n",
            "136                大阪府大阪市中央区南本町3-3-4            有限会社みやび       False  10  False  \n",
            "137                 京都府京都市伏見区京町3-3-7              株式会社空       False   8  False  \n",
            "138                    大阪府八尾市中田1-3-6           吉田工業株式会社       False   7  False  \n",
            "139                   埼玉県戸田市美女木4-3-7           有限会社サン企画       False   2  False  \n",
            "140                    愛知県稲沢市小沢2-3-9          合名会社横山製綿所       False   1  False  \n",
            "141       愛知県名古屋市中村区権現通3-4-13ディモア104             有限会社柏屋       False  11  False  \n",
            "142             兵庫県神戸市中央区北長狭通3-2-201           東和産業株式会社       False  11  False  \n",
            "143                北海道苫小牧市明野新町1-4-18                NaN       False   1  False  \n",
            "144                     大阪府箕面市桜2-1-8           合名会社花岩本店       False  12  False  \n",
            "145            神奈川県相模原市南区大野台3-5-1107             尾藤合名会社       False  11  False  \n",
            "146         福岡県糸島市加布里2-3-6グランドヒルズ312          有限会社エターナル       False   4  False  \n",
            "147            千葉県船橋市西船4-3-8サンライズ203          株式会社佐々木商店       False   6  False  \n",
            "148                    東京都荒川区荒川2-1-4        Ｂｅｌｌ須賀川合同会社       False   3   True  \n",
            "149                     東京都港区港南3-1-9                NaN       False   2   True  \n",
            "150          大阪府茨木市南春日丘2-4-506ペルル805          株式会社ファミーユ       False   8  False  \n",
            "151                   愛知県西尾市高畠町1-3-4           東和商事株式会社       False   2  False  \n",
            "152                奈良県奈良市芝辻町3-3-1109                NaN       False   1  False  \n",
            "153               福岡県北九州市小倉北区中井2-1-8           合同会社ＲＩＳＥ       False   3  False  \n",
            "154                  茨城県守谷市松前台1-2-22            株式会社FIT       False   1  False  \n",
            "155                  大阪府大東市三箇1-3-303                NaN       False   2  False  \n",
            "156                   石川県金沢市藤江北3-1-4           合同会社ＦＯＲＡ       False   5  False  \n",
            "157                北海道美唄市東四条北1-4-507                NaN        True  12  False  \n",
            "158     広島県広島市南区向洋新町2-3-6ベルアーバニティ412          株式会社山田製作所       False   2  False  \n",
            "159                  青森県青森市蛍沢2-4-501         株式会社TAKUMI       False   6  False  \n",
            "160              神奈川県川崎市高津区久地2-3-705                NaN       False  10  False  \n",
            "161                  東京都千代田区飯田橋3-3-5           合同会社大明未来       False   1   True  \n",
            "162        京都府京都市上京区笹屋町通千本西入笹屋2-5-15          レインボー合資会社       False  11  False  \n",
            "163                  東京都新宿区新宿1-3-802           株式会社ジャック       False   1   True  \n",
            "164     大阪府大阪市中央区南船場3-4-9ライフフィールド105                NaN       False   2  False  \n",
            "165                    東京都墨田区立川2-2-3                NaN       False   3   True  \n",
            "166               神奈川県横浜市港北区綱島東1-5-4                NaN       False  11  False  \n",
            "167                   山梨県甲府市住吉1-5-14           有限会社松田商店       False   7  False  \n",
            "168                 東京都荒川区東日暮里1-2-22                NaN       False   1   True  \n",
            "169      広島県東広島市高屋高美が丘2-1-3サニーハイツ111           有限会社リンクス       False  10  False  \n",
            "170              神奈川県川崎市宮前区東有馬1-3-18                NaN       False   2  False  \n",
            "171                    東京都日野市南平2-2-5           廣屋漁業合名会社       False   3  False  \n",
            "172                   東京都杉並区西荻南3-1-3           有限会社富士商会       False  12   True  \n",
            "173                  大阪府豊中市上新田2-2-21                NaN       False   7  False  \n",
            "174                神奈川県川崎市幸区中幸町1-1-5          有限会社木村工務店       False   9  False  \n",
            "175               神奈川県横浜市旭区若葉台3-5-17           有限会社大栄商事       False  11  False  \n",
            "176          千葉県白井市西白井3-3-3コスモコート107                NaN       False  11  False  \n",
            "177                  東京都青梅市東青梅1-5-21                NaN       False   5  False  \n",
            "178                    東京都北区西ケ原1-4-7                NaN       False   7   True  \n",
            "179             東京都渋谷区恵比寿1-3-8コスモ606                NaN       False   7   True  \n",
            "180                福岡県福岡市中央区平尾1-3-10             株式会社昭栄        True  12  False  \n",
            "181       埼玉県志木市下宗岡1-4-12ハイネスクラウズ609                NaN       False   6  False  \n",
            "182                   埼玉県三郷市彦成3-3-18                NaN       False   4  False  \n",
            "183                 新潟県三条市西四日町2-2-12                NaN       False   9  False  \n",
            "184              千葉県千葉市花見川区作新台3-5-16            合名会社東光館       False   1  False  \n",
            "185               大阪府大阪市東住吉区今川1-2-22          合同会社ＭＵＧＥＮ       False   7  False  \n",
            "186                  鹿児島県鹿児島市清和2-1-8         株式会社サンシステム       False   2  False  \n",
            "187                    東京都港区六本木4-1-4                NaN       False   5   True  \n",
            "188              大阪府大阪市中央区南船場2-1-509             有限会社藤屋       False   5  False  \n",
            "189                埼玉県さいたま市緑区原山4-1-9           株式会社タイセイ       False   9  False  \n",
            "190                    東京都港区港南3-4-17            有限会社まつや       False   7   True  \n",
            "191                  徳島県徳島市中島田町3-2-7          株式会社田中工務店       False   7  False  \n",
            "192                東京都渋谷区神宮前2-4-1103           川崎産業合資会社       False   3   True  \n",
            "193     埼玉県北葛飾郡杉戸町内田1-3-20グランアッシュ113                NaN       False   9  False  \n",
            "194                   東京都目黒区青葉台4-3-6           五光産業有限会社       False  11   True  \n",
            "195                    長野県松本市中央1-2-3          株式会社ケンテック       False  12  False  \n",
            "196              埼玉県南埼玉郡宮代町川端2-4-202            有限会社ツカサ       False   2  False  \n",
            "197                  東京都渋谷区恵比寿1-1-18                NaN       False   8   True  \n",
            "198             愛知県名古屋市西区上名古屋3-3-903           株式会社HERO       False  12  False  \n",
            "199                沖縄県那覇市おもろまち1-1-22                NaN       False   9  False  \n"
          ]
        }
      ]
    },
    {
      "cell_type": "code",
      "source": [
        "print(personal_info[\"特別区\"].value_counts())"
      ],
      "metadata": {
        "colab": {
          "base_uri": "https://localhost:8080/"
        },
        "id": "atD6maDSZsdH",
        "outputId": "71f423d3-63eb-4d4d-9a56-2d6ef651b91d"
      },
      "execution_count": 49,
      "outputs": [
        {
          "output_type": "stream",
          "name": "stdout",
          "text": [
            "False    140\n",
            "True      60\n",
            "Name: 特別区, dtype: int64\n"
          ]
        }
      ]
    },
    {
      "cell_type": "code",
      "execution_count": 50,
      "metadata": {
        "id": "0ug8JHoa01jx",
        "colab": {
          "base_uri": "https://localhost:8080/"
        },
        "outputId": "ab7e620c-f0f1-42c4-ed0a-5901dc50a58e"
      },
      "outputs": [
        {
          "output_type": "execute_result",
          "data": {
            "text/plain": [
              "5"
            ]
          },
          "metadata": {},
          "execution_count": 50
        }
      ],
      "source": [
        "# 確認テスト(1) : 携帯電話番号の下2桁が `11` である人の人数\n",
        "# 回答にはここで計算した人数を数値で入力してください\n",
        "5"
      ]
    },
    {
      "cell_type": "code",
      "execution_count": 51,
      "metadata": {
        "id": "b6MX0d7101jx",
        "colab": {
          "base_uri": "https://localhost:8080/"
        },
        "outputId": "558e6a87-dce0-4c71-e4f0-2849c6f18890"
      },
      "outputs": [
        {
          "output_type": "execute_result",
          "data": {
            "text/plain": [
              "57"
            ]
          },
          "metadata": {},
          "execution_count": 51
        }
      ],
      "source": [
        "# 確認テスト(2) : 早生まれの人数\n",
        "# 回答にはここで計算した人数を数値で入力してください\n",
        "57"
      ]
    },
    {
      "cell_type": "code",
      "execution_count": 52,
      "metadata": {
        "id": "AJ-nNrjf01jx",
        "colab": {
          "base_uri": "https://localhost:8080/"
        },
        "outputId": "c54e81ec-875f-4a6a-f4a5-cae1afcccca7"
      },
      "outputs": [
        {
          "output_type": "execute_result",
          "data": {
            "text/plain": [
              "60"
            ]
          },
          "metadata": {},
          "execution_count": 52
        }
      ],
      "source": [
        "# 確認テスト(3) : 東京23区に住む人数を答えてください\n",
        "# 回答にはここで計算した人数を数値で入力してください\n",
        "60"
      ]
    },
    {
      "cell_type": "code",
      "source": [],
      "metadata": {
        "id": "cmLO_ci1ehri"
      },
      "execution_count": 52,
      "outputs": []
    }
  ],
  "metadata": {
    "colab": {
      "provenance": []
    },
    "kernelspec": {
      "display_name": "Python 3",
      "name": "python3"
    },
    "language_info": {
      "codemirror_mode": {
        "name": "ipython",
        "version": 3
      },
      "file_extension": ".py",
      "mimetype": "text/x-python",
      "name": "python",
      "nbconvert_exporter": "python",
      "pygments_lexer": "ipython3",
      "version": "3.9.6"
    }
  },
  "nbformat": 4,
  "nbformat_minor": 0
}