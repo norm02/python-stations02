{
  "cells": [
    {
      "cell_type": "markdown",
      "metadata": {
        "id": "5GEnYH0BEf2g"
      },
      "source": [
        "| Version | Published Date| Details |\n",
        "| -- | -- | -- |\n",
        "| ver.1.0.0 | 2023/8/29 | 初版 |"
      ]
    },
    {
      "cell_type": "markdown",
      "metadata": {
        "id": "MAtlY0aUCLeV"
      },
      "source": [
        "# 正規表現についてもっと詳しくなろう\n",
        "\n",
        "Station1 では強力なツールである **正規表現** について学びました。まずは数字のパターンを検出できるようになりましたが，このStationではより詳しく正規表現を学びます。正規表現は書き方もややむずかしく，学ぶこともより増えますが，引き続きしっかり習得していきましょう。"
      ]
    },
    {
      "cell_type": "markdown",
      "metadata": {
        "id": "y9cBlG2vMIIa"
      },
      "source": [
        "# 正規表現によるパターンマッチの続き\n",
        "\n",
        "## `()` を用いたグルーピング\n",
        "\n",
        "前回のStationでも `group()` を使いました。これは正規表現の機能のひとつです。\n",
        "\n",
        "電話番号を市外局番とそれ以降に分けて取得するとしましょう。その場合は `(\\d\\d\\d\\d)-(\\d\\d-\\d\\d\\d\\d)` のように正規表現に `()` を追加してグループを作成します。そして `group()` ごとにマッチした文字列を取得します。\n",
        "\n",
        "`()` で囲まれたグループごとにグループ1, 2, ... となります。`group()` メソッドに `1` や `2` を渡すとマッチした文字列の異なる部分を取得できます。`0` を渡すかなにも渡さなければマッチした文字列全体が返ります。"
      ]
    },
    {
      "cell_type": "code",
      "execution_count": null,
      "metadata": {
        "id": "TXCUGHNPQiLO"
      },
      "outputs": [],
      "source": [
        "import re"
      ]
    },
    {
      "cell_type": "markdown",
      "metadata": {
        "id": "U0rbHXKGQijc"
      },
      "source": [
        "今回もまずは `re` を `import` します。"
      ]
    },
    {
      "cell_type": "code",
      "execution_count": null,
      "metadata": {
        "id": "AS6zI97uMCDt"
      },
      "outputs": [],
      "source": [
        "phone_num_regex = re.compile(r'(\\d\\d\\d\\d)-(\\d\\d-\\d\\d\\d\\d)')\n",
        "mo = phone_num_regex.search('私の電話番号は0120-56-7890です。')"
      ]
    },
    {
      "cell_type": "code",
      "execution_count": null,
      "metadata": {
        "id": "BcL1sf7uQfs_",
        "colab": {
          "base_uri": "https://localhost:8080/",
          "height": 35
        },
        "outputId": "44d98633-c8cf-44a5-800a-7dd9d2e0a502"
      },
      "outputs": [
        {
          "output_type": "execute_result",
          "data": {
            "text/plain": [
              "'0120'"
            ],
            "application/vnd.google.colaboratory.intrinsic+json": {
              "type": "string"
            }
          },
          "metadata": {},
          "execution_count": 3
        }
      ],
      "source": [
        "mo.group(1)"
      ]
    },
    {
      "cell_type": "code",
      "execution_count": null,
      "metadata": {
        "id": "t5N_qrJoQoug",
        "colab": {
          "base_uri": "https://localhost:8080/",
          "height": 35
        },
        "outputId": "77f38dee-335b-48c9-b6c4-5b3994152262"
      },
      "outputs": [
        {
          "output_type": "execute_result",
          "data": {
            "text/plain": [
              "'56-7890'"
            ],
            "application/vnd.google.colaboratory.intrinsic+json": {
              "type": "string"
            }
          },
          "metadata": {},
          "execution_count": 4
        }
      ],
      "source": [
        "mo.group(2)"
      ]
    },
    {
      "cell_type": "code",
      "execution_count": null,
      "metadata": {
        "id": "RTDdLwueQuMx",
        "colab": {
          "base_uri": "https://localhost:8080/",
          "height": 35
        },
        "outputId": "b405a017-42d6-4cd5-efdf-3b7b86454f05"
      },
      "outputs": [
        {
          "output_type": "execute_result",
          "data": {
            "text/plain": [
              "'0120-56-7890'"
            ],
            "application/vnd.google.colaboratory.intrinsic+json": {
              "type": "string"
            }
          },
          "metadata": {},
          "execution_count": 5
        }
      ],
      "source": [
        "mo.group()"
      ]
    },
    {
      "cell_type": "markdown",
      "metadata": {
        "id": "V4tTiCzoRl-F"
      },
      "source": [
        "`groups()` を使うとすべてのグループを一気に取得できます。`group()` と違って `s` がつく `groups()` になっていることに注意しましょう。"
      ]
    },
    {
      "cell_type": "code",
      "execution_count": null,
      "metadata": {
        "id": "6mJaaUNkQwJY",
        "colab": {
          "base_uri": "https://localhost:8080/"
        },
        "outputId": "4acf5cf4-b14b-4985-e311-842f41b17ab7"
      },
      "outputs": [
        {
          "output_type": "execute_result",
          "data": {
            "text/plain": [
              "('0120', '56-7890')"
            ]
          },
          "metadata": {},
          "execution_count": 6
        }
      ],
      "source": [
        "mo.groups()"
      ]
    },
    {
      "cell_type": "markdown",
      "metadata": {
        "id": "jfdzyqpPSdGB"
      },
      "source": [
        "`groups()` は複数の値からなるタプルを返すため，このように複数代入を行うこともできます。"
      ]
    },
    {
      "cell_type": "code",
      "execution_count": null,
      "metadata": {
        "id": "OGAoJvZZRz4Z"
      },
      "outputs": [],
      "source": [
        "area_code, main_number = mo.groups()"
      ]
    },
    {
      "cell_type": "code",
      "execution_count": null,
      "metadata": {
        "id": "idaaph3YR1yY",
        "colab": {
          "base_uri": "https://localhost:8080/",
          "height": 35
        },
        "outputId": "6396c748-9fd7-4232-d05c-63c9d9e73452"
      },
      "outputs": [
        {
          "output_type": "execute_result",
          "data": {
            "text/plain": [
              "'0120'"
            ],
            "application/vnd.google.colaboratory.intrinsic+json": {
              "type": "string"
            }
          },
          "metadata": {},
          "execution_count": 8
        }
      ],
      "source": [
        "area_code"
      ]
    },
    {
      "cell_type": "code",
      "execution_count": null,
      "metadata": {
        "id": "7nB4Co_1R2pg",
        "colab": {
          "base_uri": "https://localhost:8080/",
          "height": 35
        },
        "outputId": "e8037b74-8457-46c9-ccfc-9d8e5795afc3"
      },
      "outputs": [
        {
          "output_type": "execute_result",
          "data": {
            "text/plain": [
              "'56-7890'"
            ],
            "application/vnd.google.colaboratory.intrinsic+json": {
              "type": "string"
            }
          },
          "metadata": {},
          "execution_count": 9
        }
      ],
      "source": [
        "main_number"
      ]
    },
    {
      "cell_type": "markdown",
      "metadata": {
        "id": "rlAVnNIVSluG"
      },
      "source": [
        "正規表現では `()` は特別な意味を持ちます。では `()` そのものを検索したい場合はどうすればよいでしょうか？たとえば市外局番が `()` を使って書かれていることもあります。このような場合にはバックスラッシュ `\\` を使って `()` を **エスケープ (Escape)** する必要があります。"
      ]
    },
    {
      "cell_type": "code",
      "execution_count": null,
      "metadata": {
        "id": "lPpzVpW6R5CH",
        "colab": {
          "base_uri": "https://localhost:8080/",
          "height": 35
        },
        "outputId": "81dd84e7-9843-4b41-e045-2ddb51f77e87"
      },
      "outputs": [
        {
          "output_type": "execute_result",
          "data": {
            "text/plain": [
              "'(0120)'"
            ],
            "application/vnd.google.colaboratory.intrinsic+json": {
              "type": "string"
            }
          },
          "metadata": {},
          "execution_count": 10
        }
      ],
      "source": [
        "phone_num_regex = re.compile(r'(\\(\\d\\d\\d\\d\\)) (\\d\\d-\\d\\d\\d\\d)')\n",
        "mo = phone_num_regex.search('私の電話番号は (0120) 23-4234 です。')\n",
        "mo.group(1)"
      ]
    },
    {
      "cell_type": "code",
      "execution_count": null,
      "metadata": {
        "id": "17c_A4EvTe0d",
        "colab": {
          "base_uri": "https://localhost:8080/",
          "height": 35
        },
        "outputId": "8e7e86e8-9e5e-4794-f81c-ef76bf99da79"
      },
      "outputs": [
        {
          "output_type": "execute_result",
          "data": {
            "text/plain": [
              "'23-4234'"
            ],
            "application/vnd.google.colaboratory.intrinsic+json": {
              "type": "string"
            }
          },
          "metadata": {},
          "execution_count": 11
        }
      ],
      "source": [
        "mo.group(2)"
      ]
    },
    {
      "cell_type": "markdown",
      "metadata": {
        "id": "qmYWfKyNWQOZ"
      },
      "source": [
        "正規表現では以下の文字は特別な意味を持ちます。これらの文字を用いる場合は同様に `\\` を用いるようにしましょう。\n",
        "\n",
        "```\n",
        ".  ^  $  *  +  ?  {  }  [  ]  \\\\  |  (  )\n",
        "```"
      ]
    },
    {
      "cell_type": "markdown",
      "metadata": {
        "id": "SbQh1ofPWtsW"
      },
      "source": [
        "## `|` を用いた複数グループとのマッチ\n",
        "\n",
        "`|` を用いると，複数パターンのうちのひとつとマッチできます。たとえば `r'Tokyo|Osaka'` という正規表現は `Tokyo` または `Osaka` とマッチします。すべてのマッチした箇所を取得する `finaall()` メソッドについては後で解説します。\n",
        "\n",
        "検索対象に `Tokyo` と `Osaka` の両方がある場合，先に出現した方が `Match` オブジェクトとして返ります。"
      ]
    },
    {
      "cell_type": "code",
      "execution_count": null,
      "metadata": {
        "id": "FMIPHMNAXFM0",
        "colab": {
          "base_uri": "https://localhost:8080/",
          "height": 35
        },
        "outputId": "f8875dcc-eb58-4b08-b0b2-f30a44b62eee"
      },
      "outputs": [
        {
          "output_type": "execute_result",
          "data": {
            "text/plain": [
              "'Tokyo'"
            ],
            "application/vnd.google.colaboratory.intrinsic+json": {
              "type": "string"
            }
          },
          "metadata": {},
          "execution_count": 12
        }
      ],
      "source": [
        "city_regex = re.compile(r'Tokyo|Osaka')\n",
        "mo1 = city_regex.search('Tokyo and Osaka')\n",
        "mo1.group()"
      ]
    },
    {
      "cell_type": "code",
      "execution_count": null,
      "metadata": {
        "id": "vPUuwKCHXQQy",
        "colab": {
          "base_uri": "https://localhost:8080/",
          "height": 35
        },
        "outputId": "37763f9e-75e9-41b8-e7f9-5653c2e624b6"
      },
      "outputs": [
        {
          "output_type": "execute_result",
          "data": {
            "text/plain": [
              "'Osaka'"
            ],
            "application/vnd.google.colaboratory.intrinsic+json": {
              "type": "string"
            }
          },
          "metadata": {},
          "execution_count": 13
        }
      ],
      "source": [
        "mo2 = city_regex.search('Osaka and Tokyo')\n",
        "mo2.group()"
      ]
    },
    {
      "cell_type": "markdown",
      "metadata": {
        "id": "3QvYD7irYCDY"
      },
      "source": [
        "縦線は，複数パターンのうち1つにマッチするためにも使えます。たとえば `Tokyo` `Tokai` `Tokio` `Tokiwa` のいずれかにマッチさせたい場合を考えます。この場合すべて `Tok` からはじまるため，接頭辞として一度だけマッチすればよいでしょう。"
      ]
    },
    {
      "cell_type": "code",
      "execution_count": null,
      "metadata": {
        "id": "OkKGmdB3XY2q",
        "colab": {
          "base_uri": "https://localhost:8080/",
          "height": 35
        },
        "outputId": "2498a7d8-ae32-4fc4-b9a6-db3a071ec556"
      },
      "outputs": [
        {
          "output_type": "execute_result",
          "data": {
            "text/plain": [
              "'Tokyo'"
            ],
            "application/vnd.google.colaboratory.intrinsic+json": {
              "type": "string"
            }
          },
          "metadata": {},
          "execution_count": 14
        }
      ],
      "source": [
        "tok_regex = re.compile(r'Tok(yo|ai|io|iwa)')\n",
        "mo = tok_regex.search(\"Tokyo station is very beautiful.\")\n",
        "mo.group()"
      ]
    },
    {
      "cell_type": "code",
      "execution_count": null,
      "metadata": {
        "id": "OSWMYp_aY41C",
        "colab": {
          "base_uri": "https://localhost:8080/",
          "height": 35
        },
        "outputId": "19a2d78e-d56e-4c65-a121-cb0974ddb98e"
      },
      "outputs": [
        {
          "output_type": "execute_result",
          "data": {
            "text/plain": [
              "'yo'"
            ],
            "application/vnd.google.colaboratory.intrinsic+json": {
              "type": "string"
            }
          },
          "metadata": {},
          "execution_count": 15
        }
      ],
      "source": [
        "mo.group(1)"
      ]
    },
    {
      "cell_type": "markdown",
      "metadata": {
        "id": "PCooRGjXaxbe"
      },
      "source": [
        "引数をつけずに `group()` を呼び出すとマッチした文字列全体を，`group(1)` のように呼び出すと1番目 `()` のグループ内にマッチした文字列だけを取得できます。"
      ]
    },
    {
      "cell_type": "markdown",
      "metadata": {
        "id": "OniP53jBbGNw"
      },
      "source": [
        "## `?` を用いた任意のマッチ\n",
        "\n",
        "マッチしてもしなくてもよいパターンを指定したい場合があります。つまりテキストの一部があってもなくてもいい場合です。 `?` を用いるとその直前のパターンを任意パターンとして指定します。"
      ]
    },
    {
      "cell_type": "code",
      "execution_count": null,
      "metadata": {
        "id": "28wAijRQauCd",
        "colab": {
          "base_uri": "https://localhost:8080/",
          "height": 35
        },
        "outputId": "d1d61326-d78f-4dfb-de1b-e4cc5704bdea"
      },
      "outputs": [
        {
          "output_type": "execute_result",
          "data": {
            "text/plain": [
              "'Tokyo'"
            ],
            "application/vnd.google.colaboratory.intrinsic+json": {
              "type": "string"
            }
          },
          "metadata": {},
          "execution_count": 16
        }
      ],
      "source": [
        "tokyo_regex = re.compile(r'Toky(ot)?o')\n",
        "mo1 = tokyo_regex.search('Tokyo')\n",
        "mo1.group()"
      ]
    },
    {
      "cell_type": "code",
      "execution_count": null,
      "metadata": {
        "id": "k5c0n1f3bwKj",
        "colab": {
          "base_uri": "https://localhost:8080/",
          "height": 35
        },
        "outputId": "d5edf279-8074-4d3d-88ea-22a117ff85b4"
      },
      "outputs": [
        {
          "output_type": "execute_result",
          "data": {
            "text/plain": [
              "'Tokyoto'"
            ],
            "application/vnd.google.colaboratory.intrinsic+json": {
              "type": "string"
            }
          },
          "metadata": {},
          "execution_count": 17
        }
      ],
      "source": [
        "mo2 = tokyo_regex.search('Tokyoto')\n",
        "mo2.group()"
      ]
    },
    {
      "cell_type": "markdown",
      "metadata": {
        "id": "QYLDf3YZcHOF"
      },
      "source": [
        "正規表現の `(ot)?` の部分は `ot` というパターンが任意であることを意味します。そのため正規表現は `ot` が0回または1回現れるテキストにマッチします。そのため `Tokyo` にも `Tokyoto` にもマッチします。\n",
        "\n",
        "市外局番のあるなしに関わらず電話番号を検索したいとしましょう。その場合はこのように書けます。"
      ]
    },
    {
      "cell_type": "code",
      "execution_count": null,
      "metadata": {
        "id": "_vhlipWfb92u",
        "colab": {
          "base_uri": "https://localhost:8080/",
          "height": 35
        },
        "outputId": "7e9c0c9a-3f99-4188-8e45-ff9ba7e6b60d"
      },
      "outputs": [
        {
          "output_type": "execute_result",
          "data": {
            "text/plain": [
              "'0120-23-4234'"
            ],
            "application/vnd.google.colaboratory.intrinsic+json": {
              "type": "string"
            }
          },
          "metadata": {},
          "execution_count": 18
        }
      ],
      "source": [
        "phone_num_regex = re.compile(r'(\\d\\d\\d\\d-)?\\d\\d-\\d\\d\\d\\d')\n",
        "mo1 = phone_num_regex.search('私の電話番号は 0120-23-4234 です。')\n",
        "mo1.group()"
      ]
    },
    {
      "cell_type": "code",
      "execution_count": null,
      "metadata": {
        "id": "514QNLOlcrKU",
        "colab": {
          "base_uri": "https://localhost:8080/",
          "height": 35
        },
        "outputId": "13cb0625-992d-46a6-d0a1-b1e352c418fa"
      },
      "outputs": [
        {
          "output_type": "execute_result",
          "data": {
            "text/plain": [
              "'23-4234'"
            ],
            "application/vnd.google.colaboratory.intrinsic+json": {
              "type": "string"
            }
          },
          "metadata": {},
          "execution_count": 19
        }
      ],
      "source": [
        "mo2 = phone_num_regex.search('私の電話番号は 23-4234 です。')\n",
        "mo2.group()"
      ]
    },
    {
      "cell_type": "markdown",
      "metadata": {
        "id": "XK9ip-lec11G"
      },
      "source": [
        "同様にこの場合は `?` は「直前のグループに0または1回マッチする」とみなせます。"
      ]
    },
    {
      "cell_type": "markdown",
      "metadata": {
        "id": "dxW_5_gL1MwW"
      },
      "source": [
        "## `*` を用いた0回以上のマッチ\n",
        "\n",
        "`*` は「0回以上にマッチする」という意味です。アスタリスクの直前のグループが任意の回数出現してもよいということです。まったく出現しなくてもよいし，繰り返し出現しても問題ありません。"
      ]
    },
    {
      "cell_type": "code",
      "execution_count": null,
      "metadata": {
        "id": "QCcswm13cvdt",
        "colab": {
          "base_uri": "https://localhost:8080/",
          "height": 35
        },
        "outputId": "f19f5077-2422-492e-9111-c7b261f062b2"
      },
      "outputs": [
        {
          "output_type": "execute_result",
          "data": {
            "text/plain": [
              "'Tokyo'"
            ],
            "application/vnd.google.colaboratory.intrinsic+json": {
              "type": "string"
            }
          },
          "metadata": {},
          "execution_count": 20
        }
      ],
      "source": [
        "tokyo_regex = re.compile(r'Toky(ot)*o')\n",
        "mo1 = tokyo_regex.search('Tokyo is the capital of Japan.')\n",
        "mo1.group()"
      ]
    },
    {
      "cell_type": "code",
      "execution_count": null,
      "metadata": {
        "id": "1UYFgPLZ1nWM",
        "colab": {
          "base_uri": "https://localhost:8080/",
          "height": 35
        },
        "outputId": "18d2e6a1-9b16-449c-d550-28466d872c2c"
      },
      "outputs": [
        {
          "output_type": "execute_result",
          "data": {
            "text/plain": [
              "'Tokyoto'"
            ],
            "application/vnd.google.colaboratory.intrinsic+json": {
              "type": "string"
            }
          },
          "metadata": {},
          "execution_count": 21
        }
      ],
      "source": [
        "mo2 = tokyo_regex.search('Tokyoto is the capital of Japan.')\n",
        "mo2.group()"
      ]
    },
    {
      "cell_type": "code",
      "execution_count": null,
      "metadata": {
        "id": "QMjjgHSc1sCY",
        "colab": {
          "base_uri": "https://localhost:8080/",
          "height": 35
        },
        "outputId": "ae1678ba-93a9-43ca-8407-8d217dda8b58"
      },
      "outputs": [
        {
          "output_type": "execute_result",
          "data": {
            "text/plain": [
              "'Tokyototototo'"
            ],
            "application/vnd.google.colaboratory.intrinsic+json": {
              "type": "string"
            }
          },
          "metadata": {},
          "execution_count": 22
        }
      ],
      "source": [
        "mo3 = tokyo_regex.search('Tokyototototo is the capital of Japan.')\n",
        "mo3.group()"
      ]
    },
    {
      "cell_type": "markdown",
      "metadata": {
        "id": "bbMLQkrP12Ls"
      },
      "source": [
        "`Tokyo` に関しては `(ot)*` の正規表現が0回，`Tokyoto` に関しては1回，`Tokyototototo` に関しては4回マッチします。"
      ]
    },
    {
      "cell_type": "markdown",
      "metadata": {
        "id": "D-I-elef2Di5"
      },
      "source": [
        "## `+` を用いた1回以上のマッチ\n",
        "\n",
        "`*` が0回以上にマッチするのに対して `+` は「1回以上マッチ」することを意味します。プラスは少なくとも1回出現する必要があります。"
      ]
    },
    {
      "cell_type": "code",
      "execution_count": null,
      "metadata": {
        "id": "vu2cH3cH1ySg",
        "colab": {
          "base_uri": "https://localhost:8080/",
          "height": 35
        },
        "outputId": "bc9b1a2a-567a-432c-f496-ed9a3f4e8fa6"
      },
      "outputs": [
        {
          "output_type": "execute_result",
          "data": {
            "text/plain": [
              "'Tokyoto'"
            ],
            "application/vnd.google.colaboratory.intrinsic+json": {
              "type": "string"
            }
          },
          "metadata": {},
          "execution_count": 23
        }
      ],
      "source": [
        "tokyo_regex = re.compile(r'Toky(ot)+o')\n",
        "mo1 = tokyo_regex.search('Tokyoto is the capital of Japan.')\n",
        "mo1.group()"
      ]
    },
    {
      "cell_type": "code",
      "execution_count": null,
      "metadata": {
        "id": "sP4x1lWw2UDg",
        "colab": {
          "base_uri": "https://localhost:8080/",
          "height": 35
        },
        "outputId": "bf787ff8-2337-4f57-948a-02762e2e3116"
      },
      "outputs": [
        {
          "output_type": "execute_result",
          "data": {
            "text/plain": [
              "'Tokyototototo'"
            ],
            "application/vnd.google.colaboratory.intrinsic+json": {
              "type": "string"
            }
          },
          "metadata": {},
          "execution_count": 24
        }
      ],
      "source": [
        "mo2 = tokyo_regex.search('Tokyototototo is the capital of Japan.')\n",
        "mo2.group()"
      ]
    },
    {
      "cell_type": "code",
      "execution_count": null,
      "metadata": {
        "id": "iV_-Yrod2Y06",
        "colab": {
          "base_uri": "https://localhost:8080/",
          "height": 198
        },
        "outputId": "2060cd62-7f81-4f72-fed7-2525e69721ba"
      },
      "outputs": [
        {
          "output_type": "error",
          "ename": "AttributeError",
          "evalue": "ignored",
          "traceback": [
            "\u001b[0;31m---------------------------------------------------------------------------\u001b[0m",
            "\u001b[0;31mAttributeError\u001b[0m                            Traceback (most recent call last)",
            "\u001b[0;32m<ipython-input-25-69462e3e1342>\u001b[0m in \u001b[0;36m<cell line: 2>\u001b[0;34m()\u001b[0m\n\u001b[1;32m      1\u001b[0m \u001b[0mmo3\u001b[0m \u001b[0;34m=\u001b[0m \u001b[0mtokyo_regex\u001b[0m\u001b[0;34m.\u001b[0m\u001b[0msearch\u001b[0m\u001b[0;34m(\u001b[0m\u001b[0;34m'Tokyo is the capital of Japan.'\u001b[0m\u001b[0;34m)\u001b[0m\u001b[0;34m\u001b[0m\u001b[0;34m\u001b[0m\u001b[0m\n\u001b[0;32m----> 2\u001b[0;31m \u001b[0mmo3\u001b[0m\u001b[0;34m.\u001b[0m\u001b[0mgroup\u001b[0m\u001b[0;34m(\u001b[0m\u001b[0;34m)\u001b[0m\u001b[0;34m\u001b[0m\u001b[0;34m\u001b[0m\u001b[0m\n\u001b[0m",
            "\u001b[0;31mAttributeError\u001b[0m: 'NoneType' object has no attribute 'group'"
          ]
        }
      ],
      "source": [
        "mo3 = tokyo_regex.search('Tokyo is the capital of Japan.')\n",
        "mo3.group()"
      ]
    },
    {
      "cell_type": "markdown",
      "metadata": {
        "id": "DdIWnv3q2l_s"
      },
      "source": [
        "`mo3` にマッチするものがないため `group()` を呼ぶとエラーになります。エラーコードを読みましょう。 *'NoneType' object has no attribute 'group'* とは「 `None` の型のオブジェクトには `group` という属性はありません」という意味です。"
      ]
    },
    {
      "cell_type": "markdown",
      "metadata": {
        "id": "aIzw_VDg3YTv"
      },
      "source": [
        "## `{}` による繰り返し回数の指定\n",
        "\n",
        "`{}` を使うとグループの繰り返し出現回数を指定できます。たとえば `(Wa){3}` という正規表現は `WaWaWa` という文字列にマッチしますが `WaWa` にはマッチしません。`Wa` が2回しか現れないためです。\n",
        "\n",
        "繰り返し回数は単一の数字だけでなく，カンマ区切りで最大値と最小値の指定が可能です。たとえば `(Ma){3,5}` は `MaMaMa` にも `MaMaMaMa` にも `MaMaMaMaMa` にもマッチします。\n",
        "\n",
        "片方を省略すると最小値と最大値を指定しないことになります。たとえば `(Wa){3,}` とすると `(Wa)` が3回以上， `(Wa){5,}` とすると0~5回出現する場合にマッチします。\n",
        "\n",
        "`{}` を使うと正規表現を短く書くのに役立ちます。`(Ma){3}` と `MaMaMa` ， `(Ma){3,5}` と `MaMaMa|MaMaMaMa|MaMaMaMaMa` はそれぞれ同じ意味です。"
      ]
    },
    {
      "cell_type": "code",
      "execution_count": null,
      "metadata": {
        "id": "HSvsZAV_2hZg",
        "colab": {
          "base_uri": "https://localhost:8080/",
          "height": 35
        },
        "outputId": "5904f6ee-2b11-43e8-807c-c7783bdb02d1"
      },
      "outputs": [
        {
          "output_type": "execute_result",
          "data": {
            "text/plain": [
              "'HaHaHa'"
            ],
            "application/vnd.google.colaboratory.intrinsic+json": {
              "type": "string"
            }
          },
          "metadata": {},
          "execution_count": 26
        }
      ],
      "source": [
        "ha_regex = re.compile(r'(Ha){3}')\n",
        "mo1 = ha_regex.search('HaHaHa')\n",
        "mo1.group()"
      ]
    },
    {
      "cell_type": "code",
      "execution_count": null,
      "metadata": {
        "id": "KeBuXn8T51At",
        "colab": {
          "base_uri": "https://localhost:8080/",
          "height": 198
        },
        "outputId": "f8bef249-6d8f-439c-de57-dcad397698a7"
      },
      "outputs": [
        {
          "output_type": "error",
          "ename": "AttributeError",
          "evalue": "ignored",
          "traceback": [
            "\u001b[0;31m---------------------------------------------------------------------------\u001b[0m",
            "\u001b[0;31mAttributeError\u001b[0m                            Traceback (most recent call last)",
            "\u001b[0;32m<ipython-input-27-e2efd4b28356>\u001b[0m in \u001b[0;36m<cell line: 2>\u001b[0;34m()\u001b[0m\n\u001b[1;32m      1\u001b[0m \u001b[0mmo2\u001b[0m \u001b[0;34m=\u001b[0m \u001b[0mha_regex\u001b[0m\u001b[0;34m.\u001b[0m\u001b[0msearch\u001b[0m\u001b[0;34m(\u001b[0m\u001b[0;34m'Ha'\u001b[0m\u001b[0;34m)\u001b[0m\u001b[0;34m\u001b[0m\u001b[0;34m\u001b[0m\u001b[0m\n\u001b[0;32m----> 2\u001b[0;31m \u001b[0mmo2\u001b[0m\u001b[0;34m.\u001b[0m\u001b[0mgroup\u001b[0m\u001b[0;34m(\u001b[0m\u001b[0;34m)\u001b[0m\u001b[0;34m\u001b[0m\u001b[0;34m\u001b[0m\u001b[0m\n\u001b[0m",
            "\u001b[0;31mAttributeError\u001b[0m: 'NoneType' object has no attribute 'group'"
          ]
        }
      ],
      "source": [
        "mo2 = ha_regex.search('Ha')\n",
        "mo2.group()"
      ]
    },
    {
      "cell_type": "markdown",
      "metadata": {
        "id": "O7aoBeID55GU"
      },
      "source": [
        "これも `Ha` ひとつだけではマッチしないため，同じようにエラーになります。"
      ]
    },
    {
      "cell_type": "markdown",
      "metadata": {
        "id": "liMsUMM96Yf-"
      },
      "source": [
        "## 貪欲マッチと非貪欲マッチ\n",
        "\n",
        "ところで `MaMaMaMaMa` という文字列に対して `(Ma){3,5}` というパターンは `Ma` が3回，4回，5回のいずれの場合にもマッチします。先の例で `group()` を呼び出すと，少ない回数でマッチせずに最大回数にマッチした `MaMaMaMaMa` が返ってきます。 `MaMaMa` も `MaMaMaMa` も `(Ma){3,5}` に正しくマッチするにも関わらず，です。\n",
        "\n",
        "これはなぜでしょうか？なぜならPythonの正規表現はデフォルトでは **貪欲 (Greedy)** にマッチするためです。つまり複数の可能性のあるものは最も長いものにマッチします。一方で `)` の後に `?` をつけると **怠惰 (Lazy)** あるいは **非貪欲** なマッチを意味し，最も短いものにマッチするようになります。\n",
        "\n",
        "「貪欲」と「怠惰」というのはは、コンピューターサイエンスにおいてアルゴリズムの設計でよく使われる用語です。興味がある方はそれぞれの言葉を調べてみてください。"
      ]
    },
    {
      "cell_type": "code",
      "execution_count": null,
      "metadata": {
        "id": "h8lVX4zQ8oU0",
        "colab": {
          "base_uri": "https://localhost:8080/",
          "height": 35
        },
        "outputId": "d78ce6e1-e544-4065-daeb-f517659e4c1f"
      },
      "outputs": [
        {
          "output_type": "execute_result",
          "data": {
            "text/plain": [
              "'HaHaHaHaHa'"
            ],
            "application/vnd.google.colaboratory.intrinsic+json": {
              "type": "string"
            }
          },
          "metadata": {},
          "execution_count": 28
        }
      ],
      "source": [
        "greedy_ha_regex = re.compile(r'(Ha){3,5}')\n",
        "mo1 = greedy_ha_regex.search(r'HaHaHaHaHa')\n",
        "mo1.group()"
      ]
    },
    {
      "cell_type": "code",
      "execution_count": null,
      "metadata": {
        "id": "jrQ_69SD88Wq",
        "colab": {
          "base_uri": "https://localhost:8080/",
          "height": 35
        },
        "outputId": "9550fe7c-2d65-4c6b-d889-32124047982d"
      },
      "outputs": [
        {
          "output_type": "execute_result",
          "data": {
            "text/plain": [
              "'HaHaHa'"
            ],
            "application/vnd.google.colaboratory.intrinsic+json": {
              "type": "string"
            }
          },
          "metadata": {},
          "execution_count": 29
        }
      ],
      "source": [
        "lazy_ha_regex = re.compile(r'(Ha){3,5}?')\n",
        "mo2 = lazy_ha_regex.search(r'HaHaHaHaHa')\n",
        "mo2.group()"
      ]
    },
    {
      "cell_type": "markdown",
      "metadata": {
        "id": "aJ5r9JUe9JPX"
      },
      "source": [
        "正規表現において `?` が「任意グループの指定」と「非貪欲マッチ」の2種類の意味を持つことに注意しましょう。"
      ]
    },
    {
      "cell_type": "markdown",
      "metadata": {
        "id": "IFpwnZXqGIut"
      },
      "source": [
        "## `findall()` メソッド\n",
        "\n",
        "今までは `Regex` オブジェクトにおける `search()` を主に用いてきましたが，他に `findall()` メソッドがあります。"
      ]
    },
    {
      "cell_type": "code",
      "execution_count": null,
      "metadata": {
        "id": "cxV9lCiiGcZY",
        "colab": {
          "base_uri": "https://localhost:8080/",
          "height": 35
        },
        "outputId": "3413cb91-6001-4016-e67c-16e073d44bdf"
      },
      "outputs": [
        {
          "output_type": "execute_result",
          "data": {
            "text/plain": [
              "'55-4433'"
            ],
            "application/vnd.google.colaboratory.intrinsic+json": {
              "type": "string"
            }
          },
          "metadata": {},
          "execution_count": 30
        }
      ],
      "source": [
        "phone_num_regex = re.compile(r'\\d\\d-\\d\\d\\d\\d')\n",
        "mo = phone_num_regex.search('自宅の電話番号は 55-4433 です。会社の電話番号は 23-4234 です。')\n",
        "mo.group()"
      ]
    },
    {
      "cell_type": "markdown",
      "metadata": {
        "id": "7erS09TiISf1"
      },
      "source": [
        "`search()` は最初に見つかった `Match` オブジェクトを返すのに対して `findall()` は文字列のリストを返します。リストの各要素はマッチした文字列です。"
      ]
    },
    {
      "cell_type": "code",
      "execution_count": null,
      "metadata": {
        "id": "iHcQKXcgGq-e",
        "colab": {
          "base_uri": "https://localhost:8080/"
        },
        "outputId": "a4830ae2-8727-4018-a651-a84069d4d5a3"
      },
      "outputs": [
        {
          "output_type": "execute_result",
          "data": {
            "text/plain": [
              "['55-4433', '23-4234']"
            ]
          },
          "metadata": {},
          "execution_count": 31
        }
      ],
      "source": [
        "phone_num_regex = re.compile(r'\\d\\d-\\d\\d\\d\\d')\n",
        "phone_num_regex.findall('自宅の電話番号は 55-4433 です。会社の電話番号は 23-4234 です。')"
      ]
    },
    {
      "cell_type": "markdown",
      "metadata": {
        "id": "VgLvW999JJfd"
      },
      "source": [
        "正規表現にグループが含まれている場合 `findall()` はタプルのリストを返します。各タプルの要素は，正規表現のグループに対応しマッチした文字列です。 `findall()` の動作を確認しましょう。"
      ]
    },
    {
      "cell_type": "code",
      "execution_count": null,
      "metadata": {
        "id": "x5JiCAamJKDZ",
        "colab": {
          "base_uri": "https://localhost:8080/"
        },
        "outputId": "f1142b5f-db11-4890-d07e-843872919332"
      },
      "outputs": [
        {
          "output_type": "execute_result",
          "data": {
            "text/plain": [
              "[('(0345)', '55-4433'), ('(0120)', '23-4234')]"
            ]
          },
          "metadata": {},
          "execution_count": 32
        }
      ],
      "source": [
        "phone_num_regex = re.compile(r'(\\(\\d\\d\\d\\d\\)) (\\d\\d-\\d\\d\\d\\d)')\n",
        "mo = phone_num_regex.findall('自宅の電話番号は (0345) 55-4433 です。会社の電話番号は (0120) 23-4234 です。')\n",
        "mo"
      ]
    },
    {
      "cell_type": "markdown",
      "metadata": {
        "id": "20pA9OIFKO0a"
      },
      "source": [
        "`findall()` メソッドの返り値についてのまとめです。\n",
        "\n",
        "- グループのない正規表現の場合，マッチした文字列のリストを返す。\n",
        "- グループのある正規表現の場合，グループに対応した文字列のタプルのリストを返す。"
      ]
    },
    {
      "cell_type": "markdown",
      "metadata": {
        "id": "Xn8VxLhzLGy3"
      },
      "source": [
        "# 確認テスト\n",
        "\n",
        "- 東京都の電話番号にマッチする正規表現を書いてください。東京都の電話番号とは `03-1234-5678` のように市外局番 `03` のあとに数字4ケタ，ハイフン，数字4ケタの順で続くものとします。\n",
        "- `東京` と `京都` と `京` と `東京都` にマッチする正規表現を書いてください。"
      ]
    },
    {
      "cell_type": "code",
      "execution_count": null,
      "metadata": {
        "id": "RKRig8AIEf3Z",
        "colab": {
          "base_uri": "https://localhost:8080/"
        },
        "outputId": "733ae3e9-9c01-4c59-ca6b-7774e09129ad"
      },
      "outputs": [
        {
          "output_type": "stream",
          "name": "stdout",
          "text": [
            "マッチした電話番号が見つかりました: 03-1234-5678\n"
          ]
        }
      ],
      "source": [
        "# 確認テスト (1)\n",
        "import re\n",
        "mo = re.search(\n",
        "    r'03-\\d\\d\\d\\d-\\d\\d\\d\\d'# <- ここに正規表現を書きます (ここに記入した内容を回答フォームに登録してください)\n",
        "    , '東京オフィス:03-1234-5678、大阪オフィス:06-1234-5678')\n",
        "print(f'マッチした電話番号が見つかりました: {mo.group()}')"
      ]
    },
    {
      "cell_type": "code",
      "execution_count": null,
      "metadata": {
        "id": "d97_aA3KEf3a",
        "colab": {
          "base_uri": "https://localhost:8080/"
        },
        "outputId": "adb29ae3-21de-493b-8422-3daed2beb50d"
      },
      "outputs": [
        {
          "output_type": "stream",
          "name": "stdout",
          "text": [
            "マッチした文字列が見つかりました: ['東京', '東京都', '京都', '京']\n"
          ]
        }
      ],
      "source": [
        "# 確認テスト (2)\n",
        "import re\n",
        "mo = re.findall(\n",
        "    r'(東?京{1}都?)'# <- ここに正規表現を書きます (ここに記入した内容を回答フォームに登録してください)\n",
        "    , '弊社は東京オフィスが東京都千代田区にあり、京都オフィスがプラザ京にあります。')\n",
        "print(f'マッチした文字列が見つかりました: {mo}')"
      ]
    },
    {
      "cell_type": "markdown",
      "source": [
        "# 新しいセクション"
      ],
      "metadata": {
        "id": "QVTTcWEy_oKc"
      }
    }
  ],
  "metadata": {
    "colab": {
      "provenance": []
    },
    "kernelspec": {
      "display_name": "Python 3",
      "name": "python3"
    },
    "language_info": {
      "codemirror_mode": {
        "name": "ipython",
        "version": 3
      },
      "file_extension": ".py",
      "mimetype": "text/x-python",
      "name": "python",
      "nbconvert_exporter": "python",
      "pygments_lexer": "ipython3",
      "version": "3.9.6"
    }
  },
  "nbformat": 4,
  "nbformat_minor": 0
}